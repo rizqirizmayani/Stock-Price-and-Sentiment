{
  "cells": [
    {
      "cell_type": "markdown",
      "metadata": {
        "id": "vPT3Hx-p-5vq"
      },
      "source": [
        "# DATASET PREPARATION"
      ]
    },
    {
      "cell_type": "markdown",
      "metadata": {
        "id": "4FdFJ3q5-99s"
      },
      "source": [
        "## **SCRAPING TWEET SENTIMENT**"
      ]
    },
    {
      "cell_type": "markdown",
      "metadata": {
        "id": "OCK1kePS_GJZ"
      },
      "source": [
        "### **I. IMPORT LIBRARIES**"
      ]
    },
    {
      "cell_type": "code",
      "execution_count": null,
      "metadata": {
        "id": "fUkIs8DK9S5N"
      },
      "outputs": [],
      "source": [
        "!pip install snscrape\n",
        "!pip install demoji\n",
        "!pip install transformers\n",
        "!pip install transformers[sentencepiece]"
      ]
    },
    {
      "cell_type": "code",
      "execution_count": 2,
      "metadata": {
        "id": "npmTzRfL_KHG"
      },
      "outputs": [],
      "source": [
        "import snscrape.modules.twitter as sntwitter\n",
        "import pandas as pd\n",
        "import demoji\n",
        "import re\n",
        "import string\n",
        "from nltk.corpus import stopwords, wordnet\n",
        "from nltk.stem import WordNetLemmatizer\n",
        "from nltk.tokenize import TweetTokenizer\n",
        "from nltk.tag import pos_tag\n",
        "import attr\n",
        "import nltk\n",
        "import pandas as pd\n",
        "import numpy as np\n",
        "import matplotlib.pyplot as plt\n",
        "import seaborn as sns\n",
        "from transformers import AutoModelForSequenceClassification\n",
        "from transformers import TFAutoModelForSequenceClassification\n",
        "from transformers import AutoTokenizer, AutoConfig\n",
        "import numpy as np\n",
        "from scipy.special import softmax"
      ]
    },
    {
      "cell_type": "markdown",
      "metadata": {
        "id": "SRE6oqEx_c06"
      },
      "source": [
        "### **II. SCRAPING**"
      ]
    },
    {
      "cell_type": "code",
      "execution_count": 3,
      "metadata": {
        "id": "7a78q2Qs_ZG2"
      },
      "outputs": [],
      "source": [
        "# Creating list to append tweet data to\n",
        "attributes_container = []\n",
        "\n",
        "# Using TwitterSearchScraper to scrape data and append tweets to list\n",
        "for i,tweet in enumerate(sntwitter.TwitterSearchScraper('#AAPL since:2020-01-01 until:2021-01-01 lang:en').get_items()):\n",
        "    attributes_container.append([tweet.user.username, tweet.date, tweet.likeCount, tweet.sourceLabel, tweet.content])\n",
        "    \n",
        "# Creating a dataframe to load the list\n",
        "tweets_df_2020 = pd.DataFrame(attributes_container, columns=[\"User\", \"Date Created\", \"Number of Likes\", \"Source of Tweet\", \"Tweet\"])"
      ]
    },
    {
      "cell_type": "code",
      "execution_count": 4,
      "metadata": {
        "colab": {
          "base_uri": "https://localhost:8080/",
          "height": 659
        },
        "id": "mBd4sbx2_uxV",
        "outputId": "1fd97268-d032-4292-c628-fbb9dc4bd190"
      },
      "outputs": [
        {
          "data": {
            "text/html": [
              "\n",
              "  <div id=\"df-cfe626c7-f78a-4c46-b5f2-c84e5c5bc049\">\n",
              "    <div class=\"colab-df-container\">\n",
              "      <div>\n",
              "<style scoped>\n",
              "    .dataframe tbody tr th:only-of-type {\n",
              "        vertical-align: middle;\n",
              "    }\n",
              "\n",
              "    .dataframe tbody tr th {\n",
              "        vertical-align: top;\n",
              "    }\n",
              "\n",
              "    .dataframe thead th {\n",
              "        text-align: right;\n",
              "    }\n",
              "</style>\n",
              "<table border=\"1\" class=\"dataframe\">\n",
              "  <thead>\n",
              "    <tr style=\"text-align: right;\">\n",
              "      <th></th>\n",
              "      <th>User</th>\n",
              "      <th>Date Created</th>\n",
              "      <th>Number of Likes</th>\n",
              "      <th>Source of Tweet</th>\n",
              "      <th>Tweet</th>\n",
              "    </tr>\n",
              "  </thead>\n",
              "  <tbody>\n",
              "    <tr>\n",
              "      <th>0</th>\n",
              "      <td>aapltrdng</td>\n",
              "      <td>2020-12-31 23:24:42+00:00</td>\n",
              "      <td>5</td>\n",
              "      <td>Twitter for iPhone</td>\n",
              "      <td>LETS BEGIN, BE BOLD AND VENTURE TO BE WISE,\\nH...</td>\n",
              "    </tr>\n",
              "    <tr>\n",
              "      <th>1</th>\n",
              "      <td>XtradesOfficial</td>\n",
              "      <td>2020-12-31 21:07:15+00:00</td>\n",
              "      <td>0</td>\n",
              "      <td>Xtrades</td>\n",
              "      <td>Bad trading month of December, New Years resol...</td>\n",
              "    </tr>\n",
              "    <tr>\n",
              "      <th>2</th>\n",
              "      <td>KDRod24</td>\n",
              "      <td>2020-12-31 20:54:16+00:00</td>\n",
              "      <td>0</td>\n",
              "      <td>Twitter for iPhone</td>\n",
              "      <td>$AAPL If it breaks above 133.70, it’s on! 📈🚀🚀🚀...</td>\n",
              "    </tr>\n",
              "    <tr>\n",
              "      <th>3</th>\n",
              "      <td>dailytradingapp</td>\n",
              "      <td>2020-12-31 19:57:34+00:00</td>\n",
              "      <td>0</td>\n",
              "      <td>dlvr.it</td>\n",
              "      <td>#AAPL #ACB Benzinga's 2020 Year In Review: Cor...</td>\n",
              "    </tr>\n",
              "    <tr>\n",
              "      <th>4</th>\n",
              "      <td>elliottwaves</td>\n",
              "      <td>2020-12-31 19:24:06+00:00</td>\n",
              "      <td>0</td>\n",
              "      <td>Twitter Web App</td>\n",
              "      <td>#Free Trial available at https://t.co/x2kmaKA6...</td>\n",
              "    </tr>\n",
              "    <tr>\n",
              "      <th>...</th>\n",
              "      <td>...</td>\n",
              "      <td>...</td>\n",
              "      <td>...</td>\n",
              "      <td>...</td>\n",
              "      <td>...</td>\n",
              "    </tr>\n",
              "    <tr>\n",
              "      <th>14412</th>\n",
              "      <td>jddwriter</td>\n",
              "      <td>2020-01-01 01:30:11+00:00</td>\n",
              "      <td>0</td>\n",
              "      <td>Hootsuite Inc.</td>\n",
              "      <td>Made one big mistake Day Trading Apple (AAPL) ...</td>\n",
              "    </tr>\n",
              "    <tr>\n",
              "      <th>14413</th>\n",
              "      <td>elliottwaves</td>\n",
              "      <td>2020-01-01 01:26:34+00:00</td>\n",
              "      <td>1</td>\n",
              "      <td>StockTwits Web</td>\n",
              "      <td>4 &amp;amp; 1 hour charts for all 78 instruments a...</td>\n",
              "    </tr>\n",
              "    <tr>\n",
              "      <th>14414</th>\n",
              "      <td>elliottwaves</td>\n",
              "      <td>2020-01-01 01:24:41+00:00</td>\n",
              "      <td>0</td>\n",
              "      <td>StockTwits Web</td>\n",
              "      <td>4 &amp;amp; 1 hour charts for the Group 3 instrume...</td>\n",
              "    </tr>\n",
              "    <tr>\n",
              "      <th>14415</th>\n",
              "      <td>iotafmarkets</td>\n",
              "      <td>2020-01-01 00:56:57+00:00</td>\n",
              "      <td>1</td>\n",
              "      <td>Twitter for iPhone</td>\n",
              "      <td>Top 10 trades of the decade: Number 4: Going l...</td>\n",
              "    </tr>\n",
              "    <tr>\n",
              "      <th>14416</th>\n",
              "      <td>ElliottForecast</td>\n",
              "      <td>2020-01-01 00:24:13+00:00</td>\n",
              "      <td>1</td>\n",
              "      <td>StockTwits Web</td>\n",
              "      <td>4 &amp;amp; 1  hour charts for all 78 instruments ...</td>\n",
              "    </tr>\n",
              "  </tbody>\n",
              "</table>\n",
              "<p>14417 rows × 5 columns</p>\n",
              "</div>\n",
              "      <button class=\"colab-df-convert\" onclick=\"convertToInteractive('df-cfe626c7-f78a-4c46-b5f2-c84e5c5bc049')\"\n",
              "              title=\"Convert this dataframe to an interactive table.\"\n",
              "              style=\"display:none;\">\n",
              "        \n",
              "  <svg xmlns=\"http://www.w3.org/2000/svg\" height=\"24px\"viewBox=\"0 0 24 24\"\n",
              "       width=\"24px\">\n",
              "    <path d=\"M0 0h24v24H0V0z\" fill=\"none\"/>\n",
              "    <path d=\"M18.56 5.44l.94 2.06.94-2.06 2.06-.94-2.06-.94-.94-2.06-.94 2.06-2.06.94zm-11 1L8.5 8.5l.94-2.06 2.06-.94-2.06-.94L8.5 2.5l-.94 2.06-2.06.94zm10 10l.94 2.06.94-2.06 2.06-.94-2.06-.94-.94-2.06-.94 2.06-2.06.94z\"/><path d=\"M17.41 7.96l-1.37-1.37c-.4-.4-.92-.59-1.43-.59-.52 0-1.04.2-1.43.59L10.3 9.45l-7.72 7.72c-.78.78-.78 2.05 0 2.83L4 21.41c.39.39.9.59 1.41.59.51 0 1.02-.2 1.41-.59l7.78-7.78 2.81-2.81c.8-.78.8-2.07 0-2.86zM5.41 20L4 18.59l7.72-7.72 1.47 1.35L5.41 20z\"/>\n",
              "  </svg>\n",
              "      </button>\n",
              "      \n",
              "  <style>\n",
              "    .colab-df-container {\n",
              "      display:flex;\n",
              "      flex-wrap:wrap;\n",
              "      gap: 12px;\n",
              "    }\n",
              "\n",
              "    .colab-df-convert {\n",
              "      background-color: #E8F0FE;\n",
              "      border: none;\n",
              "      border-radius: 50%;\n",
              "      cursor: pointer;\n",
              "      display: none;\n",
              "      fill: #1967D2;\n",
              "      height: 32px;\n",
              "      padding: 0 0 0 0;\n",
              "      width: 32px;\n",
              "    }\n",
              "\n",
              "    .colab-df-convert:hover {\n",
              "      background-color: #E2EBFA;\n",
              "      box-shadow: 0px 1px 2px rgba(60, 64, 67, 0.3), 0px 1px 3px 1px rgba(60, 64, 67, 0.15);\n",
              "      fill: #174EA6;\n",
              "    }\n",
              "\n",
              "    [theme=dark] .colab-df-convert {\n",
              "      background-color: #3B4455;\n",
              "      fill: #D2E3FC;\n",
              "    }\n",
              "\n",
              "    [theme=dark] .colab-df-convert:hover {\n",
              "      background-color: #434B5C;\n",
              "      box-shadow: 0px 1px 3px 1px rgba(0, 0, 0, 0.15);\n",
              "      filter: drop-shadow(0px 1px 2px rgba(0, 0, 0, 0.3));\n",
              "      fill: #FFFFFF;\n",
              "    }\n",
              "  </style>\n",
              "\n",
              "      <script>\n",
              "        const buttonEl =\n",
              "          document.querySelector('#df-cfe626c7-f78a-4c46-b5f2-c84e5c5bc049 button.colab-df-convert');\n",
              "        buttonEl.style.display =\n",
              "          google.colab.kernel.accessAllowed ? 'block' : 'none';\n",
              "\n",
              "        async function convertToInteractive(key) {\n",
              "          const element = document.querySelector('#df-cfe626c7-f78a-4c46-b5f2-c84e5c5bc049');\n",
              "          const dataTable =\n",
              "            await google.colab.kernel.invokeFunction('convertToInteractive',\n",
              "                                                     [key], {});\n",
              "          if (!dataTable) return;\n",
              "\n",
              "          const docLinkHtml = 'Like what you see? Visit the ' +\n",
              "            '<a target=\"_blank\" href=https://colab.research.google.com/notebooks/data_table.ipynb>data table notebook</a>'\n",
              "            + ' to learn more about interactive tables.';\n",
              "          element.innerHTML = '';\n",
              "          dataTable['output_type'] = 'display_data';\n",
              "          await google.colab.output.renderOutput(dataTable, element);\n",
              "          const docLink = document.createElement('div');\n",
              "          docLink.innerHTML = docLinkHtml;\n",
              "          element.appendChild(docLink);\n",
              "        }\n",
              "      </script>\n",
              "    </div>\n",
              "  </div>\n",
              "  "
            ],
            "text/plain": [
              "                  User              Date Created  Number of Likes  \\\n",
              "0            aapltrdng 2020-12-31 23:24:42+00:00                5   \n",
              "1      XtradesOfficial 2020-12-31 21:07:15+00:00                0   \n",
              "2              KDRod24 2020-12-31 20:54:16+00:00                0   \n",
              "3      dailytradingapp 2020-12-31 19:57:34+00:00                0   \n",
              "4         elliottwaves 2020-12-31 19:24:06+00:00                0   \n",
              "...                ...                       ...              ...   \n",
              "14412        jddwriter 2020-01-01 01:30:11+00:00                0   \n",
              "14413     elliottwaves 2020-01-01 01:26:34+00:00                1   \n",
              "14414     elliottwaves 2020-01-01 01:24:41+00:00                0   \n",
              "14415     iotafmarkets 2020-01-01 00:56:57+00:00                1   \n",
              "14416  ElliottForecast 2020-01-01 00:24:13+00:00                1   \n",
              "\n",
              "          Source of Tweet                                              Tweet  \n",
              "0      Twitter for iPhone  LETS BEGIN, BE BOLD AND VENTURE TO BE WISE,\\nH...  \n",
              "1                 Xtrades  Bad trading month of December, New Years resol...  \n",
              "2      Twitter for iPhone  $AAPL If it breaks above 133.70, it’s on! 📈🚀🚀🚀...  \n",
              "3                 dlvr.it  #AAPL #ACB Benzinga's 2020 Year In Review: Cor...  \n",
              "4         Twitter Web App  #Free Trial available at https://t.co/x2kmaKA6...  \n",
              "...                   ...                                                ...  \n",
              "14412      Hootsuite Inc.  Made one big mistake Day Trading Apple (AAPL) ...  \n",
              "14413      StockTwits Web  4 &amp; 1 hour charts for all 78 instruments a...  \n",
              "14414      StockTwits Web  4 &amp; 1 hour charts for the Group 3 instrume...  \n",
              "14415  Twitter for iPhone  Top 10 trades of the decade: Number 4: Going l...  \n",
              "14416      StockTwits Web  4 &amp; 1  hour charts for all 78 instruments ...  \n",
              "\n",
              "[14417 rows x 5 columns]"
            ]
          },
          "execution_count": 4,
          "metadata": {},
          "output_type": "execute_result"
        }
      ],
      "source": [
        "tweets_df_2020"
      ]
    },
    {
      "cell_type": "code",
      "execution_count": 5,
      "metadata": {
        "colab": {
          "base_uri": "https://localhost:8080/"
        },
        "id": "dOhiLscx_7Px",
        "outputId": "b1bae3e2-6834-42f7-c9c6-797b0171a83d"
      },
      "outputs": [
        {
          "data": {
            "text/plain": [
              "User               0\n",
              "Date Created       0\n",
              "Number of Likes    0\n",
              "Source of Tweet    0\n",
              "Tweet              0\n",
              "dtype: int64"
            ]
          },
          "execution_count": 5,
          "metadata": {},
          "output_type": "execute_result"
        }
      ],
      "source": [
        "tweets_df_2020.isnull().sum()"
      ]
    },
    {
      "cell_type": "markdown",
      "metadata": {
        "id": "JpdIsxXLAOCV"
      },
      "source": [
        "### **III. NLP**"
      ]
    },
    {
      "cell_type": "code",
      "execution_count": 6,
      "metadata": {
        "colab": {
          "base_uri": "https://localhost:8080/"
        },
        "id": "Za_Kd-wIAOaD",
        "outputId": "fb395438-6636-46f5-84c3-b81380a6a540"
      },
      "outputs": [
        {
          "name": "stderr",
          "output_type": "stream",
          "text": [
            "[nltk_data] Downloading package omw-1.4 to /root/nltk_data...\n"
          ]
        },
        {
          "data": {
            "text/plain": [
              "True"
            ]
          },
          "execution_count": 6,
          "metadata": {},
          "output_type": "execute_result"
        }
      ],
      "source": [
        "nltk.download('omw-1.4')"
      ]
    },
    {
      "cell_type": "code",
      "execution_count": 7,
      "metadata": {
        "colab": {
          "base_uri": "https://localhost:8080/"
        },
        "id": "sbxyx5KlATh1",
        "outputId": "c4c4508f-71fc-484b-d18e-62f28de2e375"
      },
      "outputs": [
        {
          "name": "stderr",
          "output_type": "stream",
          "text": [
            "[nltk_data] Downloading package averaged_perceptron_tagger to\n",
            "[nltk_data]     /root/nltk_data...\n",
            "[nltk_data]   Unzipping taggers/averaged_perceptron_tagger.zip.\n"
          ]
        },
        {
          "data": {
            "text/plain": [
              "True"
            ]
          },
          "execution_count": 7,
          "metadata": {},
          "output_type": "execute_result"
        }
      ],
      "source": [
        "nltk.download('averaged_perceptron_tagger')"
      ]
    },
    {
      "cell_type": "code",
      "execution_count": 8,
      "metadata": {
        "colab": {
          "base_uri": "https://localhost:8080/"
        },
        "id": "DouL5nEmAVIx",
        "outputId": "a7efde80-98e0-47f2-efc3-531f8d6946cd"
      },
      "outputs": [
        {
          "name": "stderr",
          "output_type": "stream",
          "text": [
            "[nltk_data] Downloading package wordnet to /root/nltk_data...\n"
          ]
        },
        {
          "data": {
            "text/plain": [
              "True"
            ]
          },
          "execution_count": 8,
          "metadata": {},
          "output_type": "execute_result"
        }
      ],
      "source": [
        "nltk.download('wordnet')"
      ]
    },
    {
      "cell_type": "code",
      "execution_count": 9,
      "metadata": {
        "colab": {
          "base_uri": "https://localhost:8080/"
        },
        "id": "Vy7VLxoFAXGU",
        "outputId": "547c2163-3c77-4b50-87bf-312a6c430dab"
      },
      "outputs": [
        {
          "name": "stderr",
          "output_type": "stream",
          "text": [
            "[nltk_data] Downloading package stopwords to /root/nltk_data...\n",
            "[nltk_data]   Unzipping corpora/stopwords.zip.\n"
          ]
        },
        {
          "data": {
            "text/plain": [
              "True"
            ]
          },
          "execution_count": 9,
          "metadata": {},
          "output_type": "execute_result"
        }
      ],
      "source": [
        "nltk.download('stopwords')"
      ]
    },
    {
      "cell_type": "code",
      "execution_count": 10,
      "metadata": {
        "id": "gqxM_Kr3AZLG"
      },
      "outputs": [],
      "source": [
        "# This function is used to pass the POS tage for each word passed through clean_text function\n",
        "def get_wordnet_pos(word):\n",
        "    \"\"\"Map POS tag to first character lemmatize() accepts\"\"\"\n",
        "    tag = pos_tag([word])[0][1][0].upper()\n",
        "    tag_dict = {\"J\": wordnet.ADJ,\n",
        "                \"N\": wordnet.NOUN,\n",
        "                \"V\": wordnet.VERB,\n",
        "                \"R\": wordnet.ADV}\n",
        "\n",
        "    return tag_dict.get(tag, wordnet.NOUN)"
      ]
    },
    {
      "cell_type": "code",
      "execution_count": 11,
      "metadata": {
        "id": "VebG00zfAb9f"
      },
      "outputs": [],
      "source": [
        "# Cleaning tweets\n",
        "def clean_text(text):\n",
        "    # Initialization the twitter tokenizer\n",
        "    tk = TweetTokenizer(preserve_case=False, strip_handles=True,reduce_len=True) \n",
        "    # Initialization the lemmatizer\n",
        "    lemmatizer = WordNetLemmatizer()  \n",
        "    # Trying to avoid deleting the negative verbs as it affects the meaning of the tweets.\n",
        "    stop_words = stopwords.words('english') + [\"i'll\",\"i'm\", \"should\", \"could\"]\n",
        "    negative_verbs = [ \"shan't\",'shouldn',\"shouldn't\",'wasn','weren','won','wouldn','aren','couldn','didn','doesn','hadn','hasn','haven','isn','ma','mightn','mustn',\"mustn't\",'needn',\"needn't\",\"wouldn't\",\"won't\",\"weren't\",\"wasn't\",\"couldn\",\"not\",\"nor\",\"no\",\"mightn't\",\"isn't\",\"haven't\",\"hadn't\",\"hasn't\",\"didn't\",\"doesn't\",\"aren't\",\"don't\",\"couldn't\",\"never\"]\n",
        "    stop_words =[word for word in stop_words if word not in negative_verbs ] \n",
        "    \n",
        "    # Lowering tweets\n",
        "    lower_tweet = text.lower() \n",
        "    # Removing hashtag and cashtag symbols\n",
        "    tweet = re.sub(r\"[#$]\",\" \",lower_tweet)\n",
        "    # Removing links from tweets\n",
        "    tweet = re.sub(r\"https?:\\/\\/.*[\\r\\n]*\",\" \", tweet)\n",
        "    # Translating emojies into thier descriptions\n",
        "    tweet = demoji.replace_with_desc(tweet)\n",
        "    # removing numerical values\n",
        "    tweet = re.sub(r\"[0-9]|-->\",\"\",tweet)\n",
        "    # Tokenize the tweets by twitter tokenzier.\n",
        "    tweet = tk.tokenize(tweet)\n",
        "    # Choosing the words that don't exist in stopwords, thier lengths are more than 2 letters and then lemmatize them.\n",
        "    tweet = [lemmatizer.lemmatize(word, get_wordnet_pos(word)) for word in tweet if word not in stop_words and word not in string.punctuation and len(word)>2 and \".\" not in word]\n",
        "    # return the tokens in one sentence \n",
        "    tweet = \" \".join(tweet)\n",
        "    \n",
        "    return tweet"
      ]
    },
    {
      "cell_type": "code",
      "execution_count": 12,
      "metadata": {
        "id": "AaA6-ByEAfMP"
      },
      "outputs": [],
      "source": [
        "# Applying text cleaning and then downloading it on the current folder\n",
        "tweets_df_2020['cleaned'] = tweets_df_2020[\"Tweet\"].apply(lambda row:clean_text(row))\n",
        "tweets_df_2020.to_csv(\"CleanedNTweets2020.csv\",index=False)"
      ]
    },
    {
      "cell_type": "code",
      "execution_count": 13,
      "metadata": {
        "colab": {
          "base_uri": "https://localhost:8080/",
          "height": 389
        },
        "id": "NsXoKD0bAg1-",
        "outputId": "ce0e0248-943b-4872-a7e1-6ec2cddcfe32"
      },
      "outputs": [
        {
          "data": {
            "text/html": [
              "\n",
              "  <div id=\"df-c8896eda-ab16-4e14-ba92-2bec29dad6cb\">\n",
              "    <div class=\"colab-df-container\">\n",
              "      <div>\n",
              "<style scoped>\n",
              "    .dataframe tbody tr th:only-of-type {\n",
              "        vertical-align: middle;\n",
              "    }\n",
              "\n",
              "    .dataframe tbody tr th {\n",
              "        vertical-align: top;\n",
              "    }\n",
              "\n",
              "    .dataframe thead th {\n",
              "        text-align: right;\n",
              "    }\n",
              "</style>\n",
              "<table border=\"1\" class=\"dataframe\">\n",
              "  <thead>\n",
              "    <tr style=\"text-align: right;\">\n",
              "      <th></th>\n",
              "      <th>User</th>\n",
              "      <th>Date Created</th>\n",
              "      <th>Number of Likes</th>\n",
              "      <th>Source of Tweet</th>\n",
              "      <th>Tweet</th>\n",
              "      <th>cleaned</th>\n",
              "    </tr>\n",
              "  </thead>\n",
              "  <tbody>\n",
              "    <tr>\n",
              "      <th>0</th>\n",
              "      <td>aapltrdng</td>\n",
              "      <td>2020-12-31 23:24:42+00:00</td>\n",
              "      <td>5</td>\n",
              "      <td>Twitter for iPhone</td>\n",
              "      <td>LETS BEGIN, BE BOLD AND VENTURE TO BE WISE,\\nH...</td>\n",
              "      <td>let begin bold venture wise happy new year red...</td>\n",
              "    </tr>\n",
              "    <tr>\n",
              "      <th>1</th>\n",
              "      <td>XtradesOfficial</td>\n",
              "      <td>2020-12-31 21:07:15+00:00</td>\n",
              "      <td>0</td>\n",
              "      <td>Xtrades</td>\n",
              "      <td>Bad trading month of December, New Years resol...</td>\n",
              "      <td>bad trading month december new year resolution...</td>\n",
              "    </tr>\n",
              "    <tr>\n",
              "      <th>2</th>\n",
              "      <td>KDRod24</td>\n",
              "      <td>2020-12-31 20:54:16+00:00</td>\n",
              "      <td>0</td>\n",
              "      <td>Twitter for iPhone</td>\n",
              "      <td>$AAPL If it breaks above 133.70, it’s on! 📈🚀🚀🚀...</td>\n",
              "      <td>aapl break chart increase rocket rocket rocket...</td>\n",
              "    </tr>\n",
              "    <tr>\n",
              "      <th>3</th>\n",
              "      <td>dailytradingapp</td>\n",
              "      <td>2020-12-31 19:57:34+00:00</td>\n",
              "      <td>0</td>\n",
              "      <td>dlvr.it</td>\n",
              "      <td>#AAPL #ACB Benzinga's 2020 Year In Review: Cor...</td>\n",
              "      <td>aapl acb benzinga's year review coronavirus ma...</td>\n",
              "    </tr>\n",
              "    <tr>\n",
              "      <th>4</th>\n",
              "      <td>elliottwaves</td>\n",
              "      <td>2020-12-31 19:24:06+00:00</td>\n",
              "      <td>0</td>\n",
              "      <td>Twitter Web App</td>\n",
              "      <td>#Free Trial available at https://t.co/x2kmaKA6...</td>\n",
              "      <td>free trial available</td>\n",
              "    </tr>\n",
              "  </tbody>\n",
              "</table>\n",
              "</div>\n",
              "      <button class=\"colab-df-convert\" onclick=\"convertToInteractive('df-c8896eda-ab16-4e14-ba92-2bec29dad6cb')\"\n",
              "              title=\"Convert this dataframe to an interactive table.\"\n",
              "              style=\"display:none;\">\n",
              "        \n",
              "  <svg xmlns=\"http://www.w3.org/2000/svg\" height=\"24px\"viewBox=\"0 0 24 24\"\n",
              "       width=\"24px\">\n",
              "    <path d=\"M0 0h24v24H0V0z\" fill=\"none\"/>\n",
              "    <path d=\"M18.56 5.44l.94 2.06.94-2.06 2.06-.94-2.06-.94-.94-2.06-.94 2.06-2.06.94zm-11 1L8.5 8.5l.94-2.06 2.06-.94-2.06-.94L8.5 2.5l-.94 2.06-2.06.94zm10 10l.94 2.06.94-2.06 2.06-.94-2.06-.94-.94-2.06-.94 2.06-2.06.94z\"/><path d=\"M17.41 7.96l-1.37-1.37c-.4-.4-.92-.59-1.43-.59-.52 0-1.04.2-1.43.59L10.3 9.45l-7.72 7.72c-.78.78-.78 2.05 0 2.83L4 21.41c.39.39.9.59 1.41.59.51 0 1.02-.2 1.41-.59l7.78-7.78 2.81-2.81c.8-.78.8-2.07 0-2.86zM5.41 20L4 18.59l7.72-7.72 1.47 1.35L5.41 20z\"/>\n",
              "  </svg>\n",
              "      </button>\n",
              "      \n",
              "  <style>\n",
              "    .colab-df-container {\n",
              "      display:flex;\n",
              "      flex-wrap:wrap;\n",
              "      gap: 12px;\n",
              "    }\n",
              "\n",
              "    .colab-df-convert {\n",
              "      background-color: #E8F0FE;\n",
              "      border: none;\n",
              "      border-radius: 50%;\n",
              "      cursor: pointer;\n",
              "      display: none;\n",
              "      fill: #1967D2;\n",
              "      height: 32px;\n",
              "      padding: 0 0 0 0;\n",
              "      width: 32px;\n",
              "    }\n",
              "\n",
              "    .colab-df-convert:hover {\n",
              "      background-color: #E2EBFA;\n",
              "      box-shadow: 0px 1px 2px rgba(60, 64, 67, 0.3), 0px 1px 3px 1px rgba(60, 64, 67, 0.15);\n",
              "      fill: #174EA6;\n",
              "    }\n",
              "\n",
              "    [theme=dark] .colab-df-convert {\n",
              "      background-color: #3B4455;\n",
              "      fill: #D2E3FC;\n",
              "    }\n",
              "\n",
              "    [theme=dark] .colab-df-convert:hover {\n",
              "      background-color: #434B5C;\n",
              "      box-shadow: 0px 1px 3px 1px rgba(0, 0, 0, 0.15);\n",
              "      filter: drop-shadow(0px 1px 2px rgba(0, 0, 0, 0.3));\n",
              "      fill: #FFFFFF;\n",
              "    }\n",
              "  </style>\n",
              "\n",
              "      <script>\n",
              "        const buttonEl =\n",
              "          document.querySelector('#df-c8896eda-ab16-4e14-ba92-2bec29dad6cb button.colab-df-convert');\n",
              "        buttonEl.style.display =\n",
              "          google.colab.kernel.accessAllowed ? 'block' : 'none';\n",
              "\n",
              "        async function convertToInteractive(key) {\n",
              "          const element = document.querySelector('#df-c8896eda-ab16-4e14-ba92-2bec29dad6cb');\n",
              "          const dataTable =\n",
              "            await google.colab.kernel.invokeFunction('convertToInteractive',\n",
              "                                                     [key], {});\n",
              "          if (!dataTable) return;\n",
              "\n",
              "          const docLinkHtml = 'Like what you see? Visit the ' +\n",
              "            '<a target=\"_blank\" href=https://colab.research.google.com/notebooks/data_table.ipynb>data table notebook</a>'\n",
              "            + ' to learn more about interactive tables.';\n",
              "          element.innerHTML = '';\n",
              "          dataTable['output_type'] = 'display_data';\n",
              "          await google.colab.output.renderOutput(dataTable, element);\n",
              "          const docLink = document.createElement('div');\n",
              "          docLink.innerHTML = docLinkHtml;\n",
              "          element.appendChild(docLink);\n",
              "        }\n",
              "      </script>\n",
              "    </div>\n",
              "  </div>\n",
              "  "
            ],
            "text/plain": [
              "              User               Date Created  Number of Likes  \\\n",
              "0        aapltrdng  2020-12-31 23:24:42+00:00                5   \n",
              "1  XtradesOfficial  2020-12-31 21:07:15+00:00                0   \n",
              "2          KDRod24  2020-12-31 20:54:16+00:00                0   \n",
              "3  dailytradingapp  2020-12-31 19:57:34+00:00                0   \n",
              "4     elliottwaves  2020-12-31 19:24:06+00:00                0   \n",
              "\n",
              "      Source of Tweet                                              Tweet  \\\n",
              "0  Twitter for iPhone  LETS BEGIN, BE BOLD AND VENTURE TO BE WISE,\\nH...   \n",
              "1             Xtrades  Bad trading month of December, New Years resol...   \n",
              "2  Twitter for iPhone  $AAPL If it breaks above 133.70, it’s on! 📈🚀🚀🚀...   \n",
              "3             dlvr.it  #AAPL #ACB Benzinga's 2020 Year In Review: Cor...   \n",
              "4     Twitter Web App  #Free Trial available at https://t.co/x2kmaKA6...   \n",
              "\n",
              "                                             cleaned  \n",
              "0  let begin bold venture wise happy new year red...  \n",
              "1  bad trading month december new year resolution...  \n",
              "2  aapl break chart increase rocket rocket rocket...  \n",
              "3  aapl acb benzinga's year review coronavirus ma...  \n",
              "4                               free trial available  "
            ]
          },
          "execution_count": 13,
          "metadata": {},
          "output_type": "execute_result"
        }
      ],
      "source": [
        "# Read the cleanedtweets file\n",
        "tweets2020 = pd.read_csv(\"CleanedNTweets2020.csv\")\n",
        "tweets2020.head()"
      ]
    },
    {
      "cell_type": "code",
      "execution_count": 14,
      "metadata": {
        "colab": {
          "base_uri": "https://localhost:8080/",
          "height": 321,
          "referenced_widgets": [
            "4954675cda38496ea7b4e00bdb629590",
            "42e51bef7a3a4b8d9d484451c6fb3cd4",
            "016ec3595b50417f986b0546ce4530ff",
            "d8eb0fc6690f40529b67f7d012d48ad4",
            "00b37768851f4f779bddc6e8f19e84ef",
            "c08fc949301c4ed2b7bc1a2bab1fae37",
            "21b33c80667e4c1eba56644e7bc73052",
            "7f1adf571f3b4152aa9829ab78193657",
            "2fd99304d1cb4ebdba4def3f8bcfafca",
            "5c6efcd95d294a8ca462c19bde5d8fc1",
            "d80026862a644d61bf27ddad6f8833f5",
            "8d01d2c3b4304207b593c106e33746d1",
            "a5591043cd0c405b9f0d8f776cc279d9",
            "a72d24078da4410fa7d28ea3cc9474e8",
            "db57e285355546afaea88d2182389a35",
            "1bdabac541634f618cefd5b11a263a92",
            "7f30786f9c0f48d9932d3b81950b93c6",
            "2234ed365d104226ab34e85adb6ba608",
            "32cdf6bbf2734d398be51a466bda4c45",
            "9eb910e5dbca418196d5fffb4b797b10",
            "d09ef60c2ce04613b881b89c32c6c887",
            "ea4f3cbd33b7476ca2fa4ccc6ca3200c",
            "ba5eeb36921e48539f5b13ed0bc2eb14",
            "daaf0cf076c84dafb2086673f0db54df",
            "ffc88f08b0be4b1fa19a4baf91d9d23a",
            "7a3404553d0f440ab8ff18167bfc05f4",
            "f3a52c03233f4bd8869f915b501ac035",
            "a329c8a55eae4bdb853feb9541046c94",
            "375a6cc99b2845b8a3d4e0f9d269f5b8",
            "d5533ac4ae1f4404909e363f5c76b63f",
            "b5418dd8868d4024a2731bcc2a8b7b49",
            "17917eba8d9043339efde47598c7849f",
            "526fd29445b3482e87b287c914f90417",
            "a1eeac85ccee462285f72a198a53f9e8",
            "dfcffc4205904d72a39aa50196688538",
            "a087fbf0d7f347c1a8ec7216605e4931",
            "13537ebe934a411481fcb49b3b2585a2",
            "ce9ed30128c04d749fcca648e3c63b63",
            "e93666f5a1d148f989296123220e3ae5",
            "61a6b46f3a474558bea4ca689cbf7f5b",
            "68dd632add2b44a5bfa128704f50454e",
            "6f8ec26a86c343e8b0be4248cca8c6d4",
            "5a64ea34c07a4b869992c6972e60e160",
            "2371c4f2a12a40dda08aeae3bd0b85ba"
          ]
        },
        "id": "24pa9scYAizS",
        "outputId": "007b6629-2335-4cb2-c147-b7eb7873308c"
      },
      "outputs": [
        {
          "data": {
            "application/vnd.jupyter.widget-view+json": {
              "model_id": "4954675cda38496ea7b4e00bdb629590",
              "version_major": 2,
              "version_minor": 0
            },
            "text/plain": [
              "Downloading:   0%|          | 0.00/841 [00:00<?, ?B/s]"
            ]
          },
          "metadata": {},
          "output_type": "display_data"
        },
        {
          "data": {
            "application/vnd.jupyter.widget-view+json": {
              "model_id": "8d01d2c3b4304207b593c106e33746d1",
              "version_major": 2,
              "version_minor": 0
            },
            "text/plain": [
              "Downloading:   0%|          | 0.00/5.07M [00:00<?, ?B/s]"
            ]
          },
          "metadata": {},
          "output_type": "display_data"
        },
        {
          "data": {
            "application/vnd.jupyter.widget-view+json": {
              "model_id": "ba5eeb36921e48539f5b13ed0bc2eb14",
              "version_major": 2,
              "version_minor": 0
            },
            "text/plain": [
              "Downloading:   0%|          | 0.00/150 [00:00<?, ?B/s]"
            ]
          },
          "metadata": {},
          "output_type": "display_data"
        },
        {
          "data": {
            "application/vnd.jupyter.widget-view+json": {
              "model_id": "a1eeac85ccee462285f72a198a53f9e8",
              "version_major": 2,
              "version_minor": 0
            },
            "text/plain": [
              "Downloading:   0%|          | 0.00/1.11G [00:00<?, ?B/s]"
            ]
          },
          "metadata": {},
          "output_type": "display_data"
        },
        {
          "name": "stderr",
          "output_type": "stream",
          "text": [
            "All model checkpoint layers were used when initializing TFXLMRobertaForSequenceClassification.\n",
            "\n",
            "All the layers of TFXLMRobertaForSequenceClassification were initialized from the model checkpoint at cardiffnlp/twitter-xlm-roberta-base-sentiment.\n",
            "If your task is similar to the task the model of the checkpoint was trained on, you can already use TFXLMRobertaForSequenceClassification for predictions without further training.\n"
          ]
        },
        {
          "data": {
            "text/plain": [
              "('cardiffnlp/twitter-xlm-roberta-base-sentiment/tokenizer_config.json',\n",
              " 'cardiffnlp/twitter-xlm-roberta-base-sentiment/special_tokens_map.json',\n",
              " 'cardiffnlp/twitter-xlm-roberta-base-sentiment/sentencepiece.bpe.model',\n",
              " 'cardiffnlp/twitter-xlm-roberta-base-sentiment/added_tokens.json',\n",
              " 'cardiffnlp/twitter-xlm-roberta-base-sentiment/tokenizer.json')"
            ]
          },
          "execution_count": 14,
          "metadata": {},
          "output_type": "execute_result"
        }
      ],
      "source": [
        "MODEL = f\"cardiffnlp/twitter-xlm-roberta-base-sentiment\"\n",
        "\n",
        "tokenizer = AutoTokenizer.from_pretrained(MODEL)\n",
        "config = AutoConfig.from_pretrained(MODEL)\n",
        "\n",
        "# TF\n",
        "model = TFAutoModelForSequenceClassification.from_pretrained(MODEL)\n",
        "model.save_pretrained(MODEL)\n",
        "tokenizer.save_pretrained(MODEL)"
      ]
    },
    {
      "cell_type": "code",
      "execution_count": 15,
      "metadata": {
        "id": "GWS_Lt2qAkTD"
      },
      "outputs": [],
      "source": [
        "def polarity(text):\n",
        "    encoded_input = tokenizer(str(text), return_tensors='tf')\n",
        "    output = model(encoded_input)\n",
        "    scores = output[0][0].numpy()\n",
        "    scores = softmax(scores)\n",
        "    \n",
        "    # Print labels and scores\n",
        "    ranking = np.argsort(scores)\n",
        "    ranking = ranking[::-1]\n",
        "    l = config.id2label[ranking[0]]\n",
        "    plrty = -1 if l == \"negative\" else 1 if l == \"positive\" else 0 \n",
        "    s = np.round(float(scores[ranking[0]]), 4)\n",
        "    return (l,plrty)"
      ]
    },
    {
      "cell_type": "code",
      "execution_count": 16,
      "metadata": {
        "id": "r0XGw7GnAmWD"
      },
      "outputs": [],
      "source": [
        "# downloading the file after applying sentiment analysis on the current folder\n",
        "tweets2020['label'], tweets2020['Polarity'] = zip(*tweets2020['cleaned'].apply(lambda txt:polarity(txt)))\n",
        "tweets2020.to_csv(\"polarizedTweets2020.csv\",index=False)"
      ]
    },
    {
      "cell_type": "markdown",
      "metadata": {
        "id": "DqZHtKvwCCVK"
      },
      "source": [
        "## **SCRAPING APPLE STOCK PRICE**"
      ]
    },
    {
      "cell_type": "markdown",
      "metadata": {
        "id": "koFI5cetCGkf"
      },
      "source": [
        "### **I. IMPORT LIBRARIES**"
      ]
    },
    {
      "cell_type": "code",
      "execution_count": null,
      "metadata": {
        "id": "f9WOBSN4dCL3"
      },
      "outputs": [],
      "source": [
        "!pip install yfinance"
      ]
    },
    {
      "cell_type": "code",
      "execution_count": 4,
      "metadata": {
        "id": "t6Jd6NGbB_O4"
      },
      "outputs": [],
      "source": [
        "import yfinance as yf"
      ]
    },
    {
      "cell_type": "markdown",
      "metadata": {
        "id": "_kltSypPCtos"
      },
      "source": [
        "### **II. SCRAPING**"
      ]
    },
    {
      "cell_type": "code",
      "execution_count": 5,
      "metadata": {
        "colab": {
          "base_uri": "https://localhost:8080/"
        },
        "id": "EQ3BqSO0CuEx",
        "outputId": "34c03bbe-7762-4551-9c2b-84698047ddc6"
      },
      "outputs": [
        {
          "name": "stdout",
          "output_type": "stream",
          "text": [
            "[*********************100%***********************]  1 of 1 completed\n"
          ]
        }
      ],
      "source": [
        "data_apple = yf.download(tickers=\"AAPL\", start='2020-01-01', end='2021-01-01', interval='1d')\n",
        "data_apple.to_csv('apple_stock.csv')"
      ]
    },
    {
      "cell_type": "markdown",
      "metadata": {
        "id": "AG65IjhnEHPD"
      },
      "source": [
        "## **COMBINE APPLE STOCK PRICE WITH TWEET SENTIMENT**"
      ]
    },
    {
      "cell_type": "code",
      "execution_count": 6,
      "metadata": {
        "colab": {
          "base_uri": "https://localhost:8080/",
          "height": 1000
        },
        "id": "WEPZkbkVEG5K",
        "outputId": "f4a0e6cc-3e4e-46c7-c8e0-2819e4248d48"
      },
      "outputs": [
        {
          "data": {
            "text/html": [
              "<div>\n",
              "<style scoped>\n",
              "    .dataframe tbody tr th:only-of-type {\n",
              "        vertical-align: middle;\n",
              "    }\n",
              "\n",
              "    .dataframe tbody tr th {\n",
              "        vertical-align: top;\n",
              "    }\n",
              "\n",
              "    .dataframe thead th {\n",
              "        text-align: right;\n",
              "    }\n",
              "</style>\n",
              "<table border=\"1\" class=\"dataframe\">\n",
              "  <thead>\n",
              "    <tr style=\"text-align: right;\">\n",
              "      <th></th>\n",
              "      <th>User</th>\n",
              "      <th>Date Created</th>\n",
              "      <th>Number of Likes</th>\n",
              "      <th>Source of Tweet</th>\n",
              "      <th>Tweet</th>\n",
              "      <th>cleaned</th>\n",
              "      <th>label</th>\n",
              "      <th>Polarity</th>\n",
              "    </tr>\n",
              "  </thead>\n",
              "  <tbody>\n",
              "    <tr>\n",
              "      <th>0</th>\n",
              "      <td>aapltrdng</td>\n",
              "      <td>2020-12-31 23:24:42+00:00</td>\n",
              "      <td>5</td>\n",
              "      <td>Twitter for iPhone</td>\n",
              "      <td>LETS BEGIN, BE BOLD AND VENTURE TO BE WISE,\\nH...</td>\n",
              "      <td>let begin bold venture wise happy new year red...</td>\n",
              "      <td>positive</td>\n",
              "      <td>1</td>\n",
              "    </tr>\n",
              "    <tr>\n",
              "      <th>1</th>\n",
              "      <td>XtradesOfficial</td>\n",
              "      <td>2020-12-31 21:07:15+00:00</td>\n",
              "      <td>0</td>\n",
              "      <td>Xtrades</td>\n",
              "      <td>Bad trading month of December, New Years resol...</td>\n",
              "      <td>bad trading month december new year resolution...</td>\n",
              "      <td>negative</td>\n",
              "      <td>-1</td>\n",
              "    </tr>\n",
              "    <tr>\n",
              "      <th>2</th>\n",
              "      <td>KDRod24</td>\n",
              "      <td>2020-12-31 20:54:16+00:00</td>\n",
              "      <td>0</td>\n",
              "      <td>Twitter for iPhone</td>\n",
              "      <td>$AAPL If it breaks above 133.70, it’s on! 📈🚀🚀🚀...</td>\n",
              "      <td>aapl break chart increase rocket rocket rocket...</td>\n",
              "      <td>neutral</td>\n",
              "      <td>0</td>\n",
              "    </tr>\n",
              "    <tr>\n",
              "      <th>3</th>\n",
              "      <td>dailytradingapp</td>\n",
              "      <td>2020-12-31 19:57:34+00:00</td>\n",
              "      <td>0</td>\n",
              "      <td>dlvr.it</td>\n",
              "      <td>#AAPL #ACB Benzinga's 2020 Year In Review: Cor...</td>\n",
              "      <td>aapl acb benzinga's year review coronavirus ma...</td>\n",
              "      <td>neutral</td>\n",
              "      <td>0</td>\n",
              "    </tr>\n",
              "    <tr>\n",
              "      <th>4</th>\n",
              "      <td>elliottwaves</td>\n",
              "      <td>2020-12-31 19:24:06+00:00</td>\n",
              "      <td>0</td>\n",
              "      <td>Twitter Web App</td>\n",
              "      <td>#Free Trial available at https://t.co/x2kmaKA6...</td>\n",
              "      <td>free trial available</td>\n",
              "      <td>neutral</td>\n",
              "      <td>0</td>\n",
              "    </tr>\n",
              "    <tr>\n",
              "      <th>...</th>\n",
              "      <td>...</td>\n",
              "      <td>...</td>\n",
              "      <td>...</td>\n",
              "      <td>...</td>\n",
              "      <td>...</td>\n",
              "      <td>...</td>\n",
              "      <td>...</td>\n",
              "      <td>...</td>\n",
              "    </tr>\n",
              "    <tr>\n",
              "      <th>14412</th>\n",
              "      <td>jddwriter</td>\n",
              "      <td>2020-01-01 01:30:11+00:00</td>\n",
              "      <td>0</td>\n",
              "      <td>Hootsuite Inc.</td>\n",
              "      <td>Made one big mistake Day Trading Apple (AAPL) ...</td>\n",
              "      <td>make one big mistake day trading apple aapl mo...</td>\n",
              "      <td>negative</td>\n",
              "      <td>-1</td>\n",
              "    </tr>\n",
              "    <tr>\n",
              "      <th>14413</th>\n",
              "      <td>elliottwaves</td>\n",
              "      <td>2020-01-01 01:26:34+00:00</td>\n",
              "      <td>1</td>\n",
              "      <td>StockTwits Web</td>\n",
              "      <td>4 &amp;amp; 1 hour charts for all 78 instruments a...</td>\n",
              "      <td>hour chart instrument available member view</td>\n",
              "      <td>neutral</td>\n",
              "      <td>0</td>\n",
              "    </tr>\n",
              "    <tr>\n",
              "      <th>14414</th>\n",
              "      <td>elliottwaves</td>\n",
              "      <td>2020-01-01 01:24:41+00:00</td>\n",
              "      <td>0</td>\n",
              "      <td>StockTwits Web</td>\n",
              "      <td>4 &amp;amp; 1 hour charts for the Group 3 instrume...</td>\n",
              "      <td>hour chart group instrument available member view</td>\n",
              "      <td>neutral</td>\n",
              "      <td>0</td>\n",
              "    </tr>\n",
              "    <tr>\n",
              "      <th>14415</th>\n",
              "      <td>iotafmarkets</td>\n",
              "      <td>2020-01-01 00:56:57+00:00</td>\n",
              "      <td>1</td>\n",
              "      <td>Twitter for iPhone</td>\n",
              "      <td>Top 10 trades of the decade: Number 4: Going l...</td>\n",
              "      <td>top trade decade number go long faang stock be...</td>\n",
              "      <td>neutral</td>\n",
              "      <td>0</td>\n",
              "    </tr>\n",
              "    <tr>\n",
              "      <th>14416</th>\n",
              "      <td>ElliottForecast</td>\n",
              "      <td>2020-01-01 00:24:13+00:00</td>\n",
              "      <td>1</td>\n",
              "      <td>StockTwits Web</td>\n",
              "      <td>4 &amp;amp; 1  hour charts for all 78 instruments ...</td>\n",
              "      <td>hour chart instrument available member view</td>\n",
              "      <td>neutral</td>\n",
              "      <td>0</td>\n",
              "    </tr>\n",
              "  </tbody>\n",
              "</table>\n",
              "<p>14417 rows × 8 columns</p>\n",
              "</div>"
            ],
            "text/plain": [
              "                  User               Date Created  Number of Likes  \\\n",
              "0            aapltrdng  2020-12-31 23:24:42+00:00                5   \n",
              "1      XtradesOfficial  2020-12-31 21:07:15+00:00                0   \n",
              "2              KDRod24  2020-12-31 20:54:16+00:00                0   \n",
              "3      dailytradingapp  2020-12-31 19:57:34+00:00                0   \n",
              "4         elliottwaves  2020-12-31 19:24:06+00:00                0   \n",
              "...                ...                        ...              ...   \n",
              "14412        jddwriter  2020-01-01 01:30:11+00:00                0   \n",
              "14413     elliottwaves  2020-01-01 01:26:34+00:00                1   \n",
              "14414     elliottwaves  2020-01-01 01:24:41+00:00                0   \n",
              "14415     iotafmarkets  2020-01-01 00:56:57+00:00                1   \n",
              "14416  ElliottForecast  2020-01-01 00:24:13+00:00                1   \n",
              "\n",
              "          Source of Tweet                                              Tweet  \\\n",
              "0      Twitter for iPhone  LETS BEGIN, BE BOLD AND VENTURE TO BE WISE,\\nH...   \n",
              "1                 Xtrades  Bad trading month of December, New Years resol...   \n",
              "2      Twitter for iPhone  $AAPL If it breaks above 133.70, it’s on! 📈🚀🚀🚀...   \n",
              "3                 dlvr.it  #AAPL #ACB Benzinga's 2020 Year In Review: Cor...   \n",
              "4         Twitter Web App  #Free Trial available at https://t.co/x2kmaKA6...   \n",
              "...                   ...                                                ...   \n",
              "14412      Hootsuite Inc.  Made one big mistake Day Trading Apple (AAPL) ...   \n",
              "14413      StockTwits Web  4 &amp; 1 hour charts for all 78 instruments a...   \n",
              "14414      StockTwits Web  4 &amp; 1 hour charts for the Group 3 instrume...   \n",
              "14415  Twitter for iPhone  Top 10 trades of the decade: Number 4: Going l...   \n",
              "14416      StockTwits Web  4 &amp; 1  hour charts for all 78 instruments ...   \n",
              "\n",
              "                                                 cleaned     label  Polarity  \n",
              "0      let begin bold venture wise happy new year red...  positive         1  \n",
              "1      bad trading month december new year resolution...  negative        -1  \n",
              "2      aapl break chart increase rocket rocket rocket...   neutral         0  \n",
              "3      aapl acb benzinga's year review coronavirus ma...   neutral         0  \n",
              "4                                   free trial available   neutral         0  \n",
              "...                                                  ...       ...       ...  \n",
              "14412  make one big mistake day trading apple aapl mo...  negative        -1  \n",
              "14413        hour chart instrument available member view   neutral         0  \n",
              "14414  hour chart group instrument available member view   neutral         0  \n",
              "14415  top trade decade number go long faang stock be...   neutral         0  \n",
              "14416        hour chart instrument available member view   neutral         0  \n",
              "\n",
              "[14417 rows x 8 columns]"
            ]
          },
          "execution_count": 6,
          "metadata": {},
          "output_type": "execute_result"
        }
      ],
      "source": [
        "ptweets_2020 = pd.read_csv(\"polarizedTweets2020.csv\")\n",
        "ptweets_2020"
      ]
    },
    {
      "cell_type": "code",
      "execution_count": 7,
      "metadata": {
        "id": "dlNCAdIMEib8"
      },
      "outputs": [],
      "source": [
        "ptweets_2020.rename(columns={'Date Created':'Date'}, inplace=True)"
      ]
    },
    {
      "cell_type": "code",
      "execution_count": 8,
      "metadata": {
        "id": "azcm3qzsEm5i"
      },
      "outputs": [],
      "source": [
        "ptweets_2020 = ptweets_2020[['Date', 'Tweet', 'cleaned','label', 'Polarity']]"
      ]
    },
    {
      "cell_type": "code",
      "execution_count": 9,
      "metadata": {
        "id": "lo3klVlDEs9h"
      },
      "outputs": [],
      "source": [
        "ptweets_2020 = ptweets_2020.sort_values(by='Date').reset_index(drop=True)"
      ]
    },
    {
      "cell_type": "code",
      "execution_count": 10,
      "metadata": {
        "colab": {
          "base_uri": "https://localhost:8080/"
        },
        "id": "-S1pbRKlExJy",
        "outputId": "d2eb6bb3-af3b-48b9-f2b7-2dd4ef41585b"
      },
      "outputs": [
        {
          "data": {
            "text/plain": [
              " 0    11042\n",
              "-1     1742\n",
              " 1     1633\n",
              "Name: Polarity, dtype: int64"
            ]
          },
          "execution_count": 10,
          "metadata": {},
          "output_type": "execute_result"
        }
      ],
      "source": [
        "ptweets_2020['Polarity'].value_counts()"
      ]
    },
    {
      "cell_type": "code",
      "execution_count": 11,
      "metadata": {
        "colab": {
          "base_uri": "https://localhost:8080/",
          "height": 206
        },
        "id": "erk_GavyE64_",
        "outputId": "e607317e-b416-4ea4-dcff-406b0efb074a"
      },
      "outputs": [
        {
          "data": {
            "text/html": [
              "<div>\n",
              "<style scoped>\n",
              "    .dataframe tbody tr th:only-of-type {\n",
              "        vertical-align: middle;\n",
              "    }\n",
              "\n",
              "    .dataframe tbody tr th {\n",
              "        vertical-align: top;\n",
              "    }\n",
              "\n",
              "    .dataframe thead th {\n",
              "        text-align: right;\n",
              "    }\n",
              "</style>\n",
              "<table border=\"1\" class=\"dataframe\">\n",
              "  <thead>\n",
              "    <tr style=\"text-align: right;\">\n",
              "      <th></th>\n",
              "      <th>Date</th>\n",
              "      <th>Polarity</th>\n",
              "    </tr>\n",
              "  </thead>\n",
              "  <tbody>\n",
              "    <tr>\n",
              "      <th>0</th>\n",
              "      <td>2020-01-01 00:24:13+00:00</td>\n",
              "      <td>0</td>\n",
              "    </tr>\n",
              "    <tr>\n",
              "      <th>1</th>\n",
              "      <td>2020-01-01 00:56:57+00:00</td>\n",
              "      <td>0</td>\n",
              "    </tr>\n",
              "    <tr>\n",
              "      <th>2</th>\n",
              "      <td>2020-01-01 01:24:41+00:00</td>\n",
              "      <td>0</td>\n",
              "    </tr>\n",
              "    <tr>\n",
              "      <th>3</th>\n",
              "      <td>2020-01-01 01:26:34+00:00</td>\n",
              "      <td>0</td>\n",
              "    </tr>\n",
              "    <tr>\n",
              "      <th>4</th>\n",
              "      <td>2020-01-01 01:30:11+00:00</td>\n",
              "      <td>-1</td>\n",
              "    </tr>\n",
              "  </tbody>\n",
              "</table>\n",
              "</div>"
            ],
            "text/plain": [
              "                        Date  Polarity\n",
              "0  2020-01-01 00:24:13+00:00         0\n",
              "1  2020-01-01 00:56:57+00:00         0\n",
              "2  2020-01-01 01:24:41+00:00         0\n",
              "3  2020-01-01 01:26:34+00:00         0\n",
              "4  2020-01-01 01:30:11+00:00        -1"
            ]
          },
          "execution_count": 11,
          "metadata": {},
          "output_type": "execute_result"
        }
      ],
      "source": [
        "ptweets_df = ptweets_2020.loc[:,[\"Date\",\"Polarity\"]]\n",
        "ptweets_df.head()"
      ]
    },
    {
      "cell_type": "code",
      "execution_count": 12,
      "metadata": {
        "colab": {
          "base_uri": "https://localhost:8080/",
          "height": 206
        },
        "id": "76f99In7FXMG",
        "outputId": "247175d1-945a-4fb9-b725-691e213e26fd"
      },
      "outputs": [
        {
          "data": {
            "text/html": [
              "<div>\n",
              "<style scoped>\n",
              "    .dataframe tbody tr th:only-of-type {\n",
              "        vertical-align: middle;\n",
              "    }\n",
              "\n",
              "    .dataframe tbody tr th {\n",
              "        vertical-align: top;\n",
              "    }\n",
              "\n",
              "    .dataframe thead th {\n",
              "        text-align: right;\n",
              "    }\n",
              "</style>\n",
              "<table border=\"1\" class=\"dataframe\">\n",
              "  <thead>\n",
              "    <tr style=\"text-align: right;\">\n",
              "      <th></th>\n",
              "      <th>Date</th>\n",
              "      <th>Polarity</th>\n",
              "    </tr>\n",
              "  </thead>\n",
              "  <tbody>\n",
              "    <tr>\n",
              "      <th>14412</th>\n",
              "      <td>2020-12-31 19:24:06+00:00</td>\n",
              "      <td>0</td>\n",
              "    </tr>\n",
              "    <tr>\n",
              "      <th>14413</th>\n",
              "      <td>2020-12-31 19:57:34+00:00</td>\n",
              "      <td>0</td>\n",
              "    </tr>\n",
              "    <tr>\n",
              "      <th>14414</th>\n",
              "      <td>2020-12-31 20:54:16+00:00</td>\n",
              "      <td>0</td>\n",
              "    </tr>\n",
              "    <tr>\n",
              "      <th>14415</th>\n",
              "      <td>2020-12-31 21:07:15+00:00</td>\n",
              "      <td>-1</td>\n",
              "    </tr>\n",
              "    <tr>\n",
              "      <th>14416</th>\n",
              "      <td>2020-12-31 23:24:42+00:00</td>\n",
              "      <td>1</td>\n",
              "    </tr>\n",
              "  </tbody>\n",
              "</table>\n",
              "</div>"
            ],
            "text/plain": [
              "                            Date  Polarity\n",
              "14412  2020-12-31 19:24:06+00:00         0\n",
              "14413  2020-12-31 19:57:34+00:00         0\n",
              "14414  2020-12-31 20:54:16+00:00         0\n",
              "14415  2020-12-31 21:07:15+00:00        -1\n",
              "14416  2020-12-31 23:24:42+00:00         1"
            ]
          },
          "execution_count": 12,
          "metadata": {},
          "output_type": "execute_result"
        }
      ],
      "source": [
        "ptweets_df.tail()"
      ]
    },
    {
      "cell_type": "code",
      "execution_count": 13,
      "metadata": {
        "id": "eaAqvyqWFZLV"
      },
      "outputs": [],
      "source": [
        "ptweets_df['Date'] = pd.to_datetime(ptweets_df['Date'],infer_datetime_format=True)"
      ]
    },
    {
      "cell_type": "code",
      "execution_count": 14,
      "metadata": {
        "colab": {
          "base_uri": "https://localhost:8080/",
          "height": 641
        },
        "id": "FLkqxXHxFdVL",
        "outputId": "8b64ee29-05b6-41d9-cb79-2175c505da9c"
      },
      "outputs": [
        {
          "data": {
            "text/html": [
              "<div>\n",
              "<style scoped>\n",
              "    .dataframe tbody tr th:only-of-type {\n",
              "        vertical-align: middle;\n",
              "    }\n",
              "\n",
              "    .dataframe tbody tr th {\n",
              "        vertical-align: top;\n",
              "    }\n",
              "\n",
              "    .dataframe thead th {\n",
              "        text-align: right;\n",
              "    }\n",
              "</style>\n",
              "<table border=\"1\" class=\"dataframe\">\n",
              "  <thead>\n",
              "    <tr style=\"text-align: right;\">\n",
              "      <th></th>\n",
              "      <th>Date</th>\n",
              "      <th>Polarity</th>\n",
              "    </tr>\n",
              "  </thead>\n",
              "  <tbody>\n",
              "    <tr>\n",
              "      <th>0</th>\n",
              "      <td>2020-01-01 00:24:13+00:00</td>\n",
              "      <td>0</td>\n",
              "    </tr>\n",
              "    <tr>\n",
              "      <th>1</th>\n",
              "      <td>2020-01-01 00:56:57+00:00</td>\n",
              "      <td>0</td>\n",
              "    </tr>\n",
              "    <tr>\n",
              "      <th>2</th>\n",
              "      <td>2020-01-01 01:24:41+00:00</td>\n",
              "      <td>0</td>\n",
              "    </tr>\n",
              "    <tr>\n",
              "      <th>3</th>\n",
              "      <td>2020-01-01 01:26:34+00:00</td>\n",
              "      <td>0</td>\n",
              "    </tr>\n",
              "    <tr>\n",
              "      <th>4</th>\n",
              "      <td>2020-01-01 01:30:11+00:00</td>\n",
              "      <td>-1</td>\n",
              "    </tr>\n",
              "    <tr>\n",
              "      <th>...</th>\n",
              "      <td>...</td>\n",
              "      <td>...</td>\n",
              "    </tr>\n",
              "    <tr>\n",
              "      <th>14412</th>\n",
              "      <td>2020-12-31 19:24:06+00:00</td>\n",
              "      <td>0</td>\n",
              "    </tr>\n",
              "    <tr>\n",
              "      <th>14413</th>\n",
              "      <td>2020-12-31 19:57:34+00:00</td>\n",
              "      <td>0</td>\n",
              "    </tr>\n",
              "    <tr>\n",
              "      <th>14414</th>\n",
              "      <td>2020-12-31 20:54:16+00:00</td>\n",
              "      <td>0</td>\n",
              "    </tr>\n",
              "    <tr>\n",
              "      <th>14415</th>\n",
              "      <td>2020-12-31 21:07:15+00:00</td>\n",
              "      <td>-1</td>\n",
              "    </tr>\n",
              "    <tr>\n",
              "      <th>14416</th>\n",
              "      <td>2020-12-31 23:24:42+00:00</td>\n",
              "      <td>1</td>\n",
              "    </tr>\n",
              "  </tbody>\n",
              "</table>\n",
              "<p>14417 rows × 2 columns</p>\n",
              "</div>"
            ],
            "text/plain": [
              "                           Date  Polarity\n",
              "0     2020-01-01 00:24:13+00:00         0\n",
              "1     2020-01-01 00:56:57+00:00         0\n",
              "2     2020-01-01 01:24:41+00:00         0\n",
              "3     2020-01-01 01:26:34+00:00         0\n",
              "4     2020-01-01 01:30:11+00:00        -1\n",
              "...                         ...       ...\n",
              "14412 2020-12-31 19:24:06+00:00         0\n",
              "14413 2020-12-31 19:57:34+00:00         0\n",
              "14414 2020-12-31 20:54:16+00:00         0\n",
              "14415 2020-12-31 21:07:15+00:00        -1\n",
              "14416 2020-12-31 23:24:42+00:00         1\n",
              "\n",
              "[14417 rows x 2 columns]"
            ]
          },
          "execution_count": 14,
          "metadata": {},
          "output_type": "execute_result"
        }
      ],
      "source": [
        "ptweets_df"
      ]
    },
    {
      "cell_type": "code",
      "execution_count": 15,
      "metadata": {
        "id": "IPXrZ3sXFgVb"
      },
      "outputs": [],
      "source": [
        "ptweets_df['Date'] =pd.to_datetime(ptweets_df['Date'].dt.strftime(\"%Y-%m-%d\"))"
      ]
    },
    {
      "cell_type": "code",
      "execution_count": 16,
      "metadata": {
        "colab": {
          "base_uri": "https://localhost:8080/",
          "height": 641
        },
        "id": "aYus3iMMFh7f",
        "outputId": "717e0483-8519-4e47-91ae-288d22b05490"
      },
      "outputs": [
        {
          "data": {
            "text/html": [
              "<div>\n",
              "<style scoped>\n",
              "    .dataframe tbody tr th:only-of-type {\n",
              "        vertical-align: middle;\n",
              "    }\n",
              "\n",
              "    .dataframe tbody tr th {\n",
              "        vertical-align: top;\n",
              "    }\n",
              "\n",
              "    .dataframe thead th {\n",
              "        text-align: right;\n",
              "    }\n",
              "</style>\n",
              "<table border=\"1\" class=\"dataframe\">\n",
              "  <thead>\n",
              "    <tr style=\"text-align: right;\">\n",
              "      <th></th>\n",
              "      <th>Date</th>\n",
              "      <th>Polarity</th>\n",
              "    </tr>\n",
              "  </thead>\n",
              "  <tbody>\n",
              "    <tr>\n",
              "      <th>0</th>\n",
              "      <td>2020-01-01</td>\n",
              "      <td>0</td>\n",
              "    </tr>\n",
              "    <tr>\n",
              "      <th>1</th>\n",
              "      <td>2020-01-01</td>\n",
              "      <td>0</td>\n",
              "    </tr>\n",
              "    <tr>\n",
              "      <th>2</th>\n",
              "      <td>2020-01-01</td>\n",
              "      <td>0</td>\n",
              "    </tr>\n",
              "    <tr>\n",
              "      <th>3</th>\n",
              "      <td>2020-01-01</td>\n",
              "      <td>0</td>\n",
              "    </tr>\n",
              "    <tr>\n",
              "      <th>4</th>\n",
              "      <td>2020-01-01</td>\n",
              "      <td>-1</td>\n",
              "    </tr>\n",
              "    <tr>\n",
              "      <th>...</th>\n",
              "      <td>...</td>\n",
              "      <td>...</td>\n",
              "    </tr>\n",
              "    <tr>\n",
              "      <th>14412</th>\n",
              "      <td>2020-12-31</td>\n",
              "      <td>0</td>\n",
              "    </tr>\n",
              "    <tr>\n",
              "      <th>14413</th>\n",
              "      <td>2020-12-31</td>\n",
              "      <td>0</td>\n",
              "    </tr>\n",
              "    <tr>\n",
              "      <th>14414</th>\n",
              "      <td>2020-12-31</td>\n",
              "      <td>0</td>\n",
              "    </tr>\n",
              "    <tr>\n",
              "      <th>14415</th>\n",
              "      <td>2020-12-31</td>\n",
              "      <td>-1</td>\n",
              "    </tr>\n",
              "    <tr>\n",
              "      <th>14416</th>\n",
              "      <td>2020-12-31</td>\n",
              "      <td>1</td>\n",
              "    </tr>\n",
              "  </tbody>\n",
              "</table>\n",
              "<p>14417 rows × 2 columns</p>\n",
              "</div>"
            ],
            "text/plain": [
              "            Date  Polarity\n",
              "0     2020-01-01         0\n",
              "1     2020-01-01         0\n",
              "2     2020-01-01         0\n",
              "3     2020-01-01         0\n",
              "4     2020-01-01        -1\n",
              "...          ...       ...\n",
              "14412 2020-12-31         0\n",
              "14413 2020-12-31         0\n",
              "14414 2020-12-31         0\n",
              "14415 2020-12-31        -1\n",
              "14416 2020-12-31         1\n",
              "\n",
              "[14417 rows x 2 columns]"
            ]
          },
          "execution_count": 16,
          "metadata": {},
          "output_type": "execute_result"
        }
      ],
      "source": [
        "ptweets_df"
      ]
    },
    {
      "cell_type": "code",
      "execution_count": 17,
      "metadata": {
        "id": "PzNW7EoAFkKP"
      },
      "outputs": [],
      "source": [
        "Pol_df = pd.DataFrame(ptweets_df.groupby('Date')['Polarity'].mean())\n",
        "Pol_df.rename(columns={\"Polarity\":\"P_mean\"},inplace=True)"
      ]
    },
    {
      "cell_type": "code",
      "execution_count": 18,
      "metadata": {
        "id": "cBqvDeQIFlux"
      },
      "outputs": [],
      "source": [
        "Pol_df['P_sum'] = ptweets_df.groupby('Date')['Polarity'].sum()"
      ]
    },
    {
      "cell_type": "code",
      "execution_count": 19,
      "metadata": {
        "id": "-BFISTf2FoY0"
      },
      "outputs": [],
      "source": [
        "Pol_df['twt_count'] = ptweets_df.groupby('Date')['Polarity'].count()"
      ]
    },
    {
      "cell_type": "code",
      "execution_count": 20,
      "metadata": {
        "colab": {
          "base_uri": "https://localhost:8080/",
          "height": 455
        },
        "id": "jyPGFd5MFp3m",
        "outputId": "bca882a7-bc62-43cc-aac0-dd57315e8582"
      },
      "outputs": [
        {
          "data": {
            "text/html": [
              "<div>\n",
              "<style scoped>\n",
              "    .dataframe tbody tr th:only-of-type {\n",
              "        vertical-align: middle;\n",
              "    }\n",
              "\n",
              "    .dataframe tbody tr th {\n",
              "        vertical-align: top;\n",
              "    }\n",
              "\n",
              "    .dataframe thead th {\n",
              "        text-align: right;\n",
              "    }\n",
              "</style>\n",
              "<table border=\"1\" class=\"dataframe\">\n",
              "  <thead>\n",
              "    <tr style=\"text-align: right;\">\n",
              "      <th></th>\n",
              "      <th>P_mean</th>\n",
              "      <th>P_sum</th>\n",
              "      <th>twt_count</th>\n",
              "    </tr>\n",
              "    <tr>\n",
              "      <th>Date</th>\n",
              "      <th></th>\n",
              "      <th></th>\n",
              "      <th></th>\n",
              "    </tr>\n",
              "  </thead>\n",
              "  <tbody>\n",
              "    <tr>\n",
              "      <th>2020-01-01</th>\n",
              "      <td>0.083333</td>\n",
              "      <td>1</td>\n",
              "      <td>12</td>\n",
              "    </tr>\n",
              "    <tr>\n",
              "      <th>2020-01-02</th>\n",
              "      <td>-0.046154</td>\n",
              "      <td>-3</td>\n",
              "      <td>65</td>\n",
              "    </tr>\n",
              "    <tr>\n",
              "      <th>2020-01-03</th>\n",
              "      <td>-0.173913</td>\n",
              "      <td>-4</td>\n",
              "      <td>23</td>\n",
              "    </tr>\n",
              "    <tr>\n",
              "      <th>2020-01-04</th>\n",
              "      <td>0.000000</td>\n",
              "      <td>0</td>\n",
              "      <td>10</td>\n",
              "    </tr>\n",
              "    <tr>\n",
              "      <th>2020-01-05</th>\n",
              "      <td>-0.285714</td>\n",
              "      <td>-2</td>\n",
              "      <td>7</td>\n",
              "    </tr>\n",
              "    <tr>\n",
              "      <th>...</th>\n",
              "      <td>...</td>\n",
              "      <td>...</td>\n",
              "      <td>...</td>\n",
              "    </tr>\n",
              "    <tr>\n",
              "      <th>2020-12-27</th>\n",
              "      <td>-0.187500</td>\n",
              "      <td>-3</td>\n",
              "      <td>16</td>\n",
              "    </tr>\n",
              "    <tr>\n",
              "      <th>2020-12-28</th>\n",
              "      <td>0.088235</td>\n",
              "      <td>3</td>\n",
              "      <td>34</td>\n",
              "    </tr>\n",
              "    <tr>\n",
              "      <th>2020-12-29</th>\n",
              "      <td>0.204545</td>\n",
              "      <td>9</td>\n",
              "      <td>44</td>\n",
              "    </tr>\n",
              "    <tr>\n",
              "      <th>2020-12-30</th>\n",
              "      <td>0.205882</td>\n",
              "      <td>7</td>\n",
              "      <td>34</td>\n",
              "    </tr>\n",
              "    <tr>\n",
              "      <th>2020-12-31</th>\n",
              "      <td>0.000000</td>\n",
              "      <td>0</td>\n",
              "      <td>33</td>\n",
              "    </tr>\n",
              "  </tbody>\n",
              "</table>\n",
              "<p>366 rows × 3 columns</p>\n",
              "</div>"
            ],
            "text/plain": [
              "              P_mean  P_sum  twt_count\n",
              "Date                                  \n",
              "2020-01-01  0.083333      1         12\n",
              "2020-01-02 -0.046154     -3         65\n",
              "2020-01-03 -0.173913     -4         23\n",
              "2020-01-04  0.000000      0         10\n",
              "2020-01-05 -0.285714     -2          7\n",
              "...              ...    ...        ...\n",
              "2020-12-27 -0.187500     -3         16\n",
              "2020-12-28  0.088235      3         34\n",
              "2020-12-29  0.204545      9         44\n",
              "2020-12-30  0.205882      7         34\n",
              "2020-12-31  0.000000      0         33\n",
              "\n",
              "[366 rows x 3 columns]"
            ]
          },
          "execution_count": 20,
          "metadata": {},
          "output_type": "execute_result"
        }
      ],
      "source": [
        "Pol_df"
      ]
    },
    {
      "cell_type": "code",
      "execution_count": 21,
      "metadata": {
        "colab": {
          "base_uri": "https://localhost:8080/"
        },
        "id": "Um0tY6hqnD0Q",
        "outputId": "98a78c7a-eb7d-48f6-d2c5-70112840e6fc"
      },
      "outputs": [
        {
          "name": "stdout",
          "output_type": "stream",
          "text": [
            "<class 'pandas.core.frame.DataFrame'>\n",
            "DatetimeIndex: 366 entries, 2020-01-01 to 2020-12-31\n",
            "Data columns (total 3 columns):\n",
            " #   Column     Non-Null Count  Dtype  \n",
            "---  ------     --------------  -----  \n",
            " 0   P_mean     366 non-null    float64\n",
            " 1   P_sum      366 non-null    int64  \n",
            " 2   twt_count  366 non-null    int64  \n",
            "dtypes: float64(1), int64(2)\n",
            "memory usage: 11.4 KB\n"
          ]
        }
      ],
      "source": [
        "Pol_df.info()"
      ]
    },
    {
      "cell_type": "code",
      "execution_count": 22,
      "metadata": {
        "colab": {
          "base_uri": "https://localhost:8080/",
          "height": 381
        },
        "id": "ek3ryfYLF61y",
        "outputId": "6df67f52-a3b4-43b8-c56f-020c33d05861"
      },
      "outputs": [
        {
          "data": {
            "text/html": [
              "<div>\n",
              "<style scoped>\n",
              "    .dataframe tbody tr th:only-of-type {\n",
              "        vertical-align: middle;\n",
              "    }\n",
              "\n",
              "    .dataframe tbody tr th {\n",
              "        vertical-align: top;\n",
              "    }\n",
              "\n",
              "    .dataframe thead th {\n",
              "        text-align: right;\n",
              "    }\n",
              "</style>\n",
              "<table border=\"1\" class=\"dataframe\">\n",
              "  <thead>\n",
              "    <tr style=\"text-align: right;\">\n",
              "      <th></th>\n",
              "      <th>Date</th>\n",
              "      <th>Open</th>\n",
              "      <th>High</th>\n",
              "      <th>Low</th>\n",
              "      <th>Close</th>\n",
              "      <th>Adj Close</th>\n",
              "      <th>Volume</th>\n",
              "      <th>P_mean</th>\n",
              "      <th>P_sum</th>\n",
              "      <th>twt_count</th>\n",
              "    </tr>\n",
              "  </thead>\n",
              "  <tbody>\n",
              "    <tr>\n",
              "      <th>0</th>\n",
              "      <td>2020-01-02</td>\n",
              "      <td>74.059998</td>\n",
              "      <td>75.150002</td>\n",
              "      <td>73.797501</td>\n",
              "      <td>75.087502</td>\n",
              "      <td>73.561531</td>\n",
              "      <td>135480400</td>\n",
              "      <td>-0.046154</td>\n",
              "      <td>-3</td>\n",
              "      <td>65</td>\n",
              "    </tr>\n",
              "    <tr>\n",
              "      <th>1</th>\n",
              "      <td>2020-01-03</td>\n",
              "      <td>74.287498</td>\n",
              "      <td>75.144997</td>\n",
              "      <td>74.125000</td>\n",
              "      <td>74.357498</td>\n",
              "      <td>72.846359</td>\n",
              "      <td>146322800</td>\n",
              "      <td>-0.173913</td>\n",
              "      <td>-4</td>\n",
              "      <td>23</td>\n",
              "    </tr>\n",
              "    <tr>\n",
              "      <th>2</th>\n",
              "      <td>2020-01-06</td>\n",
              "      <td>73.447502</td>\n",
              "      <td>74.989998</td>\n",
              "      <td>73.187500</td>\n",
              "      <td>74.949997</td>\n",
              "      <td>73.426834</td>\n",
              "      <td>118387200</td>\n",
              "      <td>-0.225806</td>\n",
              "      <td>-7</td>\n",
              "      <td>31</td>\n",
              "    </tr>\n",
              "    <tr>\n",
              "      <th>3</th>\n",
              "      <td>2020-01-07</td>\n",
              "      <td>74.959999</td>\n",
              "      <td>75.224998</td>\n",
              "      <td>74.370003</td>\n",
              "      <td>74.597504</td>\n",
              "      <td>73.081505</td>\n",
              "      <td>108872000</td>\n",
              "      <td>-0.029412</td>\n",
              "      <td>-1</td>\n",
              "      <td>34</td>\n",
              "    </tr>\n",
              "    <tr>\n",
              "      <th>4</th>\n",
              "      <td>2020-01-08</td>\n",
              "      <td>74.290001</td>\n",
              "      <td>76.110001</td>\n",
              "      <td>74.290001</td>\n",
              "      <td>75.797501</td>\n",
              "      <td>74.257103</td>\n",
              "      <td>132079200</td>\n",
              "      <td>0.000000</td>\n",
              "      <td>0</td>\n",
              "      <td>31</td>\n",
              "    </tr>\n",
              "  </tbody>\n",
              "</table>\n",
              "</div>"
            ],
            "text/plain": [
              "        Date       Open       High        Low      Close  Adj Close  \\\n",
              "0 2020-01-02  74.059998  75.150002  73.797501  75.087502  73.561531   \n",
              "1 2020-01-03  74.287498  75.144997  74.125000  74.357498  72.846359   \n",
              "2 2020-01-06  73.447502  74.989998  73.187500  74.949997  73.426834   \n",
              "3 2020-01-07  74.959999  75.224998  74.370003  74.597504  73.081505   \n",
              "4 2020-01-08  74.290001  76.110001  74.290001  75.797501  74.257103   \n",
              "\n",
              "      Volume    P_mean  P_sum  twt_count  \n",
              "0  135480400 -0.046154     -3         65  \n",
              "1  146322800 -0.173913     -4         23  \n",
              "2  118387200 -0.225806     -7         31  \n",
              "3  108872000 -0.029412     -1         34  \n",
              "4  132079200  0.000000      0         31  "
            ]
          },
          "execution_count": 22,
          "metadata": {},
          "output_type": "execute_result"
        }
      ],
      "source": [
        "# Reading the apple finance data and preparing it to fit with the polarized values\n",
        "apple_df = pd.read_csv('apple_stock.csv')\n",
        "apple_df['Date'] = pd.to_datetime(apple_df['Date'],infer_datetime_format=True)\n",
        "apple_df['Date'] = apple_df['Date'].dt.strftime(\"%Y-%m-%d\")\n",
        "apple_df['Date'] = pd.to_datetime(apple_df['Date'])\n",
        "apple_df.set_index(\"Date\")\n",
        "\n",
        "# Adding the polarization column in the apple dataframe.\n",
        "final_df = apple_df.join(Pol_df,on='Date',how=\"inner\")\n",
        "final_df.head()"
      ]
    },
    {
      "cell_type": "code",
      "execution_count": 23,
      "metadata": {
        "id": "sYkyyY0oGEU-"
      },
      "outputs": [
        {
          "data": {
            "text/html": [
              "<div>\n",
              "<style scoped>\n",
              "    .dataframe tbody tr th:only-of-type {\n",
              "        vertical-align: middle;\n",
              "    }\n",
              "\n",
              "    .dataframe tbody tr th {\n",
              "        vertical-align: top;\n",
              "    }\n",
              "\n",
              "    .dataframe thead th {\n",
              "        text-align: right;\n",
              "    }\n",
              "</style>\n",
              "<table border=\"1\" class=\"dataframe\">\n",
              "  <thead>\n",
              "    <tr style=\"text-align: right;\">\n",
              "      <th></th>\n",
              "      <th>Date</th>\n",
              "      <th>Open</th>\n",
              "      <th>High</th>\n",
              "      <th>Low</th>\n",
              "      <th>Close</th>\n",
              "      <th>Adj Close</th>\n",
              "      <th>Volume</th>\n",
              "      <th>P_mean</th>\n",
              "      <th>P_sum</th>\n",
              "      <th>twt_count</th>\n",
              "    </tr>\n",
              "  </thead>\n",
              "  <tbody>\n",
              "    <tr>\n",
              "      <th>248</th>\n",
              "      <td>2020-12-24</td>\n",
              "      <td>131.320007</td>\n",
              "      <td>133.460007</td>\n",
              "      <td>131.100006</td>\n",
              "      <td>131.970001</td>\n",
              "      <td>130.404602</td>\n",
              "      <td>54930100</td>\n",
              "      <td>-0.032258</td>\n",
              "      <td>-1</td>\n",
              "      <td>31</td>\n",
              "    </tr>\n",
              "    <tr>\n",
              "      <th>249</th>\n",
              "      <td>2020-12-28</td>\n",
              "      <td>133.990005</td>\n",
              "      <td>137.339996</td>\n",
              "      <td>133.509995</td>\n",
              "      <td>136.690002</td>\n",
              "      <td>135.068588</td>\n",
              "      <td>124486200</td>\n",
              "      <td>0.088235</td>\n",
              "      <td>3</td>\n",
              "      <td>34</td>\n",
              "    </tr>\n",
              "    <tr>\n",
              "      <th>250</th>\n",
              "      <td>2020-12-29</td>\n",
              "      <td>138.050003</td>\n",
              "      <td>138.789993</td>\n",
              "      <td>134.339996</td>\n",
              "      <td>134.869995</td>\n",
              "      <td>133.270172</td>\n",
              "      <td>121047300</td>\n",
              "      <td>0.204545</td>\n",
              "      <td>9</td>\n",
              "      <td>44</td>\n",
              "    </tr>\n",
              "    <tr>\n",
              "      <th>251</th>\n",
              "      <td>2020-12-30</td>\n",
              "      <td>135.580002</td>\n",
              "      <td>135.990005</td>\n",
              "      <td>133.399994</td>\n",
              "      <td>133.720001</td>\n",
              "      <td>132.133850</td>\n",
              "      <td>96452100</td>\n",
              "      <td>0.205882</td>\n",
              "      <td>7</td>\n",
              "      <td>34</td>\n",
              "    </tr>\n",
              "    <tr>\n",
              "      <th>252</th>\n",
              "      <td>2020-12-31</td>\n",
              "      <td>134.080002</td>\n",
              "      <td>134.740005</td>\n",
              "      <td>131.720001</td>\n",
              "      <td>132.690002</td>\n",
              "      <td>131.116028</td>\n",
              "      <td>99116600</td>\n",
              "      <td>0.000000</td>\n",
              "      <td>0</td>\n",
              "      <td>33</td>\n",
              "    </tr>\n",
              "  </tbody>\n",
              "</table>\n",
              "</div>"
            ],
            "text/plain": [
              "          Date        Open        High         Low       Close   Adj Close  \\\n",
              "248 2020-12-24  131.320007  133.460007  131.100006  131.970001  130.404602   \n",
              "249 2020-12-28  133.990005  137.339996  133.509995  136.690002  135.068588   \n",
              "250 2020-12-29  138.050003  138.789993  134.339996  134.869995  133.270172   \n",
              "251 2020-12-30  135.580002  135.990005  133.399994  133.720001  132.133850   \n",
              "252 2020-12-31  134.080002  134.740005  131.720001  132.690002  131.116028   \n",
              "\n",
              "        Volume    P_mean  P_sum  twt_count  \n",
              "248   54930100 -0.032258     -1         31  \n",
              "249  124486200  0.088235      3         34  \n",
              "250  121047300  0.204545      9         44  \n",
              "251   96452100  0.205882      7         34  \n",
              "252   99116600  0.000000      0         33  "
            ]
          },
          "execution_count": 23,
          "metadata": {},
          "output_type": "execute_result"
        }
      ],
      "source": [
        "final_df.tail()"
      ]
    },
    {
      "cell_type": "code",
      "execution_count": 24,
      "metadata": {
        "id": "Lxf-zM1NGGKs"
      },
      "outputs": [],
      "source": [
        "# Downloading the final CSV file that has the finance data and tweets polarizations\n",
        "final_df.to_csv(\"Final_apple_stock_2020.csv\",index=False)"
      ]
    }
  ],
  "metadata": {
    "accelerator": "GPU",
    "colab": {
      "provenance": []
    },
    "gpuClass": "standard",
    "kernelspec": {
      "display_name": "base",
      "language": "python",
      "name": "python3"
    },
    "language_info": {
      "codemirror_mode": {
        "name": "ipython",
        "version": 3
      },
      "file_extension": ".py",
      "mimetype": "text/x-python",
      "name": "python",
      "nbconvert_exporter": "python",
      "pygments_lexer": "ipython3",
      "version": "3.9.12 (main, Apr  4 2022, 05:22:27) [MSC v.1916 64 bit (AMD64)]"
    },
    "vscode": {
      "interpreter": {
        "hash": "7679c2132d3f6ce38c9df14d554b39c06862b36a4e6689c81f9ae15bd0911d7d"
      }
    },
    "widgets": {
      "application/vnd.jupyter.widget-state+json": {
        "00b37768851f4f779bddc6e8f19e84ef": {
          "model_module": "@jupyter-widgets/base",
          "model_module_version": "1.2.0",
          "model_name": "LayoutModel",
          "state": {
            "_model_module": "@jupyter-widgets/base",
            "_model_module_version": "1.2.0",
            "_model_name": "LayoutModel",
            "_view_count": null,
            "_view_module": "@jupyter-widgets/base",
            "_view_module_version": "1.2.0",
            "_view_name": "LayoutView",
            "align_content": null,
            "align_items": null,
            "align_self": null,
            "border": null,
            "bottom": null,
            "display": null,
            "flex": null,
            "flex_flow": null,
            "grid_area": null,
            "grid_auto_columns": null,
            "grid_auto_flow": null,
            "grid_auto_rows": null,
            "grid_column": null,
            "grid_gap": null,
            "grid_row": null,
            "grid_template_areas": null,
            "grid_template_columns": null,
            "grid_template_rows": null,
            "height": null,
            "justify_content": null,
            "justify_items": null,
            "left": null,
            "margin": null,
            "max_height": null,
            "max_width": null,
            "min_height": null,
            "min_width": null,
            "object_fit": null,
            "object_position": null,
            "order": null,
            "overflow": null,
            "overflow_x": null,
            "overflow_y": null,
            "padding": null,
            "right": null,
            "top": null,
            "visibility": null,
            "width": null
          }
        },
        "016ec3595b50417f986b0546ce4530ff": {
          "model_module": "@jupyter-widgets/controls",
          "model_module_version": "1.5.0",
          "model_name": "FloatProgressModel",
          "state": {
            "_dom_classes": [],
            "_model_module": "@jupyter-widgets/controls",
            "_model_module_version": "1.5.0",
            "_model_name": "FloatProgressModel",
            "_view_count": null,
            "_view_module": "@jupyter-widgets/controls",
            "_view_module_version": "1.5.0",
            "_view_name": "ProgressView",
            "bar_style": "success",
            "description": "",
            "description_tooltip": null,
            "layout": "IPY_MODEL_7f1adf571f3b4152aa9829ab78193657",
            "max": 841,
            "min": 0,
            "orientation": "horizontal",
            "style": "IPY_MODEL_2fd99304d1cb4ebdba4def3f8bcfafca",
            "value": 841
          }
        },
        "13537ebe934a411481fcb49b3b2585a2": {
          "model_module": "@jupyter-widgets/controls",
          "model_module_version": "1.5.0",
          "model_name": "HTMLModel",
          "state": {
            "_dom_classes": [],
            "_model_module": "@jupyter-widgets/controls",
            "_model_module_version": "1.5.0",
            "_model_name": "HTMLModel",
            "_view_count": null,
            "_view_module": "@jupyter-widgets/controls",
            "_view_module_version": "1.5.0",
            "_view_name": "HTMLView",
            "description": "",
            "description_tooltip": null,
            "layout": "IPY_MODEL_5a64ea34c07a4b869992c6972e60e160",
            "placeholder": "​",
            "style": "IPY_MODEL_2371c4f2a12a40dda08aeae3bd0b85ba",
            "value": " 1.11G/1.11G [00:34&lt;00:00, 52.6MB/s]"
          }
        },
        "17917eba8d9043339efde47598c7849f": {
          "model_module": "@jupyter-widgets/base",
          "model_module_version": "1.2.0",
          "model_name": "LayoutModel",
          "state": {
            "_model_module": "@jupyter-widgets/base",
            "_model_module_version": "1.2.0",
            "_model_name": "LayoutModel",
            "_view_count": null,
            "_view_module": "@jupyter-widgets/base",
            "_view_module_version": "1.2.0",
            "_view_name": "LayoutView",
            "align_content": null,
            "align_items": null,
            "align_self": null,
            "border": null,
            "bottom": null,
            "display": null,
            "flex": null,
            "flex_flow": null,
            "grid_area": null,
            "grid_auto_columns": null,
            "grid_auto_flow": null,
            "grid_auto_rows": null,
            "grid_column": null,
            "grid_gap": null,
            "grid_row": null,
            "grid_template_areas": null,
            "grid_template_columns": null,
            "grid_template_rows": null,
            "height": null,
            "justify_content": null,
            "justify_items": null,
            "left": null,
            "margin": null,
            "max_height": null,
            "max_width": null,
            "min_height": null,
            "min_width": null,
            "object_fit": null,
            "object_position": null,
            "order": null,
            "overflow": null,
            "overflow_x": null,
            "overflow_y": null,
            "padding": null,
            "right": null,
            "top": null,
            "visibility": null,
            "width": null
          }
        },
        "1bdabac541634f618cefd5b11a263a92": {
          "model_module": "@jupyter-widgets/base",
          "model_module_version": "1.2.0",
          "model_name": "LayoutModel",
          "state": {
            "_model_module": "@jupyter-widgets/base",
            "_model_module_version": "1.2.0",
            "_model_name": "LayoutModel",
            "_view_count": null,
            "_view_module": "@jupyter-widgets/base",
            "_view_module_version": "1.2.0",
            "_view_name": "LayoutView",
            "align_content": null,
            "align_items": null,
            "align_self": null,
            "border": null,
            "bottom": null,
            "display": null,
            "flex": null,
            "flex_flow": null,
            "grid_area": null,
            "grid_auto_columns": null,
            "grid_auto_flow": null,
            "grid_auto_rows": null,
            "grid_column": null,
            "grid_gap": null,
            "grid_row": null,
            "grid_template_areas": null,
            "grid_template_columns": null,
            "grid_template_rows": null,
            "height": null,
            "justify_content": null,
            "justify_items": null,
            "left": null,
            "margin": null,
            "max_height": null,
            "max_width": null,
            "min_height": null,
            "min_width": null,
            "object_fit": null,
            "object_position": null,
            "order": null,
            "overflow": null,
            "overflow_x": null,
            "overflow_y": null,
            "padding": null,
            "right": null,
            "top": null,
            "visibility": null,
            "width": null
          }
        },
        "21b33c80667e4c1eba56644e7bc73052": {
          "model_module": "@jupyter-widgets/controls",
          "model_module_version": "1.5.0",
          "model_name": "DescriptionStyleModel",
          "state": {
            "_model_module": "@jupyter-widgets/controls",
            "_model_module_version": "1.5.0",
            "_model_name": "DescriptionStyleModel",
            "_view_count": null,
            "_view_module": "@jupyter-widgets/base",
            "_view_module_version": "1.2.0",
            "_view_name": "StyleView",
            "description_width": ""
          }
        },
        "2234ed365d104226ab34e85adb6ba608": {
          "model_module": "@jupyter-widgets/controls",
          "model_module_version": "1.5.0",
          "model_name": "DescriptionStyleModel",
          "state": {
            "_model_module": "@jupyter-widgets/controls",
            "_model_module_version": "1.5.0",
            "_model_name": "DescriptionStyleModel",
            "_view_count": null,
            "_view_module": "@jupyter-widgets/base",
            "_view_module_version": "1.2.0",
            "_view_name": "StyleView",
            "description_width": ""
          }
        },
        "2371c4f2a12a40dda08aeae3bd0b85ba": {
          "model_module": "@jupyter-widgets/controls",
          "model_module_version": "1.5.0",
          "model_name": "DescriptionStyleModel",
          "state": {
            "_model_module": "@jupyter-widgets/controls",
            "_model_module_version": "1.5.0",
            "_model_name": "DescriptionStyleModel",
            "_view_count": null,
            "_view_module": "@jupyter-widgets/base",
            "_view_module_version": "1.2.0",
            "_view_name": "StyleView",
            "description_width": ""
          }
        },
        "2fd99304d1cb4ebdba4def3f8bcfafca": {
          "model_module": "@jupyter-widgets/controls",
          "model_module_version": "1.5.0",
          "model_name": "ProgressStyleModel",
          "state": {
            "_model_module": "@jupyter-widgets/controls",
            "_model_module_version": "1.5.0",
            "_model_name": "ProgressStyleModel",
            "_view_count": null,
            "_view_module": "@jupyter-widgets/base",
            "_view_module_version": "1.2.0",
            "_view_name": "StyleView",
            "bar_color": null,
            "description_width": ""
          }
        },
        "32cdf6bbf2734d398be51a466bda4c45": {
          "model_module": "@jupyter-widgets/base",
          "model_module_version": "1.2.0",
          "model_name": "LayoutModel",
          "state": {
            "_model_module": "@jupyter-widgets/base",
            "_model_module_version": "1.2.0",
            "_model_name": "LayoutModel",
            "_view_count": null,
            "_view_module": "@jupyter-widgets/base",
            "_view_module_version": "1.2.0",
            "_view_name": "LayoutView",
            "align_content": null,
            "align_items": null,
            "align_self": null,
            "border": null,
            "bottom": null,
            "display": null,
            "flex": null,
            "flex_flow": null,
            "grid_area": null,
            "grid_auto_columns": null,
            "grid_auto_flow": null,
            "grid_auto_rows": null,
            "grid_column": null,
            "grid_gap": null,
            "grid_row": null,
            "grid_template_areas": null,
            "grid_template_columns": null,
            "grid_template_rows": null,
            "height": null,
            "justify_content": null,
            "justify_items": null,
            "left": null,
            "margin": null,
            "max_height": null,
            "max_width": null,
            "min_height": null,
            "min_width": null,
            "object_fit": null,
            "object_position": null,
            "order": null,
            "overflow": null,
            "overflow_x": null,
            "overflow_y": null,
            "padding": null,
            "right": null,
            "top": null,
            "visibility": null,
            "width": null
          }
        },
        "375a6cc99b2845b8a3d4e0f9d269f5b8": {
          "model_module": "@jupyter-widgets/controls",
          "model_module_version": "1.5.0",
          "model_name": "DescriptionStyleModel",
          "state": {
            "_model_module": "@jupyter-widgets/controls",
            "_model_module_version": "1.5.0",
            "_model_name": "DescriptionStyleModel",
            "_view_count": null,
            "_view_module": "@jupyter-widgets/base",
            "_view_module_version": "1.2.0",
            "_view_name": "StyleView",
            "description_width": ""
          }
        },
        "42e51bef7a3a4b8d9d484451c6fb3cd4": {
          "model_module": "@jupyter-widgets/controls",
          "model_module_version": "1.5.0",
          "model_name": "HTMLModel",
          "state": {
            "_dom_classes": [],
            "_model_module": "@jupyter-widgets/controls",
            "_model_module_version": "1.5.0",
            "_model_name": "HTMLModel",
            "_view_count": null,
            "_view_module": "@jupyter-widgets/controls",
            "_view_module_version": "1.5.0",
            "_view_name": "HTMLView",
            "description": "",
            "description_tooltip": null,
            "layout": "IPY_MODEL_c08fc949301c4ed2b7bc1a2bab1fae37",
            "placeholder": "​",
            "style": "IPY_MODEL_21b33c80667e4c1eba56644e7bc73052",
            "value": "Downloading: 100%"
          }
        },
        "4954675cda38496ea7b4e00bdb629590": {
          "model_module": "@jupyter-widgets/controls",
          "model_module_version": "1.5.0",
          "model_name": "HBoxModel",
          "state": {
            "_dom_classes": [],
            "_model_module": "@jupyter-widgets/controls",
            "_model_module_version": "1.5.0",
            "_model_name": "HBoxModel",
            "_view_count": null,
            "_view_module": "@jupyter-widgets/controls",
            "_view_module_version": "1.5.0",
            "_view_name": "HBoxView",
            "box_style": "",
            "children": [
              "IPY_MODEL_42e51bef7a3a4b8d9d484451c6fb3cd4",
              "IPY_MODEL_016ec3595b50417f986b0546ce4530ff",
              "IPY_MODEL_d8eb0fc6690f40529b67f7d012d48ad4"
            ],
            "layout": "IPY_MODEL_00b37768851f4f779bddc6e8f19e84ef"
          }
        },
        "526fd29445b3482e87b287c914f90417": {
          "model_module": "@jupyter-widgets/controls",
          "model_module_version": "1.5.0",
          "model_name": "DescriptionStyleModel",
          "state": {
            "_model_module": "@jupyter-widgets/controls",
            "_model_module_version": "1.5.0",
            "_model_name": "DescriptionStyleModel",
            "_view_count": null,
            "_view_module": "@jupyter-widgets/base",
            "_view_module_version": "1.2.0",
            "_view_name": "StyleView",
            "description_width": ""
          }
        },
        "5a64ea34c07a4b869992c6972e60e160": {
          "model_module": "@jupyter-widgets/base",
          "model_module_version": "1.2.0",
          "model_name": "LayoutModel",
          "state": {
            "_model_module": "@jupyter-widgets/base",
            "_model_module_version": "1.2.0",
            "_model_name": "LayoutModel",
            "_view_count": null,
            "_view_module": "@jupyter-widgets/base",
            "_view_module_version": "1.2.0",
            "_view_name": "LayoutView",
            "align_content": null,
            "align_items": null,
            "align_self": null,
            "border": null,
            "bottom": null,
            "display": null,
            "flex": null,
            "flex_flow": null,
            "grid_area": null,
            "grid_auto_columns": null,
            "grid_auto_flow": null,
            "grid_auto_rows": null,
            "grid_column": null,
            "grid_gap": null,
            "grid_row": null,
            "grid_template_areas": null,
            "grid_template_columns": null,
            "grid_template_rows": null,
            "height": null,
            "justify_content": null,
            "justify_items": null,
            "left": null,
            "margin": null,
            "max_height": null,
            "max_width": null,
            "min_height": null,
            "min_width": null,
            "object_fit": null,
            "object_position": null,
            "order": null,
            "overflow": null,
            "overflow_x": null,
            "overflow_y": null,
            "padding": null,
            "right": null,
            "top": null,
            "visibility": null,
            "width": null
          }
        },
        "5c6efcd95d294a8ca462c19bde5d8fc1": {
          "model_module": "@jupyter-widgets/base",
          "model_module_version": "1.2.0",
          "model_name": "LayoutModel",
          "state": {
            "_model_module": "@jupyter-widgets/base",
            "_model_module_version": "1.2.0",
            "_model_name": "LayoutModel",
            "_view_count": null,
            "_view_module": "@jupyter-widgets/base",
            "_view_module_version": "1.2.0",
            "_view_name": "LayoutView",
            "align_content": null,
            "align_items": null,
            "align_self": null,
            "border": null,
            "bottom": null,
            "display": null,
            "flex": null,
            "flex_flow": null,
            "grid_area": null,
            "grid_auto_columns": null,
            "grid_auto_flow": null,
            "grid_auto_rows": null,
            "grid_column": null,
            "grid_gap": null,
            "grid_row": null,
            "grid_template_areas": null,
            "grid_template_columns": null,
            "grid_template_rows": null,
            "height": null,
            "justify_content": null,
            "justify_items": null,
            "left": null,
            "margin": null,
            "max_height": null,
            "max_width": null,
            "min_height": null,
            "min_width": null,
            "object_fit": null,
            "object_position": null,
            "order": null,
            "overflow": null,
            "overflow_x": null,
            "overflow_y": null,
            "padding": null,
            "right": null,
            "top": null,
            "visibility": null,
            "width": null
          }
        },
        "61a6b46f3a474558bea4ca689cbf7f5b": {
          "model_module": "@jupyter-widgets/controls",
          "model_module_version": "1.5.0",
          "model_name": "DescriptionStyleModel",
          "state": {
            "_model_module": "@jupyter-widgets/controls",
            "_model_module_version": "1.5.0",
            "_model_name": "DescriptionStyleModel",
            "_view_count": null,
            "_view_module": "@jupyter-widgets/base",
            "_view_module_version": "1.2.0",
            "_view_name": "StyleView",
            "description_width": ""
          }
        },
        "68dd632add2b44a5bfa128704f50454e": {
          "model_module": "@jupyter-widgets/base",
          "model_module_version": "1.2.0",
          "model_name": "LayoutModel",
          "state": {
            "_model_module": "@jupyter-widgets/base",
            "_model_module_version": "1.2.0",
            "_model_name": "LayoutModel",
            "_view_count": null,
            "_view_module": "@jupyter-widgets/base",
            "_view_module_version": "1.2.0",
            "_view_name": "LayoutView",
            "align_content": null,
            "align_items": null,
            "align_self": null,
            "border": null,
            "bottom": null,
            "display": null,
            "flex": null,
            "flex_flow": null,
            "grid_area": null,
            "grid_auto_columns": null,
            "grid_auto_flow": null,
            "grid_auto_rows": null,
            "grid_column": null,
            "grid_gap": null,
            "grid_row": null,
            "grid_template_areas": null,
            "grid_template_columns": null,
            "grid_template_rows": null,
            "height": null,
            "justify_content": null,
            "justify_items": null,
            "left": null,
            "margin": null,
            "max_height": null,
            "max_width": null,
            "min_height": null,
            "min_width": null,
            "object_fit": null,
            "object_position": null,
            "order": null,
            "overflow": null,
            "overflow_x": null,
            "overflow_y": null,
            "padding": null,
            "right": null,
            "top": null,
            "visibility": null,
            "width": null
          }
        },
        "6f8ec26a86c343e8b0be4248cca8c6d4": {
          "model_module": "@jupyter-widgets/controls",
          "model_module_version": "1.5.0",
          "model_name": "ProgressStyleModel",
          "state": {
            "_model_module": "@jupyter-widgets/controls",
            "_model_module_version": "1.5.0",
            "_model_name": "ProgressStyleModel",
            "_view_count": null,
            "_view_module": "@jupyter-widgets/base",
            "_view_module_version": "1.2.0",
            "_view_name": "StyleView",
            "bar_color": null,
            "description_width": ""
          }
        },
        "7a3404553d0f440ab8ff18167bfc05f4": {
          "model_module": "@jupyter-widgets/controls",
          "model_module_version": "1.5.0",
          "model_name": "HTMLModel",
          "state": {
            "_dom_classes": [],
            "_model_module": "@jupyter-widgets/controls",
            "_model_module_version": "1.5.0",
            "_model_name": "HTMLModel",
            "_view_count": null,
            "_view_module": "@jupyter-widgets/controls",
            "_view_module_version": "1.5.0",
            "_view_name": "HTMLView",
            "description": "",
            "description_tooltip": null,
            "layout": "IPY_MODEL_17917eba8d9043339efde47598c7849f",
            "placeholder": "​",
            "style": "IPY_MODEL_526fd29445b3482e87b287c914f90417",
            "value": " 150/150 [00:00&lt;00:00, 5.13kB/s]"
          }
        },
        "7f1adf571f3b4152aa9829ab78193657": {
          "model_module": "@jupyter-widgets/base",
          "model_module_version": "1.2.0",
          "model_name": "LayoutModel",
          "state": {
            "_model_module": "@jupyter-widgets/base",
            "_model_module_version": "1.2.0",
            "_model_name": "LayoutModel",
            "_view_count": null,
            "_view_module": "@jupyter-widgets/base",
            "_view_module_version": "1.2.0",
            "_view_name": "LayoutView",
            "align_content": null,
            "align_items": null,
            "align_self": null,
            "border": null,
            "bottom": null,
            "display": null,
            "flex": null,
            "flex_flow": null,
            "grid_area": null,
            "grid_auto_columns": null,
            "grid_auto_flow": null,
            "grid_auto_rows": null,
            "grid_column": null,
            "grid_gap": null,
            "grid_row": null,
            "grid_template_areas": null,
            "grid_template_columns": null,
            "grid_template_rows": null,
            "height": null,
            "justify_content": null,
            "justify_items": null,
            "left": null,
            "margin": null,
            "max_height": null,
            "max_width": null,
            "min_height": null,
            "min_width": null,
            "object_fit": null,
            "object_position": null,
            "order": null,
            "overflow": null,
            "overflow_x": null,
            "overflow_y": null,
            "padding": null,
            "right": null,
            "top": null,
            "visibility": null,
            "width": null
          }
        },
        "7f30786f9c0f48d9932d3b81950b93c6": {
          "model_module": "@jupyter-widgets/base",
          "model_module_version": "1.2.0",
          "model_name": "LayoutModel",
          "state": {
            "_model_module": "@jupyter-widgets/base",
            "_model_module_version": "1.2.0",
            "_model_name": "LayoutModel",
            "_view_count": null,
            "_view_module": "@jupyter-widgets/base",
            "_view_module_version": "1.2.0",
            "_view_name": "LayoutView",
            "align_content": null,
            "align_items": null,
            "align_self": null,
            "border": null,
            "bottom": null,
            "display": null,
            "flex": null,
            "flex_flow": null,
            "grid_area": null,
            "grid_auto_columns": null,
            "grid_auto_flow": null,
            "grid_auto_rows": null,
            "grid_column": null,
            "grid_gap": null,
            "grid_row": null,
            "grid_template_areas": null,
            "grid_template_columns": null,
            "grid_template_rows": null,
            "height": null,
            "justify_content": null,
            "justify_items": null,
            "left": null,
            "margin": null,
            "max_height": null,
            "max_width": null,
            "min_height": null,
            "min_width": null,
            "object_fit": null,
            "object_position": null,
            "order": null,
            "overflow": null,
            "overflow_x": null,
            "overflow_y": null,
            "padding": null,
            "right": null,
            "top": null,
            "visibility": null,
            "width": null
          }
        },
        "8d01d2c3b4304207b593c106e33746d1": {
          "model_module": "@jupyter-widgets/controls",
          "model_module_version": "1.5.0",
          "model_name": "HBoxModel",
          "state": {
            "_dom_classes": [],
            "_model_module": "@jupyter-widgets/controls",
            "_model_module_version": "1.5.0",
            "_model_name": "HBoxModel",
            "_view_count": null,
            "_view_module": "@jupyter-widgets/controls",
            "_view_module_version": "1.5.0",
            "_view_name": "HBoxView",
            "box_style": "",
            "children": [
              "IPY_MODEL_a5591043cd0c405b9f0d8f776cc279d9",
              "IPY_MODEL_a72d24078da4410fa7d28ea3cc9474e8",
              "IPY_MODEL_db57e285355546afaea88d2182389a35"
            ],
            "layout": "IPY_MODEL_1bdabac541634f618cefd5b11a263a92"
          }
        },
        "9eb910e5dbca418196d5fffb4b797b10": {
          "model_module": "@jupyter-widgets/controls",
          "model_module_version": "1.5.0",
          "model_name": "ProgressStyleModel",
          "state": {
            "_model_module": "@jupyter-widgets/controls",
            "_model_module_version": "1.5.0",
            "_model_name": "ProgressStyleModel",
            "_view_count": null,
            "_view_module": "@jupyter-widgets/base",
            "_view_module_version": "1.2.0",
            "_view_name": "StyleView",
            "bar_color": null,
            "description_width": ""
          }
        },
        "a087fbf0d7f347c1a8ec7216605e4931": {
          "model_module": "@jupyter-widgets/controls",
          "model_module_version": "1.5.0",
          "model_name": "FloatProgressModel",
          "state": {
            "_dom_classes": [],
            "_model_module": "@jupyter-widgets/controls",
            "_model_module_version": "1.5.0",
            "_model_name": "FloatProgressModel",
            "_view_count": null,
            "_view_module": "@jupyter-widgets/controls",
            "_view_module_version": "1.5.0",
            "_view_name": "ProgressView",
            "bar_style": "success",
            "description": "",
            "description_tooltip": null,
            "layout": "IPY_MODEL_68dd632add2b44a5bfa128704f50454e",
            "max": 1114822968,
            "min": 0,
            "orientation": "horizontal",
            "style": "IPY_MODEL_6f8ec26a86c343e8b0be4248cca8c6d4",
            "value": 1114822968
          }
        },
        "a1eeac85ccee462285f72a198a53f9e8": {
          "model_module": "@jupyter-widgets/controls",
          "model_module_version": "1.5.0",
          "model_name": "HBoxModel",
          "state": {
            "_dom_classes": [],
            "_model_module": "@jupyter-widgets/controls",
            "_model_module_version": "1.5.0",
            "_model_name": "HBoxModel",
            "_view_count": null,
            "_view_module": "@jupyter-widgets/controls",
            "_view_module_version": "1.5.0",
            "_view_name": "HBoxView",
            "box_style": "",
            "children": [
              "IPY_MODEL_dfcffc4205904d72a39aa50196688538",
              "IPY_MODEL_a087fbf0d7f347c1a8ec7216605e4931",
              "IPY_MODEL_13537ebe934a411481fcb49b3b2585a2"
            ],
            "layout": "IPY_MODEL_ce9ed30128c04d749fcca648e3c63b63"
          }
        },
        "a329c8a55eae4bdb853feb9541046c94": {
          "model_module": "@jupyter-widgets/base",
          "model_module_version": "1.2.0",
          "model_name": "LayoutModel",
          "state": {
            "_model_module": "@jupyter-widgets/base",
            "_model_module_version": "1.2.0",
            "_model_name": "LayoutModel",
            "_view_count": null,
            "_view_module": "@jupyter-widgets/base",
            "_view_module_version": "1.2.0",
            "_view_name": "LayoutView",
            "align_content": null,
            "align_items": null,
            "align_self": null,
            "border": null,
            "bottom": null,
            "display": null,
            "flex": null,
            "flex_flow": null,
            "grid_area": null,
            "grid_auto_columns": null,
            "grid_auto_flow": null,
            "grid_auto_rows": null,
            "grid_column": null,
            "grid_gap": null,
            "grid_row": null,
            "grid_template_areas": null,
            "grid_template_columns": null,
            "grid_template_rows": null,
            "height": null,
            "justify_content": null,
            "justify_items": null,
            "left": null,
            "margin": null,
            "max_height": null,
            "max_width": null,
            "min_height": null,
            "min_width": null,
            "object_fit": null,
            "object_position": null,
            "order": null,
            "overflow": null,
            "overflow_x": null,
            "overflow_y": null,
            "padding": null,
            "right": null,
            "top": null,
            "visibility": null,
            "width": null
          }
        },
        "a5591043cd0c405b9f0d8f776cc279d9": {
          "model_module": "@jupyter-widgets/controls",
          "model_module_version": "1.5.0",
          "model_name": "HTMLModel",
          "state": {
            "_dom_classes": [],
            "_model_module": "@jupyter-widgets/controls",
            "_model_module_version": "1.5.0",
            "_model_name": "HTMLModel",
            "_view_count": null,
            "_view_module": "@jupyter-widgets/controls",
            "_view_module_version": "1.5.0",
            "_view_name": "HTMLView",
            "description": "",
            "description_tooltip": null,
            "layout": "IPY_MODEL_7f30786f9c0f48d9932d3b81950b93c6",
            "placeholder": "​",
            "style": "IPY_MODEL_2234ed365d104226ab34e85adb6ba608",
            "value": "Downloading: 100%"
          }
        },
        "a72d24078da4410fa7d28ea3cc9474e8": {
          "model_module": "@jupyter-widgets/controls",
          "model_module_version": "1.5.0",
          "model_name": "FloatProgressModel",
          "state": {
            "_dom_classes": [],
            "_model_module": "@jupyter-widgets/controls",
            "_model_module_version": "1.5.0",
            "_model_name": "FloatProgressModel",
            "_view_count": null,
            "_view_module": "@jupyter-widgets/controls",
            "_view_module_version": "1.5.0",
            "_view_name": "ProgressView",
            "bar_style": "success",
            "description": "",
            "description_tooltip": null,
            "layout": "IPY_MODEL_32cdf6bbf2734d398be51a466bda4c45",
            "max": 5069051,
            "min": 0,
            "orientation": "horizontal",
            "style": "IPY_MODEL_9eb910e5dbca418196d5fffb4b797b10",
            "value": 5069051
          }
        },
        "b5418dd8868d4024a2731bcc2a8b7b49": {
          "model_module": "@jupyter-widgets/controls",
          "model_module_version": "1.5.0",
          "model_name": "ProgressStyleModel",
          "state": {
            "_model_module": "@jupyter-widgets/controls",
            "_model_module_version": "1.5.0",
            "_model_name": "ProgressStyleModel",
            "_view_count": null,
            "_view_module": "@jupyter-widgets/base",
            "_view_module_version": "1.2.0",
            "_view_name": "StyleView",
            "bar_color": null,
            "description_width": ""
          }
        },
        "ba5eeb36921e48539f5b13ed0bc2eb14": {
          "model_module": "@jupyter-widgets/controls",
          "model_module_version": "1.5.0",
          "model_name": "HBoxModel",
          "state": {
            "_dom_classes": [],
            "_model_module": "@jupyter-widgets/controls",
            "_model_module_version": "1.5.0",
            "_model_name": "HBoxModel",
            "_view_count": null,
            "_view_module": "@jupyter-widgets/controls",
            "_view_module_version": "1.5.0",
            "_view_name": "HBoxView",
            "box_style": "",
            "children": [
              "IPY_MODEL_daaf0cf076c84dafb2086673f0db54df",
              "IPY_MODEL_ffc88f08b0be4b1fa19a4baf91d9d23a",
              "IPY_MODEL_7a3404553d0f440ab8ff18167bfc05f4"
            ],
            "layout": "IPY_MODEL_f3a52c03233f4bd8869f915b501ac035"
          }
        },
        "c08fc949301c4ed2b7bc1a2bab1fae37": {
          "model_module": "@jupyter-widgets/base",
          "model_module_version": "1.2.0",
          "model_name": "LayoutModel",
          "state": {
            "_model_module": "@jupyter-widgets/base",
            "_model_module_version": "1.2.0",
            "_model_name": "LayoutModel",
            "_view_count": null,
            "_view_module": "@jupyter-widgets/base",
            "_view_module_version": "1.2.0",
            "_view_name": "LayoutView",
            "align_content": null,
            "align_items": null,
            "align_self": null,
            "border": null,
            "bottom": null,
            "display": null,
            "flex": null,
            "flex_flow": null,
            "grid_area": null,
            "grid_auto_columns": null,
            "grid_auto_flow": null,
            "grid_auto_rows": null,
            "grid_column": null,
            "grid_gap": null,
            "grid_row": null,
            "grid_template_areas": null,
            "grid_template_columns": null,
            "grid_template_rows": null,
            "height": null,
            "justify_content": null,
            "justify_items": null,
            "left": null,
            "margin": null,
            "max_height": null,
            "max_width": null,
            "min_height": null,
            "min_width": null,
            "object_fit": null,
            "object_position": null,
            "order": null,
            "overflow": null,
            "overflow_x": null,
            "overflow_y": null,
            "padding": null,
            "right": null,
            "top": null,
            "visibility": null,
            "width": null
          }
        },
        "ce9ed30128c04d749fcca648e3c63b63": {
          "model_module": "@jupyter-widgets/base",
          "model_module_version": "1.2.0",
          "model_name": "LayoutModel",
          "state": {
            "_model_module": "@jupyter-widgets/base",
            "_model_module_version": "1.2.0",
            "_model_name": "LayoutModel",
            "_view_count": null,
            "_view_module": "@jupyter-widgets/base",
            "_view_module_version": "1.2.0",
            "_view_name": "LayoutView",
            "align_content": null,
            "align_items": null,
            "align_self": null,
            "border": null,
            "bottom": null,
            "display": null,
            "flex": null,
            "flex_flow": null,
            "grid_area": null,
            "grid_auto_columns": null,
            "grid_auto_flow": null,
            "grid_auto_rows": null,
            "grid_column": null,
            "grid_gap": null,
            "grid_row": null,
            "grid_template_areas": null,
            "grid_template_columns": null,
            "grid_template_rows": null,
            "height": null,
            "justify_content": null,
            "justify_items": null,
            "left": null,
            "margin": null,
            "max_height": null,
            "max_width": null,
            "min_height": null,
            "min_width": null,
            "object_fit": null,
            "object_position": null,
            "order": null,
            "overflow": null,
            "overflow_x": null,
            "overflow_y": null,
            "padding": null,
            "right": null,
            "top": null,
            "visibility": null,
            "width": null
          }
        },
        "d09ef60c2ce04613b881b89c32c6c887": {
          "model_module": "@jupyter-widgets/base",
          "model_module_version": "1.2.0",
          "model_name": "LayoutModel",
          "state": {
            "_model_module": "@jupyter-widgets/base",
            "_model_module_version": "1.2.0",
            "_model_name": "LayoutModel",
            "_view_count": null,
            "_view_module": "@jupyter-widgets/base",
            "_view_module_version": "1.2.0",
            "_view_name": "LayoutView",
            "align_content": null,
            "align_items": null,
            "align_self": null,
            "border": null,
            "bottom": null,
            "display": null,
            "flex": null,
            "flex_flow": null,
            "grid_area": null,
            "grid_auto_columns": null,
            "grid_auto_flow": null,
            "grid_auto_rows": null,
            "grid_column": null,
            "grid_gap": null,
            "grid_row": null,
            "grid_template_areas": null,
            "grid_template_columns": null,
            "grid_template_rows": null,
            "height": null,
            "justify_content": null,
            "justify_items": null,
            "left": null,
            "margin": null,
            "max_height": null,
            "max_width": null,
            "min_height": null,
            "min_width": null,
            "object_fit": null,
            "object_position": null,
            "order": null,
            "overflow": null,
            "overflow_x": null,
            "overflow_y": null,
            "padding": null,
            "right": null,
            "top": null,
            "visibility": null,
            "width": null
          }
        },
        "d5533ac4ae1f4404909e363f5c76b63f": {
          "model_module": "@jupyter-widgets/base",
          "model_module_version": "1.2.0",
          "model_name": "LayoutModel",
          "state": {
            "_model_module": "@jupyter-widgets/base",
            "_model_module_version": "1.2.0",
            "_model_name": "LayoutModel",
            "_view_count": null,
            "_view_module": "@jupyter-widgets/base",
            "_view_module_version": "1.2.0",
            "_view_name": "LayoutView",
            "align_content": null,
            "align_items": null,
            "align_self": null,
            "border": null,
            "bottom": null,
            "display": null,
            "flex": null,
            "flex_flow": null,
            "grid_area": null,
            "grid_auto_columns": null,
            "grid_auto_flow": null,
            "grid_auto_rows": null,
            "grid_column": null,
            "grid_gap": null,
            "grid_row": null,
            "grid_template_areas": null,
            "grid_template_columns": null,
            "grid_template_rows": null,
            "height": null,
            "justify_content": null,
            "justify_items": null,
            "left": null,
            "margin": null,
            "max_height": null,
            "max_width": null,
            "min_height": null,
            "min_width": null,
            "object_fit": null,
            "object_position": null,
            "order": null,
            "overflow": null,
            "overflow_x": null,
            "overflow_y": null,
            "padding": null,
            "right": null,
            "top": null,
            "visibility": null,
            "width": null
          }
        },
        "d80026862a644d61bf27ddad6f8833f5": {
          "model_module": "@jupyter-widgets/controls",
          "model_module_version": "1.5.0",
          "model_name": "DescriptionStyleModel",
          "state": {
            "_model_module": "@jupyter-widgets/controls",
            "_model_module_version": "1.5.0",
            "_model_name": "DescriptionStyleModel",
            "_view_count": null,
            "_view_module": "@jupyter-widgets/base",
            "_view_module_version": "1.2.0",
            "_view_name": "StyleView",
            "description_width": ""
          }
        },
        "d8eb0fc6690f40529b67f7d012d48ad4": {
          "model_module": "@jupyter-widgets/controls",
          "model_module_version": "1.5.0",
          "model_name": "HTMLModel",
          "state": {
            "_dom_classes": [],
            "_model_module": "@jupyter-widgets/controls",
            "_model_module_version": "1.5.0",
            "_model_name": "HTMLModel",
            "_view_count": null,
            "_view_module": "@jupyter-widgets/controls",
            "_view_module_version": "1.5.0",
            "_view_name": "HTMLView",
            "description": "",
            "description_tooltip": null,
            "layout": "IPY_MODEL_5c6efcd95d294a8ca462c19bde5d8fc1",
            "placeholder": "​",
            "style": "IPY_MODEL_d80026862a644d61bf27ddad6f8833f5",
            "value": " 841/841 [00:00&lt;00:00, 31.7kB/s]"
          }
        },
        "daaf0cf076c84dafb2086673f0db54df": {
          "model_module": "@jupyter-widgets/controls",
          "model_module_version": "1.5.0",
          "model_name": "HTMLModel",
          "state": {
            "_dom_classes": [],
            "_model_module": "@jupyter-widgets/controls",
            "_model_module_version": "1.5.0",
            "_model_name": "HTMLModel",
            "_view_count": null,
            "_view_module": "@jupyter-widgets/controls",
            "_view_module_version": "1.5.0",
            "_view_name": "HTMLView",
            "description": "",
            "description_tooltip": null,
            "layout": "IPY_MODEL_a329c8a55eae4bdb853feb9541046c94",
            "placeholder": "​",
            "style": "IPY_MODEL_375a6cc99b2845b8a3d4e0f9d269f5b8",
            "value": "Downloading: 100%"
          }
        },
        "db57e285355546afaea88d2182389a35": {
          "model_module": "@jupyter-widgets/controls",
          "model_module_version": "1.5.0",
          "model_name": "HTMLModel",
          "state": {
            "_dom_classes": [],
            "_model_module": "@jupyter-widgets/controls",
            "_model_module_version": "1.5.0",
            "_model_name": "HTMLModel",
            "_view_count": null,
            "_view_module": "@jupyter-widgets/controls",
            "_view_module_version": "1.5.0",
            "_view_name": "HTMLView",
            "description": "",
            "description_tooltip": null,
            "layout": "IPY_MODEL_d09ef60c2ce04613b881b89c32c6c887",
            "placeholder": "​",
            "style": "IPY_MODEL_ea4f3cbd33b7476ca2fa4ccc6ca3200c",
            "value": " 5.07M/5.07M [00:00&lt;00:00, 11.6MB/s]"
          }
        },
        "dfcffc4205904d72a39aa50196688538": {
          "model_module": "@jupyter-widgets/controls",
          "model_module_version": "1.5.0",
          "model_name": "HTMLModel",
          "state": {
            "_dom_classes": [],
            "_model_module": "@jupyter-widgets/controls",
            "_model_module_version": "1.5.0",
            "_model_name": "HTMLModel",
            "_view_count": null,
            "_view_module": "@jupyter-widgets/controls",
            "_view_module_version": "1.5.0",
            "_view_name": "HTMLView",
            "description": "",
            "description_tooltip": null,
            "layout": "IPY_MODEL_e93666f5a1d148f989296123220e3ae5",
            "placeholder": "​",
            "style": "IPY_MODEL_61a6b46f3a474558bea4ca689cbf7f5b",
            "value": "Downloading: 100%"
          }
        },
        "e93666f5a1d148f989296123220e3ae5": {
          "model_module": "@jupyter-widgets/base",
          "model_module_version": "1.2.0",
          "model_name": "LayoutModel",
          "state": {
            "_model_module": "@jupyter-widgets/base",
            "_model_module_version": "1.2.0",
            "_model_name": "LayoutModel",
            "_view_count": null,
            "_view_module": "@jupyter-widgets/base",
            "_view_module_version": "1.2.0",
            "_view_name": "LayoutView",
            "align_content": null,
            "align_items": null,
            "align_self": null,
            "border": null,
            "bottom": null,
            "display": null,
            "flex": null,
            "flex_flow": null,
            "grid_area": null,
            "grid_auto_columns": null,
            "grid_auto_flow": null,
            "grid_auto_rows": null,
            "grid_column": null,
            "grid_gap": null,
            "grid_row": null,
            "grid_template_areas": null,
            "grid_template_columns": null,
            "grid_template_rows": null,
            "height": null,
            "justify_content": null,
            "justify_items": null,
            "left": null,
            "margin": null,
            "max_height": null,
            "max_width": null,
            "min_height": null,
            "min_width": null,
            "object_fit": null,
            "object_position": null,
            "order": null,
            "overflow": null,
            "overflow_x": null,
            "overflow_y": null,
            "padding": null,
            "right": null,
            "top": null,
            "visibility": null,
            "width": null
          }
        },
        "ea4f3cbd33b7476ca2fa4ccc6ca3200c": {
          "model_module": "@jupyter-widgets/controls",
          "model_module_version": "1.5.0",
          "model_name": "DescriptionStyleModel",
          "state": {
            "_model_module": "@jupyter-widgets/controls",
            "_model_module_version": "1.5.0",
            "_model_name": "DescriptionStyleModel",
            "_view_count": null,
            "_view_module": "@jupyter-widgets/base",
            "_view_module_version": "1.2.0",
            "_view_name": "StyleView",
            "description_width": ""
          }
        },
        "f3a52c03233f4bd8869f915b501ac035": {
          "model_module": "@jupyter-widgets/base",
          "model_module_version": "1.2.0",
          "model_name": "LayoutModel",
          "state": {
            "_model_module": "@jupyter-widgets/base",
            "_model_module_version": "1.2.0",
            "_model_name": "LayoutModel",
            "_view_count": null,
            "_view_module": "@jupyter-widgets/base",
            "_view_module_version": "1.2.0",
            "_view_name": "LayoutView",
            "align_content": null,
            "align_items": null,
            "align_self": null,
            "border": null,
            "bottom": null,
            "display": null,
            "flex": null,
            "flex_flow": null,
            "grid_area": null,
            "grid_auto_columns": null,
            "grid_auto_flow": null,
            "grid_auto_rows": null,
            "grid_column": null,
            "grid_gap": null,
            "grid_row": null,
            "grid_template_areas": null,
            "grid_template_columns": null,
            "grid_template_rows": null,
            "height": null,
            "justify_content": null,
            "justify_items": null,
            "left": null,
            "margin": null,
            "max_height": null,
            "max_width": null,
            "min_height": null,
            "min_width": null,
            "object_fit": null,
            "object_position": null,
            "order": null,
            "overflow": null,
            "overflow_x": null,
            "overflow_y": null,
            "padding": null,
            "right": null,
            "top": null,
            "visibility": null,
            "width": null
          }
        },
        "ffc88f08b0be4b1fa19a4baf91d9d23a": {
          "model_module": "@jupyter-widgets/controls",
          "model_module_version": "1.5.0",
          "model_name": "FloatProgressModel",
          "state": {
            "_dom_classes": [],
            "_model_module": "@jupyter-widgets/controls",
            "_model_module_version": "1.5.0",
            "_model_name": "FloatProgressModel",
            "_view_count": null,
            "_view_module": "@jupyter-widgets/controls",
            "_view_module_version": "1.5.0",
            "_view_name": "ProgressView",
            "bar_style": "success",
            "description": "",
            "description_tooltip": null,
            "layout": "IPY_MODEL_d5533ac4ae1f4404909e363f5c76b63f",
            "max": 150,
            "min": 0,
            "orientation": "horizontal",
            "style": "IPY_MODEL_b5418dd8868d4024a2731bcc2a8b7b49",
            "value": 150
          }
        }
      }
    }
  },
  "nbformat": 4,
  "nbformat_minor": 0
}
