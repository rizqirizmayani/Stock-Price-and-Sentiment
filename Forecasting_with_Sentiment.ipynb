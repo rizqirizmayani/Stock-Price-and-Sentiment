{
  "cells": [
    {
      "cell_type": "markdown",
      "source": [
        "#**I. IMPORT LIBRARIES**\n",
        "\n",
        "Here I will import the libraries that we need for this project.\n"
      ],
      "metadata": {
        "id": "BJsHTV-ZiVo7"
      }
    },
    {
      "cell_type": "code",
      "execution_count": null,
      "metadata": {
        "id": "5N3CEDwH2T8r"
      },
      "outputs": [],
      "source": [
        "import numpy as np # linear algebra\n",
        "import pandas as pd # data processing, CSV file I/O (e.g. pd.read_csv)\n",
        "import os\n",
        "from subprocess import check_output\n",
        "import seaborn as sns\n",
        "import matplotlib.pyplot as plt\n",
        "import warnings\n",
        "from pandas.plotting import lag_plot\n",
        "from pandas import datetime\n",
        "from statsmodels.tsa.arima_model import ARIMA\n",
        "from sklearn.metrics import mean_squared_error\n",
        "\n",
        "\n",
        "from sklearn.metrics import mean_absolute_error, r2_score\n",
        "\n",
        "warnings.filterwarnings('ignore')\n",
        "\n",
        "np.random.seed(42)\n",
        "\n"
      ]
    },
    {
      "cell_type": "markdown",
      "source": [
        "# **II. DATA LOADING**\n",
        "\n",
        "After we imported the libraries that we need, now we will load the data into a variable named df."
      ],
      "metadata": {
        "id": "YtToCwR0kUD5"
      }
    },
    {
      "cell_type": "code",
      "execution_count": null,
      "metadata": {
        "colab": {
          "base_uri": "https://localhost:8080/",
          "height": 206
        },
        "id": "QD83UilS2axI",
        "outputId": "df171f93-4504-477a-8819-a0b2e462432b"
      },
      "outputs": [
        {
          "output_type": "execute_result",
          "data": {
            "text/plain": [
              "         Date       Open       High        Low      Close  Adj Close  \\\n",
              "0  2018-01-02  42.540001  43.075001  42.314999  43.064999  40.950489   \n",
              "1  2018-01-03  43.132500  43.637501  42.990002  43.057499  40.943359   \n",
              "2  2018-01-04  43.134998  43.367500  43.020000  43.257500  41.133537   \n",
              "3  2018-01-05  43.360001  43.842499  43.262501  43.750000  41.601860   \n",
              "4  2018-01-08  43.587502  43.902500  43.482498  43.587502  41.447342   \n",
              "\n",
              "      Volume    P_mean  P_sum  twt_count  pos  neg  neutral  \n",
              "0  102223600 -0.093750     -3         32    1    4       27  \n",
              "1  118071600 -0.060000     -3         50    3    6       41  \n",
              "2   89738400 -0.176471     -6         34    1    7       26  \n",
              "3   94640000 -0.068966     -2         29    4    6       19  \n",
              "4   82271200 -0.086957     -4         46    2    6       38  "
            ],
            "text/html": [
              "\n",
              "  <div id=\"df-4af10321-04b7-4e00-a048-02d3f8392620\">\n",
              "    <div class=\"colab-df-container\">\n",
              "      <div>\n",
              "<style scoped>\n",
              "    .dataframe tbody tr th:only-of-type {\n",
              "        vertical-align: middle;\n",
              "    }\n",
              "\n",
              "    .dataframe tbody tr th {\n",
              "        vertical-align: top;\n",
              "    }\n",
              "\n",
              "    .dataframe thead th {\n",
              "        text-align: right;\n",
              "    }\n",
              "</style>\n",
              "<table border=\"1\" class=\"dataframe\">\n",
              "  <thead>\n",
              "    <tr style=\"text-align: right;\">\n",
              "      <th></th>\n",
              "      <th>Date</th>\n",
              "      <th>Open</th>\n",
              "      <th>High</th>\n",
              "      <th>Low</th>\n",
              "      <th>Close</th>\n",
              "      <th>Adj Close</th>\n",
              "      <th>Volume</th>\n",
              "      <th>P_mean</th>\n",
              "      <th>P_sum</th>\n",
              "      <th>twt_count</th>\n",
              "      <th>pos</th>\n",
              "      <th>neg</th>\n",
              "      <th>neutral</th>\n",
              "    </tr>\n",
              "  </thead>\n",
              "  <tbody>\n",
              "    <tr>\n",
              "      <th>0</th>\n",
              "      <td>2018-01-02</td>\n",
              "      <td>42.540001</td>\n",
              "      <td>43.075001</td>\n",
              "      <td>42.314999</td>\n",
              "      <td>43.064999</td>\n",
              "      <td>40.950489</td>\n",
              "      <td>102223600</td>\n",
              "      <td>-0.093750</td>\n",
              "      <td>-3</td>\n",
              "      <td>32</td>\n",
              "      <td>1</td>\n",
              "      <td>4</td>\n",
              "      <td>27</td>\n",
              "    </tr>\n",
              "    <tr>\n",
              "      <th>1</th>\n",
              "      <td>2018-01-03</td>\n",
              "      <td>43.132500</td>\n",
              "      <td>43.637501</td>\n",
              "      <td>42.990002</td>\n",
              "      <td>43.057499</td>\n",
              "      <td>40.943359</td>\n",
              "      <td>118071600</td>\n",
              "      <td>-0.060000</td>\n",
              "      <td>-3</td>\n",
              "      <td>50</td>\n",
              "      <td>3</td>\n",
              "      <td>6</td>\n",
              "      <td>41</td>\n",
              "    </tr>\n",
              "    <tr>\n",
              "      <th>2</th>\n",
              "      <td>2018-01-04</td>\n",
              "      <td>43.134998</td>\n",
              "      <td>43.367500</td>\n",
              "      <td>43.020000</td>\n",
              "      <td>43.257500</td>\n",
              "      <td>41.133537</td>\n",
              "      <td>89738400</td>\n",
              "      <td>-0.176471</td>\n",
              "      <td>-6</td>\n",
              "      <td>34</td>\n",
              "      <td>1</td>\n",
              "      <td>7</td>\n",
              "      <td>26</td>\n",
              "    </tr>\n",
              "    <tr>\n",
              "      <th>3</th>\n",
              "      <td>2018-01-05</td>\n",
              "      <td>43.360001</td>\n",
              "      <td>43.842499</td>\n",
              "      <td>43.262501</td>\n",
              "      <td>43.750000</td>\n",
              "      <td>41.601860</td>\n",
              "      <td>94640000</td>\n",
              "      <td>-0.068966</td>\n",
              "      <td>-2</td>\n",
              "      <td>29</td>\n",
              "      <td>4</td>\n",
              "      <td>6</td>\n",
              "      <td>19</td>\n",
              "    </tr>\n",
              "    <tr>\n",
              "      <th>4</th>\n",
              "      <td>2018-01-08</td>\n",
              "      <td>43.587502</td>\n",
              "      <td>43.902500</td>\n",
              "      <td>43.482498</td>\n",
              "      <td>43.587502</td>\n",
              "      <td>41.447342</td>\n",
              "      <td>82271200</td>\n",
              "      <td>-0.086957</td>\n",
              "      <td>-4</td>\n",
              "      <td>46</td>\n",
              "      <td>2</td>\n",
              "      <td>6</td>\n",
              "      <td>38</td>\n",
              "    </tr>\n",
              "  </tbody>\n",
              "</table>\n",
              "</div>\n",
              "      <button class=\"colab-df-convert\" onclick=\"convertToInteractive('df-4af10321-04b7-4e00-a048-02d3f8392620')\"\n",
              "              title=\"Convert this dataframe to an interactive table.\"\n",
              "              style=\"display:none;\">\n",
              "        \n",
              "  <svg xmlns=\"http://www.w3.org/2000/svg\" height=\"24px\"viewBox=\"0 0 24 24\"\n",
              "       width=\"24px\">\n",
              "    <path d=\"M0 0h24v24H0V0z\" fill=\"none\"/>\n",
              "    <path d=\"M18.56 5.44l.94 2.06.94-2.06 2.06-.94-2.06-.94-.94-2.06-.94 2.06-2.06.94zm-11 1L8.5 8.5l.94-2.06 2.06-.94-2.06-.94L8.5 2.5l-.94 2.06-2.06.94zm10 10l.94 2.06.94-2.06 2.06-.94-2.06-.94-.94-2.06-.94 2.06-2.06.94z\"/><path d=\"M17.41 7.96l-1.37-1.37c-.4-.4-.92-.59-1.43-.59-.52 0-1.04.2-1.43.59L10.3 9.45l-7.72 7.72c-.78.78-.78 2.05 0 2.83L4 21.41c.39.39.9.59 1.41.59.51 0 1.02-.2 1.41-.59l7.78-7.78 2.81-2.81c.8-.78.8-2.07 0-2.86zM5.41 20L4 18.59l7.72-7.72 1.47 1.35L5.41 20z\"/>\n",
              "  </svg>\n",
              "      </button>\n",
              "      \n",
              "  <style>\n",
              "    .colab-df-container {\n",
              "      display:flex;\n",
              "      flex-wrap:wrap;\n",
              "      gap: 12px;\n",
              "    }\n",
              "\n",
              "    .colab-df-convert {\n",
              "      background-color: #E8F0FE;\n",
              "      border: none;\n",
              "      border-radius: 50%;\n",
              "      cursor: pointer;\n",
              "      display: none;\n",
              "      fill: #1967D2;\n",
              "      height: 32px;\n",
              "      padding: 0 0 0 0;\n",
              "      width: 32px;\n",
              "    }\n",
              "\n",
              "    .colab-df-convert:hover {\n",
              "      background-color: #E2EBFA;\n",
              "      box-shadow: 0px 1px 2px rgba(60, 64, 67, 0.3), 0px 1px 3px 1px rgba(60, 64, 67, 0.15);\n",
              "      fill: #174EA6;\n",
              "    }\n",
              "\n",
              "    [theme=dark] .colab-df-convert {\n",
              "      background-color: #3B4455;\n",
              "      fill: #D2E3FC;\n",
              "    }\n",
              "\n",
              "    [theme=dark] .colab-df-convert:hover {\n",
              "      background-color: #434B5C;\n",
              "      box-shadow: 0px 1px 3px 1px rgba(0, 0, 0, 0.15);\n",
              "      filter: drop-shadow(0px 1px 2px rgba(0, 0, 0, 0.3));\n",
              "      fill: #FFFFFF;\n",
              "    }\n",
              "  </style>\n",
              "\n",
              "      <script>\n",
              "        const buttonEl =\n",
              "          document.querySelector('#df-4af10321-04b7-4e00-a048-02d3f8392620 button.colab-df-convert');\n",
              "        buttonEl.style.display =\n",
              "          google.colab.kernel.accessAllowed ? 'block' : 'none';\n",
              "\n",
              "        async function convertToInteractive(key) {\n",
              "          const element = document.querySelector('#df-4af10321-04b7-4e00-a048-02d3f8392620');\n",
              "          const dataTable =\n",
              "            await google.colab.kernel.invokeFunction('convertToInteractive',\n",
              "                                                     [key], {});\n",
              "          if (!dataTable) return;\n",
              "\n",
              "          const docLinkHtml = 'Like what you see? Visit the ' +\n",
              "            '<a target=\"_blank\" href=https://colab.research.google.com/notebooks/data_table.ipynb>data table notebook</a>'\n",
              "            + ' to learn more about interactive tables.';\n",
              "          element.innerHTML = '';\n",
              "          dataTable['output_type'] = 'display_data';\n",
              "          await google.colab.output.renderOutput(dataTable, element);\n",
              "          const docLink = document.createElement('div');\n",
              "          docLink.innerHTML = docLinkHtml;\n",
              "          element.appendChild(docLink);\n",
              "        }\n",
              "      </script>\n",
              "    </div>\n",
              "  </div>\n",
              "  "
            ]
          },
          "metadata": {},
          "execution_count": 20
        }
      ],
      "source": [
        "df = pd.read_csv(\"Final_apple_stock_twit.csv\")\n",
        "df.head()"
      ]
    },
    {
      "cell_type": "code",
      "source": [
        "df.info()"
      ],
      "metadata": {
        "colab": {
          "base_uri": "https://localhost:8080/"
        },
        "id": "narPRpJQ-WRv",
        "outputId": "82b2bd02-d810-4089-c81d-0b92bd62d677"
      },
      "execution_count": null,
      "outputs": [
        {
          "output_type": "stream",
          "name": "stdout",
          "text": [
            "<class 'pandas.core.frame.DataFrame'>\n",
            "RangeIndex: 1250 entries, 0 to 1249\n",
            "Data columns (total 13 columns):\n",
            " #   Column     Non-Null Count  Dtype  \n",
            "---  ------     --------------  -----  \n",
            " 0   Date       1250 non-null   object \n",
            " 1   Open       1250 non-null   float64\n",
            " 2   High       1250 non-null   float64\n",
            " 3   Low        1250 non-null   float64\n",
            " 4   Close      1250 non-null   float64\n",
            " 5   Adj Close  1250 non-null   float64\n",
            " 6   Volume     1250 non-null   int64  \n",
            " 7   P_mean     1250 non-null   float64\n",
            " 8   P_sum      1250 non-null   int64  \n",
            " 9   twt_count  1250 non-null   int64  \n",
            " 10  pos        1250 non-null   int64  \n",
            " 11  neg        1250 non-null   int64  \n",
            " 12  neutral    1250 non-null   int64  \n",
            "dtypes: float64(6), int64(6), object(1)\n",
            "memory usage: 127.1+ KB\n"
          ]
        }
      ]
    },
    {
      "cell_type": "markdown",
      "source": [
        "It can be seen from the data above, because there are no missing values ​​in this data, therefore we will not do data cleaning.\n",
        "Now, we will change the `Date` column to datetime because the `Date` column is an object data type."
      ],
      "metadata": {
        "id": "mXbhJO2DnHLy"
      }
    },
    {
      "cell_type": "code",
      "source": [
        "df['Date'] = pd.to_datetime(df['Date'])"
      ],
      "metadata": {
        "id": "eV0Zc7_y-Z0D"
      },
      "execution_count": null,
      "outputs": []
    },
    {
      "cell_type": "markdown",
      "source": [
        "After changing the `Date` column to datetime, we will now add the year, week, and day columns."
      ],
      "metadata": {
        "id": "mRBLbAzuGSXp"
      }
    },
    {
      "cell_type": "code",
      "source": [
        "from datetime import datetime\n",
        "\n",
        "year=[]\n",
        "week_number=[]\n",
        "day_of_week=[]\n",
        "# Get the current date and time\n",
        "for i in df.index:\n",
        "  now = df.Date[i]\n",
        "\n",
        "# Extract the week number\n",
        "  a, b, c = now.isocalendar()\n",
        "  year.append(a)\n",
        "  week_number.append(b)\n",
        "  day_of_week.append(c)\n",
        "\n",
        "df['year'] = year\n",
        "df['week_number'] = week_number\n",
        "df['day_of_week'] = day_of_week\n"
      ],
      "metadata": {
        "id": "yZvedIaH-M_S"
      },
      "execution_count": null,
      "outputs": []
    },
    {
      "cell_type": "code",
      "source": [
        "df"
      ],
      "metadata": {
        "colab": {
          "base_uri": "https://localhost:8080/",
          "height": 424
        },
        "id": "sEbvPSSW_42c",
        "outputId": "2545109c-143a-4f7d-ce10-4ca4b0778b12"
      },
      "execution_count": null,
      "outputs": [
        {
          "output_type": "execute_result",
          "data": {
            "text/plain": [
              "           Date        Open        High         Low       Close   Adj Close  \\\n",
              "0    2018-01-02   42.540001   43.075001   42.314999   43.064999   40.950489   \n",
              "1    2018-01-03   43.132500   43.637501   42.990002   43.057499   40.943359   \n",
              "2    2018-01-04   43.134998   43.367500   43.020000   43.257500   41.133537   \n",
              "3    2018-01-05   43.360001   43.842499   43.262501   43.750000   41.601860   \n",
              "4    2018-01-08   43.587502   43.902500   43.482498   43.587502   41.447342   \n",
              "...         ...         ...         ...         ...         ...         ...   \n",
              "1245 2022-12-12  142.699997  144.500000  141.059998  144.490005  144.490005   \n",
              "1246 2022-12-13  149.500000  149.970001  144.240005  145.470001  145.470001   \n",
              "1247 2022-12-14  145.350006  146.660004  141.160004  143.210007  143.210007   \n",
              "1248 2022-12-15  141.110001  141.800003  136.029999  136.500000  136.500000   \n",
              "1249 2022-12-16  136.690002  137.649994  133.729996  134.509995  134.509995   \n",
              "\n",
              "         Volume    P_mean  P_sum  twt_count  pos  neg  neutral  year  \\\n",
              "0     102223600 -0.093750     -3         32    1    4       27  2018   \n",
              "1     118071600 -0.060000     -3         50    3    6       41  2018   \n",
              "2      89738400 -0.176471     -6         34    1    7       26  2018   \n",
              "3      94640000 -0.068966     -2         29    4    6       19  2018   \n",
              "4      82271200 -0.086957     -4         46    2    6       38  2018   \n",
              "...         ...       ...    ...        ...  ...  ...      ...   ...   \n",
              "1245   70462700 -0.066667     -4         60    0    4       56  2022   \n",
              "1246   93886200 -0.039474     -3         76    3    6       67  2022   \n",
              "1247   82291200 -0.046875     -3         64    2    5       57  2022   \n",
              "1248   98931900  0.024390      2         82    9    7       66  2022   \n",
              "1249  160080100 -0.125000    -11         88    5   16       67  2022   \n",
              "\n",
              "      week_number  day_of_week  \n",
              "0               1            2  \n",
              "1               1            3  \n",
              "2               1            4  \n",
              "3               1            5  \n",
              "4               2            1  \n",
              "...           ...          ...  \n",
              "1245           50            1  \n",
              "1246           50            2  \n",
              "1247           50            3  \n",
              "1248           50            4  \n",
              "1249           50            5  \n",
              "\n",
              "[1250 rows x 16 columns]"
            ],
            "text/html": [
              "\n",
              "  <div id=\"df-8982b90f-b28c-4dd1-957b-cd8bdb3da609\">\n",
              "    <div class=\"colab-df-container\">\n",
              "      <div>\n",
              "<style scoped>\n",
              "    .dataframe tbody tr th:only-of-type {\n",
              "        vertical-align: middle;\n",
              "    }\n",
              "\n",
              "    .dataframe tbody tr th {\n",
              "        vertical-align: top;\n",
              "    }\n",
              "\n",
              "    .dataframe thead th {\n",
              "        text-align: right;\n",
              "    }\n",
              "</style>\n",
              "<table border=\"1\" class=\"dataframe\">\n",
              "  <thead>\n",
              "    <tr style=\"text-align: right;\">\n",
              "      <th></th>\n",
              "      <th>Date</th>\n",
              "      <th>Open</th>\n",
              "      <th>High</th>\n",
              "      <th>Low</th>\n",
              "      <th>Close</th>\n",
              "      <th>Adj Close</th>\n",
              "      <th>Volume</th>\n",
              "      <th>P_mean</th>\n",
              "      <th>P_sum</th>\n",
              "      <th>twt_count</th>\n",
              "      <th>pos</th>\n",
              "      <th>neg</th>\n",
              "      <th>neutral</th>\n",
              "      <th>year</th>\n",
              "      <th>week_number</th>\n",
              "      <th>day_of_week</th>\n",
              "    </tr>\n",
              "  </thead>\n",
              "  <tbody>\n",
              "    <tr>\n",
              "      <th>0</th>\n",
              "      <td>2018-01-02</td>\n",
              "      <td>42.540001</td>\n",
              "      <td>43.075001</td>\n",
              "      <td>42.314999</td>\n",
              "      <td>43.064999</td>\n",
              "      <td>40.950489</td>\n",
              "      <td>102223600</td>\n",
              "      <td>-0.093750</td>\n",
              "      <td>-3</td>\n",
              "      <td>32</td>\n",
              "      <td>1</td>\n",
              "      <td>4</td>\n",
              "      <td>27</td>\n",
              "      <td>2018</td>\n",
              "      <td>1</td>\n",
              "      <td>2</td>\n",
              "    </tr>\n",
              "    <tr>\n",
              "      <th>1</th>\n",
              "      <td>2018-01-03</td>\n",
              "      <td>43.132500</td>\n",
              "      <td>43.637501</td>\n",
              "      <td>42.990002</td>\n",
              "      <td>43.057499</td>\n",
              "      <td>40.943359</td>\n",
              "      <td>118071600</td>\n",
              "      <td>-0.060000</td>\n",
              "      <td>-3</td>\n",
              "      <td>50</td>\n",
              "      <td>3</td>\n",
              "      <td>6</td>\n",
              "      <td>41</td>\n",
              "      <td>2018</td>\n",
              "      <td>1</td>\n",
              "      <td>3</td>\n",
              "    </tr>\n",
              "    <tr>\n",
              "      <th>2</th>\n",
              "      <td>2018-01-04</td>\n",
              "      <td>43.134998</td>\n",
              "      <td>43.367500</td>\n",
              "      <td>43.020000</td>\n",
              "      <td>43.257500</td>\n",
              "      <td>41.133537</td>\n",
              "      <td>89738400</td>\n",
              "      <td>-0.176471</td>\n",
              "      <td>-6</td>\n",
              "      <td>34</td>\n",
              "      <td>1</td>\n",
              "      <td>7</td>\n",
              "      <td>26</td>\n",
              "      <td>2018</td>\n",
              "      <td>1</td>\n",
              "      <td>4</td>\n",
              "    </tr>\n",
              "    <tr>\n",
              "      <th>3</th>\n",
              "      <td>2018-01-05</td>\n",
              "      <td>43.360001</td>\n",
              "      <td>43.842499</td>\n",
              "      <td>43.262501</td>\n",
              "      <td>43.750000</td>\n",
              "      <td>41.601860</td>\n",
              "      <td>94640000</td>\n",
              "      <td>-0.068966</td>\n",
              "      <td>-2</td>\n",
              "      <td>29</td>\n",
              "      <td>4</td>\n",
              "      <td>6</td>\n",
              "      <td>19</td>\n",
              "      <td>2018</td>\n",
              "      <td>1</td>\n",
              "      <td>5</td>\n",
              "    </tr>\n",
              "    <tr>\n",
              "      <th>4</th>\n",
              "      <td>2018-01-08</td>\n",
              "      <td>43.587502</td>\n",
              "      <td>43.902500</td>\n",
              "      <td>43.482498</td>\n",
              "      <td>43.587502</td>\n",
              "      <td>41.447342</td>\n",
              "      <td>82271200</td>\n",
              "      <td>-0.086957</td>\n",
              "      <td>-4</td>\n",
              "      <td>46</td>\n",
              "      <td>2</td>\n",
              "      <td>6</td>\n",
              "      <td>38</td>\n",
              "      <td>2018</td>\n",
              "      <td>2</td>\n",
              "      <td>1</td>\n",
              "    </tr>\n",
              "    <tr>\n",
              "      <th>...</th>\n",
              "      <td>...</td>\n",
              "      <td>...</td>\n",
              "      <td>...</td>\n",
              "      <td>...</td>\n",
              "      <td>...</td>\n",
              "      <td>...</td>\n",
              "      <td>...</td>\n",
              "      <td>...</td>\n",
              "      <td>...</td>\n",
              "      <td>...</td>\n",
              "      <td>...</td>\n",
              "      <td>...</td>\n",
              "      <td>...</td>\n",
              "      <td>...</td>\n",
              "      <td>...</td>\n",
              "      <td>...</td>\n",
              "    </tr>\n",
              "    <tr>\n",
              "      <th>1245</th>\n",
              "      <td>2022-12-12</td>\n",
              "      <td>142.699997</td>\n",
              "      <td>144.500000</td>\n",
              "      <td>141.059998</td>\n",
              "      <td>144.490005</td>\n",
              "      <td>144.490005</td>\n",
              "      <td>70462700</td>\n",
              "      <td>-0.066667</td>\n",
              "      <td>-4</td>\n",
              "      <td>60</td>\n",
              "      <td>0</td>\n",
              "      <td>4</td>\n",
              "      <td>56</td>\n",
              "      <td>2022</td>\n",
              "      <td>50</td>\n",
              "      <td>1</td>\n",
              "    </tr>\n",
              "    <tr>\n",
              "      <th>1246</th>\n",
              "      <td>2022-12-13</td>\n",
              "      <td>149.500000</td>\n",
              "      <td>149.970001</td>\n",
              "      <td>144.240005</td>\n",
              "      <td>145.470001</td>\n",
              "      <td>145.470001</td>\n",
              "      <td>93886200</td>\n",
              "      <td>-0.039474</td>\n",
              "      <td>-3</td>\n",
              "      <td>76</td>\n",
              "      <td>3</td>\n",
              "      <td>6</td>\n",
              "      <td>67</td>\n",
              "      <td>2022</td>\n",
              "      <td>50</td>\n",
              "      <td>2</td>\n",
              "    </tr>\n",
              "    <tr>\n",
              "      <th>1247</th>\n",
              "      <td>2022-12-14</td>\n",
              "      <td>145.350006</td>\n",
              "      <td>146.660004</td>\n",
              "      <td>141.160004</td>\n",
              "      <td>143.210007</td>\n",
              "      <td>143.210007</td>\n",
              "      <td>82291200</td>\n",
              "      <td>-0.046875</td>\n",
              "      <td>-3</td>\n",
              "      <td>64</td>\n",
              "      <td>2</td>\n",
              "      <td>5</td>\n",
              "      <td>57</td>\n",
              "      <td>2022</td>\n",
              "      <td>50</td>\n",
              "      <td>3</td>\n",
              "    </tr>\n",
              "    <tr>\n",
              "      <th>1248</th>\n",
              "      <td>2022-12-15</td>\n",
              "      <td>141.110001</td>\n",
              "      <td>141.800003</td>\n",
              "      <td>136.029999</td>\n",
              "      <td>136.500000</td>\n",
              "      <td>136.500000</td>\n",
              "      <td>98931900</td>\n",
              "      <td>0.024390</td>\n",
              "      <td>2</td>\n",
              "      <td>82</td>\n",
              "      <td>9</td>\n",
              "      <td>7</td>\n",
              "      <td>66</td>\n",
              "      <td>2022</td>\n",
              "      <td>50</td>\n",
              "      <td>4</td>\n",
              "    </tr>\n",
              "    <tr>\n",
              "      <th>1249</th>\n",
              "      <td>2022-12-16</td>\n",
              "      <td>136.690002</td>\n",
              "      <td>137.649994</td>\n",
              "      <td>133.729996</td>\n",
              "      <td>134.509995</td>\n",
              "      <td>134.509995</td>\n",
              "      <td>160080100</td>\n",
              "      <td>-0.125000</td>\n",
              "      <td>-11</td>\n",
              "      <td>88</td>\n",
              "      <td>5</td>\n",
              "      <td>16</td>\n",
              "      <td>67</td>\n",
              "      <td>2022</td>\n",
              "      <td>50</td>\n",
              "      <td>5</td>\n",
              "    </tr>\n",
              "  </tbody>\n",
              "</table>\n",
              "<p>1250 rows × 16 columns</p>\n",
              "</div>\n",
              "      <button class=\"colab-df-convert\" onclick=\"convertToInteractive('df-8982b90f-b28c-4dd1-957b-cd8bdb3da609')\"\n",
              "              title=\"Convert this dataframe to an interactive table.\"\n",
              "              style=\"display:none;\">\n",
              "        \n",
              "  <svg xmlns=\"http://www.w3.org/2000/svg\" height=\"24px\"viewBox=\"0 0 24 24\"\n",
              "       width=\"24px\">\n",
              "    <path d=\"M0 0h24v24H0V0z\" fill=\"none\"/>\n",
              "    <path d=\"M18.56 5.44l.94 2.06.94-2.06 2.06-.94-2.06-.94-.94-2.06-.94 2.06-2.06.94zm-11 1L8.5 8.5l.94-2.06 2.06-.94-2.06-.94L8.5 2.5l-.94 2.06-2.06.94zm10 10l.94 2.06.94-2.06 2.06-.94-2.06-.94-.94-2.06-.94 2.06-2.06.94z\"/><path d=\"M17.41 7.96l-1.37-1.37c-.4-.4-.92-.59-1.43-.59-.52 0-1.04.2-1.43.59L10.3 9.45l-7.72 7.72c-.78.78-.78 2.05 0 2.83L4 21.41c.39.39.9.59 1.41.59.51 0 1.02-.2 1.41-.59l7.78-7.78 2.81-2.81c.8-.78.8-2.07 0-2.86zM5.41 20L4 18.59l7.72-7.72 1.47 1.35L5.41 20z\"/>\n",
              "  </svg>\n",
              "      </button>\n",
              "      \n",
              "  <style>\n",
              "    .colab-df-container {\n",
              "      display:flex;\n",
              "      flex-wrap:wrap;\n",
              "      gap: 12px;\n",
              "    }\n",
              "\n",
              "    .colab-df-convert {\n",
              "      background-color: #E8F0FE;\n",
              "      border: none;\n",
              "      border-radius: 50%;\n",
              "      cursor: pointer;\n",
              "      display: none;\n",
              "      fill: #1967D2;\n",
              "      height: 32px;\n",
              "      padding: 0 0 0 0;\n",
              "      width: 32px;\n",
              "    }\n",
              "\n",
              "    .colab-df-convert:hover {\n",
              "      background-color: #E2EBFA;\n",
              "      box-shadow: 0px 1px 2px rgba(60, 64, 67, 0.3), 0px 1px 3px 1px rgba(60, 64, 67, 0.15);\n",
              "      fill: #174EA6;\n",
              "    }\n",
              "\n",
              "    [theme=dark] .colab-df-convert {\n",
              "      background-color: #3B4455;\n",
              "      fill: #D2E3FC;\n",
              "    }\n",
              "\n",
              "    [theme=dark] .colab-df-convert:hover {\n",
              "      background-color: #434B5C;\n",
              "      box-shadow: 0px 1px 3px 1px rgba(0, 0, 0, 0.15);\n",
              "      filter: drop-shadow(0px 1px 2px rgba(0, 0, 0, 0.3));\n",
              "      fill: #FFFFFF;\n",
              "    }\n",
              "  </style>\n",
              "\n",
              "      <script>\n",
              "        const buttonEl =\n",
              "          document.querySelector('#df-8982b90f-b28c-4dd1-957b-cd8bdb3da609 button.colab-df-convert');\n",
              "        buttonEl.style.display =\n",
              "          google.colab.kernel.accessAllowed ? 'block' : 'none';\n",
              "\n",
              "        async function convertToInteractive(key) {\n",
              "          const element = document.querySelector('#df-8982b90f-b28c-4dd1-957b-cd8bdb3da609');\n",
              "          const dataTable =\n",
              "            await google.colab.kernel.invokeFunction('convertToInteractive',\n",
              "                                                     [key], {});\n",
              "          if (!dataTable) return;\n",
              "\n",
              "          const docLinkHtml = 'Like what you see? Visit the ' +\n",
              "            '<a target=\"_blank\" href=https://colab.research.google.com/notebooks/data_table.ipynb>data table notebook</a>'\n",
              "            + ' to learn more about interactive tables.';\n",
              "          element.innerHTML = '';\n",
              "          dataTable['output_type'] = 'display_data';\n",
              "          await google.colab.output.renderOutput(dataTable, element);\n",
              "          const docLink = document.createElement('div');\n",
              "          docLink.innerHTML = docLinkHtml;\n",
              "          element.appendChild(docLink);\n",
              "        }\n",
              "      </script>\n",
              "    </div>\n",
              "  </div>\n",
              "  "
            ]
          },
          "metadata": {},
          "execution_count": 24
        }
      ]
    },
    {
      "cell_type": "markdown",
      "source": [
        "Now that we want to predict tomorrow's `Adj Close`, we will shift the data from tomorrow to the same column as today's"
      ],
      "metadata": {
        "id": "vyRVkQzlrfxw"
      }
    },
    {
      "cell_type": "code",
      "execution_count": null,
      "metadata": {
        "colab": {
          "base_uri": "https://localhost:8080/",
          "height": 424
        },
        "id": "a2D3OGo9ZGoQ",
        "outputId": "c08c4426-c9c5-4b83-f7a5-a267ce0890fc"
      },
      "outputs": [
        {
          "output_type": "execute_result",
          "data": {
            "text/plain": [
              "           Date        Open        High         Low       Close   Adj Close  \\\n",
              "0    2018-01-02   42.540001   43.075001   42.314999   43.064999   40.943359   \n",
              "1    2018-01-03   43.132500   43.637501   42.990002   43.057499   41.133537   \n",
              "2    2018-01-04   43.134998   43.367500   43.020000   43.257500   41.601860   \n",
              "3    2018-01-05   43.360001   43.842499   43.262501   43.750000   41.447342   \n",
              "4    2018-01-08   43.587502   43.902500   43.482498   43.587502   41.442593   \n",
              "...         ...         ...         ...         ...         ...         ...   \n",
              "1244 2022-12-09  142.339996  145.570007  140.899994  142.160004  144.490005   \n",
              "1245 2022-12-12  142.699997  144.500000  141.059998  144.490005  145.470001   \n",
              "1246 2022-12-13  149.500000  149.970001  144.240005  145.470001  143.210007   \n",
              "1247 2022-12-14  145.350006  146.660004  141.160004  143.210007  136.500000   \n",
              "1248 2022-12-15  141.110001  141.800003  136.029999  136.500000  134.509995   \n",
              "\n",
              "         Volume    P_mean  P_sum  twt_count  pos  neg  neutral  year  \\\n",
              "0     102223600 -0.093750     -3         32    1    4       27  2018   \n",
              "1     118071600 -0.060000     -3         50    3    6       41  2018   \n",
              "2      89738400 -0.176471     -6         34    1    7       26  2018   \n",
              "3      94640000 -0.068966     -2         29    4    6       19  2018   \n",
              "4      82271200 -0.086957     -4         46    2    6       38  2018   \n",
              "...         ...       ...    ...        ...  ...  ...      ...   ...   \n",
              "1244   76069500 -0.030303     -2         66   10   12       44  2022   \n",
              "1245   70462700 -0.066667     -4         60    0    4       56  2022   \n",
              "1246   93886200 -0.039474     -3         76    3    6       67  2022   \n",
              "1247   82291200 -0.046875     -3         64    2    5       57  2022   \n",
              "1248   98931900  0.024390      2         82    9    7       66  2022   \n",
              "\n",
              "      week_number  day_of_week  \n",
              "0               1            2  \n",
              "1               1            3  \n",
              "2               1            4  \n",
              "3               1            5  \n",
              "4               2            1  \n",
              "...           ...          ...  \n",
              "1244           49            5  \n",
              "1245           50            1  \n",
              "1246           50            2  \n",
              "1247           50            3  \n",
              "1248           50            4  \n",
              "\n",
              "[1249 rows x 16 columns]"
            ],
            "text/html": [
              "\n",
              "  <div id=\"df-6058540a-619e-4117-ac95-5ddd255fe9ac\">\n",
              "    <div class=\"colab-df-container\">\n",
              "      <div>\n",
              "<style scoped>\n",
              "    .dataframe tbody tr th:only-of-type {\n",
              "        vertical-align: middle;\n",
              "    }\n",
              "\n",
              "    .dataframe tbody tr th {\n",
              "        vertical-align: top;\n",
              "    }\n",
              "\n",
              "    .dataframe thead th {\n",
              "        text-align: right;\n",
              "    }\n",
              "</style>\n",
              "<table border=\"1\" class=\"dataframe\">\n",
              "  <thead>\n",
              "    <tr style=\"text-align: right;\">\n",
              "      <th></th>\n",
              "      <th>Date</th>\n",
              "      <th>Open</th>\n",
              "      <th>High</th>\n",
              "      <th>Low</th>\n",
              "      <th>Close</th>\n",
              "      <th>Adj Close</th>\n",
              "      <th>Volume</th>\n",
              "      <th>P_mean</th>\n",
              "      <th>P_sum</th>\n",
              "      <th>twt_count</th>\n",
              "      <th>pos</th>\n",
              "      <th>neg</th>\n",
              "      <th>neutral</th>\n",
              "      <th>year</th>\n",
              "      <th>week_number</th>\n",
              "      <th>day_of_week</th>\n",
              "    </tr>\n",
              "  </thead>\n",
              "  <tbody>\n",
              "    <tr>\n",
              "      <th>0</th>\n",
              "      <td>2018-01-02</td>\n",
              "      <td>42.540001</td>\n",
              "      <td>43.075001</td>\n",
              "      <td>42.314999</td>\n",
              "      <td>43.064999</td>\n",
              "      <td>40.943359</td>\n",
              "      <td>102223600</td>\n",
              "      <td>-0.093750</td>\n",
              "      <td>-3</td>\n",
              "      <td>32</td>\n",
              "      <td>1</td>\n",
              "      <td>4</td>\n",
              "      <td>27</td>\n",
              "      <td>2018</td>\n",
              "      <td>1</td>\n",
              "      <td>2</td>\n",
              "    </tr>\n",
              "    <tr>\n",
              "      <th>1</th>\n",
              "      <td>2018-01-03</td>\n",
              "      <td>43.132500</td>\n",
              "      <td>43.637501</td>\n",
              "      <td>42.990002</td>\n",
              "      <td>43.057499</td>\n",
              "      <td>41.133537</td>\n",
              "      <td>118071600</td>\n",
              "      <td>-0.060000</td>\n",
              "      <td>-3</td>\n",
              "      <td>50</td>\n",
              "      <td>3</td>\n",
              "      <td>6</td>\n",
              "      <td>41</td>\n",
              "      <td>2018</td>\n",
              "      <td>1</td>\n",
              "      <td>3</td>\n",
              "    </tr>\n",
              "    <tr>\n",
              "      <th>2</th>\n",
              "      <td>2018-01-04</td>\n",
              "      <td>43.134998</td>\n",
              "      <td>43.367500</td>\n",
              "      <td>43.020000</td>\n",
              "      <td>43.257500</td>\n",
              "      <td>41.601860</td>\n",
              "      <td>89738400</td>\n",
              "      <td>-0.176471</td>\n",
              "      <td>-6</td>\n",
              "      <td>34</td>\n",
              "      <td>1</td>\n",
              "      <td>7</td>\n",
              "      <td>26</td>\n",
              "      <td>2018</td>\n",
              "      <td>1</td>\n",
              "      <td>4</td>\n",
              "    </tr>\n",
              "    <tr>\n",
              "      <th>3</th>\n",
              "      <td>2018-01-05</td>\n",
              "      <td>43.360001</td>\n",
              "      <td>43.842499</td>\n",
              "      <td>43.262501</td>\n",
              "      <td>43.750000</td>\n",
              "      <td>41.447342</td>\n",
              "      <td>94640000</td>\n",
              "      <td>-0.068966</td>\n",
              "      <td>-2</td>\n",
              "      <td>29</td>\n",
              "      <td>4</td>\n",
              "      <td>6</td>\n",
              "      <td>19</td>\n",
              "      <td>2018</td>\n",
              "      <td>1</td>\n",
              "      <td>5</td>\n",
              "    </tr>\n",
              "    <tr>\n",
              "      <th>4</th>\n",
              "      <td>2018-01-08</td>\n",
              "      <td>43.587502</td>\n",
              "      <td>43.902500</td>\n",
              "      <td>43.482498</td>\n",
              "      <td>43.587502</td>\n",
              "      <td>41.442593</td>\n",
              "      <td>82271200</td>\n",
              "      <td>-0.086957</td>\n",
              "      <td>-4</td>\n",
              "      <td>46</td>\n",
              "      <td>2</td>\n",
              "      <td>6</td>\n",
              "      <td>38</td>\n",
              "      <td>2018</td>\n",
              "      <td>2</td>\n",
              "      <td>1</td>\n",
              "    </tr>\n",
              "    <tr>\n",
              "      <th>...</th>\n",
              "      <td>...</td>\n",
              "      <td>...</td>\n",
              "      <td>...</td>\n",
              "      <td>...</td>\n",
              "      <td>...</td>\n",
              "      <td>...</td>\n",
              "      <td>...</td>\n",
              "      <td>...</td>\n",
              "      <td>...</td>\n",
              "      <td>...</td>\n",
              "      <td>...</td>\n",
              "      <td>...</td>\n",
              "      <td>...</td>\n",
              "      <td>...</td>\n",
              "      <td>...</td>\n",
              "      <td>...</td>\n",
              "    </tr>\n",
              "    <tr>\n",
              "      <th>1244</th>\n",
              "      <td>2022-12-09</td>\n",
              "      <td>142.339996</td>\n",
              "      <td>145.570007</td>\n",
              "      <td>140.899994</td>\n",
              "      <td>142.160004</td>\n",
              "      <td>144.490005</td>\n",
              "      <td>76069500</td>\n",
              "      <td>-0.030303</td>\n",
              "      <td>-2</td>\n",
              "      <td>66</td>\n",
              "      <td>10</td>\n",
              "      <td>12</td>\n",
              "      <td>44</td>\n",
              "      <td>2022</td>\n",
              "      <td>49</td>\n",
              "      <td>5</td>\n",
              "    </tr>\n",
              "    <tr>\n",
              "      <th>1245</th>\n",
              "      <td>2022-12-12</td>\n",
              "      <td>142.699997</td>\n",
              "      <td>144.500000</td>\n",
              "      <td>141.059998</td>\n",
              "      <td>144.490005</td>\n",
              "      <td>145.470001</td>\n",
              "      <td>70462700</td>\n",
              "      <td>-0.066667</td>\n",
              "      <td>-4</td>\n",
              "      <td>60</td>\n",
              "      <td>0</td>\n",
              "      <td>4</td>\n",
              "      <td>56</td>\n",
              "      <td>2022</td>\n",
              "      <td>50</td>\n",
              "      <td>1</td>\n",
              "    </tr>\n",
              "    <tr>\n",
              "      <th>1246</th>\n",
              "      <td>2022-12-13</td>\n",
              "      <td>149.500000</td>\n",
              "      <td>149.970001</td>\n",
              "      <td>144.240005</td>\n",
              "      <td>145.470001</td>\n",
              "      <td>143.210007</td>\n",
              "      <td>93886200</td>\n",
              "      <td>-0.039474</td>\n",
              "      <td>-3</td>\n",
              "      <td>76</td>\n",
              "      <td>3</td>\n",
              "      <td>6</td>\n",
              "      <td>67</td>\n",
              "      <td>2022</td>\n",
              "      <td>50</td>\n",
              "      <td>2</td>\n",
              "    </tr>\n",
              "    <tr>\n",
              "      <th>1247</th>\n",
              "      <td>2022-12-14</td>\n",
              "      <td>145.350006</td>\n",
              "      <td>146.660004</td>\n",
              "      <td>141.160004</td>\n",
              "      <td>143.210007</td>\n",
              "      <td>136.500000</td>\n",
              "      <td>82291200</td>\n",
              "      <td>-0.046875</td>\n",
              "      <td>-3</td>\n",
              "      <td>64</td>\n",
              "      <td>2</td>\n",
              "      <td>5</td>\n",
              "      <td>57</td>\n",
              "      <td>2022</td>\n",
              "      <td>50</td>\n",
              "      <td>3</td>\n",
              "    </tr>\n",
              "    <tr>\n",
              "      <th>1248</th>\n",
              "      <td>2022-12-15</td>\n",
              "      <td>141.110001</td>\n",
              "      <td>141.800003</td>\n",
              "      <td>136.029999</td>\n",
              "      <td>136.500000</td>\n",
              "      <td>134.509995</td>\n",
              "      <td>98931900</td>\n",
              "      <td>0.024390</td>\n",
              "      <td>2</td>\n",
              "      <td>82</td>\n",
              "      <td>9</td>\n",
              "      <td>7</td>\n",
              "      <td>66</td>\n",
              "      <td>2022</td>\n",
              "      <td>50</td>\n",
              "      <td>4</td>\n",
              "    </tr>\n",
              "  </tbody>\n",
              "</table>\n",
              "<p>1249 rows × 16 columns</p>\n",
              "</div>\n",
              "      <button class=\"colab-df-convert\" onclick=\"convertToInteractive('df-6058540a-619e-4117-ac95-5ddd255fe9ac')\"\n",
              "              title=\"Convert this dataframe to an interactive table.\"\n",
              "              style=\"display:none;\">\n",
              "        \n",
              "  <svg xmlns=\"http://www.w3.org/2000/svg\" height=\"24px\"viewBox=\"0 0 24 24\"\n",
              "       width=\"24px\">\n",
              "    <path d=\"M0 0h24v24H0V0z\" fill=\"none\"/>\n",
              "    <path d=\"M18.56 5.44l.94 2.06.94-2.06 2.06-.94-2.06-.94-.94-2.06-.94 2.06-2.06.94zm-11 1L8.5 8.5l.94-2.06 2.06-.94-2.06-.94L8.5 2.5l-.94 2.06-2.06.94zm10 10l.94 2.06.94-2.06 2.06-.94-2.06-.94-.94-2.06-.94 2.06-2.06.94z\"/><path d=\"M17.41 7.96l-1.37-1.37c-.4-.4-.92-.59-1.43-.59-.52 0-1.04.2-1.43.59L10.3 9.45l-7.72 7.72c-.78.78-.78 2.05 0 2.83L4 21.41c.39.39.9.59 1.41.59.51 0 1.02-.2 1.41-.59l7.78-7.78 2.81-2.81c.8-.78.8-2.07 0-2.86zM5.41 20L4 18.59l7.72-7.72 1.47 1.35L5.41 20z\"/>\n",
              "  </svg>\n",
              "      </button>\n",
              "      \n",
              "  <style>\n",
              "    .colab-df-container {\n",
              "      display:flex;\n",
              "      flex-wrap:wrap;\n",
              "      gap: 12px;\n",
              "    }\n",
              "\n",
              "    .colab-df-convert {\n",
              "      background-color: #E8F0FE;\n",
              "      border: none;\n",
              "      border-radius: 50%;\n",
              "      cursor: pointer;\n",
              "      display: none;\n",
              "      fill: #1967D2;\n",
              "      height: 32px;\n",
              "      padding: 0 0 0 0;\n",
              "      width: 32px;\n",
              "    }\n",
              "\n",
              "    .colab-df-convert:hover {\n",
              "      background-color: #E2EBFA;\n",
              "      box-shadow: 0px 1px 2px rgba(60, 64, 67, 0.3), 0px 1px 3px 1px rgba(60, 64, 67, 0.15);\n",
              "      fill: #174EA6;\n",
              "    }\n",
              "\n",
              "    [theme=dark] .colab-df-convert {\n",
              "      background-color: #3B4455;\n",
              "      fill: #D2E3FC;\n",
              "    }\n",
              "\n",
              "    [theme=dark] .colab-df-convert:hover {\n",
              "      background-color: #434B5C;\n",
              "      box-shadow: 0px 1px 3px 1px rgba(0, 0, 0, 0.15);\n",
              "      filter: drop-shadow(0px 1px 2px rgba(0, 0, 0, 0.3));\n",
              "      fill: #FFFFFF;\n",
              "    }\n",
              "  </style>\n",
              "\n",
              "      <script>\n",
              "        const buttonEl =\n",
              "          document.querySelector('#df-6058540a-619e-4117-ac95-5ddd255fe9ac button.colab-df-convert');\n",
              "        buttonEl.style.display =\n",
              "          google.colab.kernel.accessAllowed ? 'block' : 'none';\n",
              "\n",
              "        async function convertToInteractive(key) {\n",
              "          const element = document.querySelector('#df-6058540a-619e-4117-ac95-5ddd255fe9ac');\n",
              "          const dataTable =\n",
              "            await google.colab.kernel.invokeFunction('convertToInteractive',\n",
              "                                                     [key], {});\n",
              "          if (!dataTable) return;\n",
              "\n",
              "          const docLinkHtml = 'Like what you see? Visit the ' +\n",
              "            '<a target=\"_blank\" href=https://colab.research.google.com/notebooks/data_table.ipynb>data table notebook</a>'\n",
              "            + ' to learn more about interactive tables.';\n",
              "          element.innerHTML = '';\n",
              "          dataTable['output_type'] = 'display_data';\n",
              "          await google.colab.output.renderOutput(dataTable, element);\n",
              "          const docLink = document.createElement('div');\n",
              "          docLink.innerHTML = docLinkHtml;\n",
              "          element.appendChild(docLink);\n",
              "        }\n",
              "      </script>\n",
              "    </div>\n",
              "  </div>\n",
              "  "
            ]
          },
          "metadata": {},
          "execution_count": 26
        }
      ],
      "source": [
        "df_reg = df.copy()\n",
        "df_reg['Adj Close'] = df_reg['Adj Close'].shift(-1)\n",
        "df_reg.dropna(inplace=True)\n",
        "df_reg"
      ]
    },
    {
      "cell_type": "markdown",
      "source": [
        "###**DATA SPLITTING**\n",
        "\n"
      ],
      "metadata": {
        "id": "nTMf09cLsjdy"
      }
    },
    {
      "cell_type": "code",
      "execution_count": null,
      "metadata": {
        "id": "76ZkLBFYZcMU"
      },
      "outputs": [],
      "source": [
        "X = df_reg[['Open', 'High', 'Low', 'Close', 'Volume', 'twt_count', 'pos', 'neg', 'neutral']]\n",
        "y = df_reg['Adj Close']"
      ]
    },
    {
      "cell_type": "code",
      "execution_count": null,
      "metadata": {
        "colab": {
          "base_uri": "https://localhost:8080/"
        },
        "id": "jrPevfHC2k_R",
        "outputId": "aa8dc413-fbea-4c7d-dcd0-c0d955db87f3"
      },
      "outputs": [
        {
          "output_type": "stream",
          "name": "stdout",
          "text": [
            "<class 'pandas.core.frame.DataFrame'>\n",
            "Int64Index: 1249 entries, 0 to 1248\n",
            "Data columns (total 9 columns):\n",
            " #   Column     Non-Null Count  Dtype  \n",
            "---  ------     --------------  -----  \n",
            " 0   Open       1249 non-null   float64\n",
            " 1   High       1249 non-null   float64\n",
            " 2   Low        1249 non-null   float64\n",
            " 3   Close      1249 non-null   float64\n",
            " 4   Volume     1249 non-null   int64  \n",
            " 5   twt_count  1249 non-null   int64  \n",
            " 6   pos        1249 non-null   int64  \n",
            " 7   neg        1249 non-null   int64  \n",
            " 8   neutral    1249 non-null   int64  \n",
            "dtypes: float64(4), int64(5)\n",
            "memory usage: 97.6 KB\n"
          ]
        }
      ],
      "source": [
        "X.info()"
      ]
    },
    {
      "cell_type": "code",
      "execution_count": null,
      "metadata": {
        "colab": {
          "base_uri": "https://localhost:8080/"
        },
        "id": "21WTcHqjaYA0",
        "outputId": "2a65fba5-f464-4ac6-8338-523a82c1b974"
      },
      "outputs": [
        {
          "output_type": "stream",
          "name": "stdout",
          "text": [
            "(999, 9)\n",
            "(250, 9)\n",
            "(999,)\n",
            "(250,)\n"
          ]
        }
      ],
      "source": [
        "from sklearn.model_selection import train_test_split,GridSearchCV\n",
        "X_train, X_test, y_train, y_test = train_test_split(X, y, test_size=0.20, random_state=42, shuffle=False)\n",
        "print(X_train.shape)\n",
        "print(X_test.shape)\n",
        "print(y_train.shape)\n",
        "print(y_test.shape)"
      ]
    },
    {
      "cell_type": "markdown",
      "source": [
        "### **SCALING**"
      ],
      "metadata": {
        "id": "B6G26smmi7WQ"
      }
    },
    {
      "cell_type": "code",
      "source": [
        "from sklearn.preprocessing import MinMaxScaler\n",
        "from sklearn.pipeline import Pipeline"
      ],
      "metadata": {
        "id": "Mq9BGFKPjBFg"
      },
      "execution_count": null,
      "outputs": []
    },
    {
      "cell_type": "code",
      "source": [
        "num_pipeline = Pipeline([\n",
        "        ('scaler', MinMaxScaler())\n",
        "    ])\n",
        "\n",
        "X_train_tr = num_pipeline.fit_transform(pd.DataFrame(X_train[['Open', 'High', 'Low', 'Close', 'Volume', 'twt_count', 'pos', 'neg', 'neutral']]))\n",
        "X_train_tr"
      ],
      "metadata": {
        "id": "XQSGUaJmipgG",
        "colab": {
          "base_uri": "https://localhost:8080/"
        },
        "outputId": "51de5658-9685-4491-c30e-f5e254de0259"
      },
      "execution_count": null,
      "outputs": [
        {
          "output_type": "execute_result",
          "data": {
            "text/plain": [
              "array([[0.04509907, 0.04560741, 0.04866813, ..., 0.01123596, 0.03738318,\n",
              "        0.03065693],\n",
              "       [0.04918175, 0.04946809, 0.05348855, ..., 0.03370787, 0.05607477,\n",
              "        0.05109489],\n",
              "       [0.04919896, 0.04761496, 0.05370278, ..., 0.01123596, 0.06542056,\n",
              "        0.02919708],\n",
              "       ...,\n",
              "       [0.95858746, 0.98194918, 0.97700492, ..., 0.1011236 , 0.07476636,\n",
              "        0.06131387],\n",
              "       [0.9873213 , 0.99320518, 0.96586447, ..., 0.02247191, 0.06542056,\n",
              "        0.05547445],\n",
              "       [0.92289404, 0.94056278, 0.95829468, ..., 0.04494382, 0.03738318,\n",
              "        0.04525547]])"
            ]
          },
          "metadata": {},
          "execution_count": 37
        }
      ]
    },
    {
      "cell_type": "code",
      "source": [
        "X_test_tr = num_pipeline.transform(X_test)\n",
        "X_test_tr"
      ],
      "metadata": {
        "colab": {
          "base_uri": "https://localhost:8080/"
        },
        "id": "avoEw5MJkmuS",
        "outputId": "c091b3f0-0b00-413e-ed51-2fcbe0879033"
      },
      "execution_count": null,
      "outputs": [
        {
          "output_type": "execute_result",
          "data": {
            "text/plain": [
              "array([[0.91152457, 0.9207275 , 0.94236955, ..., 0.04494382, 0.07476636,\n",
              "        0.05693431],\n",
              "       [0.93412577, 0.93870962, 0.95422407, ..., 0.02247191, 0.00934579,\n",
              "        0.0350365 ],\n",
              "       [0.94432384, 0.95696634, 0.97586228, ..., 0.06741573, 0.03738318,\n",
              "        0.03211679],\n",
              "       ...,\n",
              "       [0.78211889, 0.77927246, 0.77654793, ..., 0.03370787, 0.05607477,\n",
              "        0.08905109],\n",
              "       [0.75352289, 0.75655456, 0.75455263, ..., 0.02247191, 0.04672897,\n",
              "        0.07445255],\n",
              "       [0.72430666, 0.72319835, 0.71791759, ..., 0.1011236 , 0.06542056,\n",
              "        0.08759124]])"
            ]
          },
          "metadata": {},
          "execution_count": 32
        }
      ]
    },
    {
      "cell_type": "markdown",
      "source": [
        "# **III. MACHINE LEARNING MODELS**\n",
        "\n",
        "In this section, we will test various model algorithm then we will choose the best model to deploy."
      ],
      "metadata": {
        "id": "bGDCufPj1A5V"
      }
    },
    {
      "cell_type": "markdown",
      "source": [
        "##**MODEL DEFINITION**\n",
        "\n",
        "For this section, I will use several models from machine learning, namely :\n",
        "\n",
        "- Linear Regression.\n",
        "- Decision Tree.\n",
        "- Random Forest.\n",
        "- Support Vector Machine.\n",
        "\n",
        "Also later in this section I will do a GridSearch based on the best models I trained."
      ],
      "metadata": {
        "id": "_Lp3n166yYJE"
      }
    },
    {
      "cell_type": "code",
      "execution_count": null,
      "metadata": {
        "id": "UK1MK13Xj5Br"
      },
      "outputs": [],
      "source": [
        "from sklearn.linear_model import LinearRegression\n",
        "from sklearn.tree import DecisionTreeRegressor\n",
        "from sklearn.ensemble import RandomForestRegressor\n",
        "from sklearn.svm import SVR"
      ]
    },
    {
      "cell_type": "code",
      "execution_count": null,
      "metadata": {
        "id": "J28kC1S-j9EP"
      },
      "outputs": [],
      "source": [
        "from sklearn.model_selection import train_test_split,GridSearchCV"
      ]
    },
    {
      "cell_type": "markdown",
      "source": [
        "#####**MODEL DEFINITION**"
      ],
      "metadata": {
        "id": "EmSFTrpz0o12"
      }
    },
    {
      "cell_type": "code",
      "execution_count": null,
      "metadata": {
        "id": "jOGwZxbWVL9a"
      },
      "outputs": [],
      "source": [
        "lin_reg = LinearRegression()\n",
        "dtr = DecisionTreeRegressor()\n",
        "rfr = RandomForestRegressor()\n",
        "svr = SVR()"
      ]
    },
    {
      "cell_type": "markdown",
      "metadata": {
        "id": "hbUzJXDHkFOr"
      },
      "source": [
        "**LINEAR REGRESSION**\n",
        "\n"
      ]
    },
    {
      "cell_type": "code",
      "execution_count": null,
      "metadata": {
        "colab": {
          "base_uri": "https://localhost:8080/"
        },
        "id": "JSwOjFrdjvy8",
        "outputId": "23d8bc01-ecde-48c5-a4cb-24a2143a2539"
      },
      "outputs": [
        {
          "output_type": "stream",
          "name": "stdout",
          "text": [
            "-------------------- TRAINING --------------------\n",
            "Mean absolute error: 1.2161885128570857\n",
            "RMSE : 1.7493284565373806\n",
            "-------------------- TEST --------------------\n",
            "Mean absolute error: 2.768414099330313\n",
            "RMSE : 3.5326573997582336\n"
          ]
        }
      ],
      "source": [
        "lin_reg.fit(X_train_tr,y_train)\n",
        "pred_train_lr = lin_reg.predict(X_train_tr)\n",
        "pred_test_lr = lin_reg.predict(X_test_tr)\n",
        "\n",
        "print(\"-\"*20,\"TRAINING\",\"-\"*20)\n",
        "print(\"Mean absolute error:\",mean_absolute_error(y_train,pred_train_lr))\n",
        "print('RMSE :', np.sqrt(mean_squared_error(y_train, pred_train_lr)))\n",
        "print(\"-\"*20,\"TEST\",\"-\"*20)\n",
        "print(\"Mean absolute error:\",mean_absolute_error(y_test,pred_test_lr))\n",
        "print('RMSE :', np.sqrt(mean_squared_error(y_test, pred_test_lr)))\n"
      ]
    },
    {
      "cell_type": "markdown",
      "source": [
        "For MAE and RMSE test scores, the best is close to 0.\n",
        "From the results of the linear regression model above, the MAE value is 2.7 and the RMSE is 3.5 which means that the linear regression model is overfit, but not too significant so we can consider this model to be used."
      ],
      "metadata": {
        "id": "ObOoBHyWsOEV"
      }
    },
    {
      "cell_type": "markdown",
      "metadata": {
        "id": "w30EMEkwkv97"
      },
      "source": [
        "#####**DECISION TREE REGRESSOR**"
      ]
    },
    {
      "cell_type": "code",
      "execution_count": null,
      "metadata": {
        "colab": {
          "base_uri": "https://localhost:8080/"
        },
        "id": "Yz9VVSR5kKV5",
        "outputId": "40a9b7ed-8477-4858-edd2-06322108db7c"
      },
      "outputs": [
        {
          "output_type": "stream",
          "name": "stdout",
          "text": [
            "-------------------- TRAINING --------------------\n",
            "Mean absolute error: 0.0\n",
            "RMSE : 0.0\n",
            "-------------------- TEST --------------------\n",
            "Mean absolute error: 4.164898895263672\n",
            "RMSE : 5.217713533702885\n"
          ]
        }
      ],
      "source": [
        "dtr.fit(X_train,y_train)\n",
        "pred_train_dt = dtr.predict(X_train)\n",
        "pred_test_dt = dtr.predict(X_test)\n",
        "\n",
        "print(\"-\"*20,\"TRAINING\",\"-\"*20)\n",
        "print(\"Mean absolute error:\",mean_absolute_error(y_train,pred_train_dt))\n",
        "print('RMSE :', np.sqrt(mean_squared_error(y_train, pred_train_dt)))\n",
        "print(\"-\"*20,\"TEST\",\"-\"*20)\n",
        "print(\"Mean absolute error:\",mean_absolute_error(y_test,pred_test_dt))\n",
        "print('RMSE :', np.sqrt(mean_squared_error(y_test, pred_test_dt)))\n",
        "\n"
      ]
    },
    {
      "cell_type": "markdown",
      "source": [
        "From the results of the decision tree regressor model above, the MAE value is 4.1 and the RMSE is 5.2 which means that the decision tree regressor model is quite overfit, this model is not better than the linear regression model."
      ],
      "metadata": {
        "id": "2OFYANAxvKbV"
      }
    },
    {
      "cell_type": "markdown",
      "metadata": {
        "id": "q-_jKJXelEDD"
      },
      "source": [
        "#####**RANDOM FOREST REGRESSOR**"
      ]
    },
    {
      "cell_type": "code",
      "execution_count": null,
      "metadata": {
        "colab": {
          "base_uri": "https://localhost:8080/"
        },
        "id": "dca2Sgc4k-2n",
        "outputId": "efeffa72-abdd-41fe-e7e0-a9830396193e"
      },
      "outputs": [
        {
          "output_type": "stream",
          "name": "stdout",
          "text": [
            "==================== TRAINING ====================\n",
            "Mean absolute error: 0.5023617194770454\n",
            "RMSE : 0.7693747452029861\n",
            "==================== TEST ====================\n",
            "Mean absolute error: 3.184537073059082\n",
            "RMSE : 3.915814266820376\n"
          ]
        }
      ],
      "source": [
        "rfr.fit(X_train,y_train)\n",
        "pred_train_rf = rfr.predict(X_train)\n",
        "pred_test_rf = rfr.predict(X_test)\n",
        "\n",
        "print(\"=\"*20,\"TRAINING\",\"=\"*20)\n",
        "print(\"Mean absolute error:\",mean_absolute_error(y_train,pred_train_rf))\n",
        "print('RMSE :', np.sqrt(mean_squared_error(y_train, pred_train_rf)))\n",
        "\n",
        "print(\"=\"*20,\"TEST\",\"=\"*20)\n",
        "print(\"Mean absolute error:\",mean_absolute_error(y_test,pred_test_rf))\n",
        "print('RMSE :', np.sqrt(mean_squared_error(y_test, pred_test_rf)))\n",
        "\n"
      ]
    },
    {
      "cell_type": "markdown",
      "source": [
        "From the results of the Random Forest regressor model above, the MAE value is 3.1 and the RMSE is 3.9 which means that the Random Forest regressor model is quite overfit, this model is worse than the linear regression model, but better than the decision tree regressor."
      ],
      "metadata": {
        "id": "MpcB1pDswauk"
      }
    },
    {
      "cell_type": "markdown",
      "metadata": {
        "id": "qlinBmZ5lXMJ"
      },
      "source": [
        "**SUPPORT MACHINE REGRESSOR**"
      ]
    },
    {
      "cell_type": "code",
      "execution_count": null,
      "metadata": {
        "colab": {
          "base_uri": "https://localhost:8080/"
        },
        "id": "3z5aYRc2ldRT",
        "outputId": "9c93f0fe-375b-425b-e000-e8ca5986efdc"
      },
      "outputs": [
        {
          "output_type": "stream",
          "name": "stdout",
          "text": [
            "==================== TRAINING ====================\n",
            "Mean absolute error: 33.74513454474825\n",
            "RMSE : 41.44443465230446\n",
            "==================== TEST ====================\n",
            "Mean absolute error: 84.60915405136564\n",
            "RMSE : 85.55142364231281\n"
          ]
        }
      ],
      "source": [
        "svr.fit(X_train,y_train)\n",
        "pred_train_svr = svr.predict(X_train)\n",
        "pred_test_svr = svr.predict(X_test)\n",
        "\n",
        "print(\"=\"*20,\"TRAINING\",\"=\"*20)\n",
        "print(\"Mean absolute error:\",mean_absolute_error(y_train,pred_train_svr))\n",
        "print('RMSE :', np.sqrt(mean_squared_error(y_train, pred_train_svr)))\n",
        "\n",
        "print(\"=\"*20,\"TEST\",\"=\"*20)\n",
        "print(\"Mean absolute error:\",mean_absolute_error(y_test,pred_test_svr))\n",
        "print('RMSE :', np.sqrt(mean_squared_error(y_test, pred_test_svr)))\n"
      ]
    },
    {
      "cell_type": "markdown",
      "source": [
        "From the results of the support machine regressor model above, the MAE value is 41.4 and the RMSE is 85.5 which means that the support machine regressor model is very overfit, this model is the worst model compare to 3 previous models."
      ],
      "metadata": {
        "id": "UGixIGlEw7gc"
      }
    },
    {
      "cell_type": "markdown",
      "source": [
        "#####**GRID SEARCH**\n",
        "\n",
        "Now we enter the search grid section. Grid search refers to a technique used to identify optimal hyperparameters for a model. Unlike parameters, finding hyperparameters in training data is unattainable. Therefore, to find the right hyperparameters, we create a model for each combination of hyperparameters.\n",
        "\n",
        "Grid search is considered a very traditional method of hyperparameter optimization because we are essentially \"forcing\" all possible combinations. The model that boasts the best accuracy is naturally considered the best.\n",
        "\n",
        "For GridSearch, I'll be using Linear Regression as the model to tune."
      ],
      "metadata": {
        "id": "aCQyhj42QLyb"
      }
    },
    {
      "cell_type": "markdown",
      "metadata": {
        "id": "9dJtbiANmClK"
      },
      "source": [
        "**LINEAR REGRESSION TUNING**"
      ]
    },
    {
      "cell_type": "code",
      "execution_count": null,
      "metadata": {
        "colab": {
          "base_uri": "https://localhost:8080/"
        },
        "id": "_9tImPaDljAl",
        "outputId": "1d1214ab-ae51-4424-e7a2-cb92328a4025"
      },
      "outputs": [
        {
          "output_type": "execute_result",
          "data": {
            "text/plain": [
              "GridSearchCV(cv=5, estimator=LinearRegression(),\n",
              "             param_grid=[{'fit_intercept': [True, False],\n",
              "                          'normalize': [True, False]}],\n",
              "             return_train_score=True, scoring='r2')"
            ]
          },
          "metadata": {},
          "execution_count": 44
        }
      ],
      "source": [
        "params = [\n",
        "    {'fit_intercept': [True,False],                           \n",
        "     'normalize': [True,False],         \n",
        "    }         \n",
        "  ]\n",
        "\n",
        "grid_search = GridSearchCV(lin_reg, params, cv=5,\n",
        "                           scoring='r2',\n",
        "                           return_train_score=True)\n",
        "grid_search.fit(X_train, y_train)"
      ]
    },
    {
      "cell_type": "code",
      "execution_count": null,
      "metadata": {
        "colab": {
          "base_uri": "https://localhost:8080/"
        },
        "id": "XeLPZjYemL0o",
        "outputId": "24c6459a-3eb5-42cf-ae0a-f799f80785a7"
      },
      "outputs": [
        {
          "output_type": "stream",
          "name": "stdout",
          "text": [
            "Best Parameter : {'fit_intercept': True, 'normalize': True}\n",
            "Best Score     : 0.9636579975004796\n"
          ]
        }
      ],
      "source": [
        "print('Best Parameter :', grid_search.best_params_)\n",
        "print('Best Score     :', grid_search.best_score_)"
      ]
    },
    {
      "cell_type": "code",
      "execution_count": null,
      "metadata": {
        "colab": {
          "base_uri": "https://localhost:8080/"
        },
        "id": "LX2NLlynmdj4",
        "outputId": "5219b83a-b652-41c5-93f0-bbff15d1fc7c"
      },
      "outputs": [
        {
          "output_type": "execute_result",
          "data": {
            "text/plain": [
              "LinearRegression(normalize=True)"
            ]
          },
          "metadata": {},
          "execution_count": 46
        }
      ],
      "source": [
        "linreg_tuned = grid_search.best_estimator_\n",
        "linreg_tuned.fit(X_train, y_train)"
      ]
    },
    {
      "cell_type": "code",
      "source": [
        "X_train.shape, y_train.shape"
      ],
      "metadata": {
        "colab": {
          "base_uri": "https://localhost:8080/"
        },
        "id": "x4WSJimVXPHA",
        "outputId": "3cd168d8-3fcd-48bc-fe0e-3ef19a1442c1"
      },
      "execution_count": null,
      "outputs": [
        {
          "output_type": "execute_result",
          "data": {
            "text/plain": [
              "((999, 9), (999,))"
            ]
          },
          "metadata": {},
          "execution_count": 47
        }
      ]
    },
    {
      "cell_type": "code",
      "source": [
        "X_test.shape, y_test.shape"
      ],
      "metadata": {
        "colab": {
          "base_uri": "https://localhost:8080/"
        },
        "id": "eRuG5CfFXOMD",
        "outputId": "bc05c245-a521-495f-e2f2-2452d81200d9"
      },
      "execution_count": null,
      "outputs": [
        {
          "output_type": "execute_result",
          "data": {
            "text/plain": [
              "((250, 9), (250,))"
            ]
          },
          "metadata": {},
          "execution_count": 48
        }
      ]
    },
    {
      "cell_type": "markdown",
      "metadata": {
        "id": "KZ1KH4UZmm94"
      },
      "source": [
        "> Model Performance:"
      ]
    },
    {
      "cell_type": "code",
      "execution_count": null,
      "metadata": {
        "colab": {
          "base_uri": "https://localhost:8080/"
        },
        "id": "9q8Xqr2umkGx",
        "outputId": "1a3e7dca-4bc1-4845-99df-efd794bb5a66"
      },
      "outputs": [
        {
          "output_type": "stream",
          "name": "stdout",
          "text": [
            "==================== TRAINING ====================\n",
            "Mean absolute error: 1.2161885128570862\n",
            "Mean Squared Error : 1.7493284565373812\n",
            " \n",
            "==================== TEST ====================\n",
            "Mean absolute error: 2.76841409933032\n",
            "Mean Squared Error : 3.5326573997582433\n"
          ]
        }
      ],
      "source": [
        "pred_train_linreg = linreg_tuned.predict(X_train)\n",
        "pred_test_linreg = linreg_tuned.predict(X_test)\n",
        "\n",
        "print(\"=\"*20,\"TRAINING\",\"=\"*20)\n",
        "print(\"Mean absolute error:\",mean_absolute_error(y_train,pred_train_linreg))\n",
        "print(\"Mean Squared Error :\",np.sqrt(mean_squared_error(y_train, pred_train_linreg)))\n",
        "print(' ')\n",
        "print(\"=\"*20,\"TEST\",\"=\"*20)\n",
        "print(\"Mean absolute error:\",mean_absolute_error(y_test,pred_test_linreg))\n",
        "print(\"Mean Squared Error :\",np.sqrt(mean_squared_error(y_test, pred_test_linreg)))"
      ]
    },
    {
      "cell_type": "markdown",
      "source": [
        "The results of the linear regression model that we have tuned have better MAE and RMSE values ​​than the linear regression before tuning, but the difference in scores is very thin."
      ],
      "metadata": {
        "id": "nR1NRRkEx0v5"
      }
    },
    {
      "cell_type": "markdown",
      "source": [
        "#### **PIPELINE MODEL**\n",
        "\n",
        "After tuning the linear regression model, now I will try to use pipeline here to make the inferencing process faster.\n",
        "\n"
      ],
      "metadata": {
        "id": "HwW0PQmnmj5S"
      }
    },
    {
      "cell_type": "code",
      "source": [
        "all_process = Pipeline([\n",
        "    (\"preprocessing\", num_pipeline),\n",
        "    (\"regression\", linreg_tuned)\n",
        "])\n",
        "all_process.fit(X_train, y_train)"
      ],
      "metadata": {
        "colab": {
          "base_uri": "https://localhost:8080/"
        },
        "id": "nSHgbXrMmmgu",
        "outputId": "15f87361-4c0b-4bf0-de22-d621bdc0b448"
      },
      "execution_count": null,
      "outputs": [
        {
          "output_type": "execute_result",
          "data": {
            "text/plain": [
              "Pipeline(steps=[('preprocessing', Pipeline(steps=[('scaler', MinMaxScaler())])),\n",
              "                ('regression', LinearRegression(normalize=True))])"
            ]
          },
          "metadata": {},
          "execution_count": 63
        }
      ]
    },
    {
      "cell_type": "markdown",
      "source": [
        "#### **PLOTTING MODEL PERFORMANCE**"
      ],
      "metadata": {
        "id": "wmyrVjL1n02l"
      }
    },
    {
      "cell_type": "code",
      "source": [
        "X_test[\"Forecast_test\"] = all_process.predict(X_test)"
      ],
      "metadata": {
        "id": "X--_a_HEoAsA"
      },
      "execution_count": null,
      "outputs": []
    },
    {
      "cell_type": "code",
      "source": [
        "y_test = pd.DataFrame(y_test)"
      ],
      "metadata": {
        "id": "u7N0d7r2oGMU"
      },
      "execution_count": null,
      "outputs": []
    },
    {
      "cell_type": "code",
      "source": [
        "X_test[\"Adj Close\"] = y_test[\"Adj Close\"]"
      ],
      "metadata": {
        "id": "TFn3OgBWoJew"
      },
      "execution_count": null,
      "outputs": []
    },
    {
      "cell_type": "code",
      "source": [
        "X_test[[\"Adj Close\", \"Forecast_test\"]].plot(figsize=(13,6))\n",
        "plt.title(\"Forecasting on Test Set\", size=15)\n",
        "plt.show()"
      ],
      "metadata": {
        "colab": {
          "base_uri": "https://localhost:8080/",
          "height": 392
        },
        "id": "63-35J9soMly",
        "outputId": "5522a56c-15b6-4ba1-aa3d-e5e9806bc1d0"
      },
      "execution_count": null,
      "outputs": [
        {
          "output_type": "display_data",
          "data": {
            "text/plain": [
              "<Figure size 936x432 with 1 Axes>"
            ],
            "image/png": "[encoded data removed]"
          },
          "metadata": {
            "needs_background": "light"
          }
        }
      ]
    },
    {
      "cell_type": "markdown",
      "source": [
        "It can be seen from the plot above that `Adj Close` and `Forecast_Test` have almost the same line."
      ],
      "metadata": {
        "id": "WUduwSIO2ioL"
      }
    },
    {
      "cell_type": "markdown",
      "source": [
        "#### **INFERENCING**"
      ],
      "metadata": {
        "id": "YK4Q_sYgoXlM"
      }
    },
    {
      "cell_type": "code",
      "source": [
        "data = df.iloc[-1:]\n",
        "data = data[['Open', 'High', 'Low', 'Close', 'Volume', 'twt_count', 'pos', 'neg', 'neutral']]\n",
        "data"
      ],
      "metadata": {
        "colab": {
          "base_uri": "https://localhost:8080/",
          "height": 81
        },
        "id": "rxyLGqEUoaci",
        "outputId": "8b9132b9-b37f-4702-ee76-6749d7e12535"
      },
      "execution_count": null,
      "outputs": [
        {
          "output_type": "execute_result",
          "data": {
            "text/plain": [
              "            Open        High         Low       Close     Volume  twt_count  \\\n",
              "1249  136.690002  137.649994  133.729996  134.509995  160080100         88   \n",
              "\n",
              "      pos  neg  neutral  \n",
              "1249    5   16       67  "
            ],
            "text/html": [
              "\n",
              "  <div id=\"df-a868c8d5-fa3b-4a70-8283-2eecec0a0e7b\">\n",
              "    <div class=\"colab-df-container\">\n",
              "      <div>\n",
              "<style scoped>\n",
              "    .dataframe tbody tr th:only-of-type {\n",
              "        vertical-align: middle;\n",
              "    }\n",
              "\n",
              "    .dataframe tbody tr th {\n",
              "        vertical-align: top;\n",
              "    }\n",
              "\n",
              "    .dataframe thead th {\n",
              "        text-align: right;\n",
              "    }\n",
              "</style>\n",
              "<table border=\"1\" class=\"dataframe\">\n",
              "  <thead>\n",
              "    <tr style=\"text-align: right;\">\n",
              "      <th></th>\n",
              "      <th>Open</th>\n",
              "      <th>High</th>\n",
              "      <th>Low</th>\n",
              "      <th>Close</th>\n",
              "      <th>Volume</th>\n",
              "      <th>twt_count</th>\n",
              "      <th>pos</th>\n",
              "      <th>neg</th>\n",
              "      <th>neutral</th>\n",
              "    </tr>\n",
              "  </thead>\n",
              "  <tbody>\n",
              "    <tr>\n",
              "      <th>1249</th>\n",
              "      <td>136.690002</td>\n",
              "      <td>137.649994</td>\n",
              "      <td>133.729996</td>\n",
              "      <td>134.509995</td>\n",
              "      <td>160080100</td>\n",
              "      <td>88</td>\n",
              "      <td>5</td>\n",
              "      <td>16</td>\n",
              "      <td>67</td>\n",
              "    </tr>\n",
              "  </tbody>\n",
              "</table>\n",
              "</div>\n",
              "      <button class=\"colab-df-convert\" onclick=\"convertToInteractive('df-a868c8d5-fa3b-4a70-8283-2eecec0a0e7b')\"\n",
              "              title=\"Convert this dataframe to an interactive table.\"\n",
              "              style=\"display:none;\">\n",
              "        \n",
              "  <svg xmlns=\"http://www.w3.org/2000/svg\" height=\"24px\"viewBox=\"0 0 24 24\"\n",
              "       width=\"24px\">\n",
              "    <path d=\"M0 0h24v24H0V0z\" fill=\"none\"/>\n",
              "    <path d=\"M18.56 5.44l.94 2.06.94-2.06 2.06-.94-2.06-.94-.94-2.06-.94 2.06-2.06.94zm-11 1L8.5 8.5l.94-2.06 2.06-.94-2.06-.94L8.5 2.5l-.94 2.06-2.06.94zm10 10l.94 2.06.94-2.06 2.06-.94-2.06-.94-.94-2.06-.94 2.06-2.06.94z\"/><path d=\"M17.41 7.96l-1.37-1.37c-.4-.4-.92-.59-1.43-.59-.52 0-1.04.2-1.43.59L10.3 9.45l-7.72 7.72c-.78.78-.78 2.05 0 2.83L4 21.41c.39.39.9.59 1.41.59.51 0 1.02-.2 1.41-.59l7.78-7.78 2.81-2.81c.8-.78.8-2.07 0-2.86zM5.41 20L4 18.59l7.72-7.72 1.47 1.35L5.41 20z\"/>\n",
              "  </svg>\n",
              "      </button>\n",
              "      \n",
              "  <style>\n",
              "    .colab-df-container {\n",
              "      display:flex;\n",
              "      flex-wrap:wrap;\n",
              "      gap: 12px;\n",
              "    }\n",
              "\n",
              "    .colab-df-convert {\n",
              "      background-color: #E8F0FE;\n",
              "      border: none;\n",
              "      border-radius: 50%;\n",
              "      cursor: pointer;\n",
              "      display: none;\n",
              "      fill: #1967D2;\n",
              "      height: 32px;\n",
              "      padding: 0 0 0 0;\n",
              "      width: 32px;\n",
              "    }\n",
              "\n",
              "    .colab-df-convert:hover {\n",
              "      background-color: #E2EBFA;\n",
              "      box-shadow: 0px 1px 2px rgba(60, 64, 67, 0.3), 0px 1px 3px 1px rgba(60, 64, 67, 0.15);\n",
              "      fill: #174EA6;\n",
              "    }\n",
              "\n",
              "    [theme=dark] .colab-df-convert {\n",
              "      background-color: #3B4455;\n",
              "      fill: #D2E3FC;\n",
              "    }\n",
              "\n",
              "    [theme=dark] .colab-df-convert:hover {\n",
              "      background-color: #434B5C;\n",
              "      box-shadow: 0px 1px 3px 1px rgba(0, 0, 0, 0.15);\n",
              "      filter: drop-shadow(0px 1px 2px rgba(0, 0, 0, 0.3));\n",
              "      fill: #FFFFFF;\n",
              "    }\n",
              "  </style>\n",
              "\n",
              "      <script>\n",
              "        const buttonEl =\n",
              "          document.querySelector('#df-a868c8d5-fa3b-4a70-8283-2eecec0a0e7b button.colab-df-convert');\n",
              "        buttonEl.style.display =\n",
              "          google.colab.kernel.accessAllowed ? 'block' : 'none';\n",
              "\n",
              "        async function convertToInteractive(key) {\n",
              "          const element = document.querySelector('#df-a868c8d5-fa3b-4a70-8283-2eecec0a0e7b');\n",
              "          const dataTable =\n",
              "            await google.colab.kernel.invokeFunction('convertToInteractive',\n",
              "                                                     [key], {});\n",
              "          if (!dataTable) return;\n",
              "\n",
              "          const docLinkHtml = 'Like what you see? Visit the ' +\n",
              "            '<a target=\"_blank\" href=https://colab.research.google.com/notebooks/data_table.ipynb>data table notebook</a>'\n",
              "            + ' to learn more about interactive tables.';\n",
              "          element.innerHTML = '';\n",
              "          dataTable['output_type'] = 'display_data';\n",
              "          await google.colab.output.renderOutput(dataTable, element);\n",
              "          const docLink = document.createElement('div');\n",
              "          docLink.innerHTML = docLinkHtml;\n",
              "          element.appendChild(docLink);\n",
              "        }\n",
              "      </script>\n",
              "    </div>\n",
              "  </div>\n",
              "  "
            ]
          },
          "metadata": {},
          "execution_count": 72
        }
      ]
    },
    {
      "cell_type": "markdown",
      "source": [
        "> Predicting Tomorow's Price"
      ],
      "metadata": {
        "id": "4mYIbyK6oxyQ"
      }
    },
    {
      "cell_type": "code",
      "source": [
        "forecast = all_process.predict(data)\n",
        "forecast"
      ],
      "metadata": {
        "colab": {
          "base_uri": "https://localhost:8080/"
        },
        "id": "EGncqFcKosvM",
        "outputId": "fc39158f-9bc2-45c5-ba49-10c9db2d8dbe"
      },
      "execution_count": null,
      "outputs": [
        {
          "output_type": "execute_result",
          "data": {
            "text/plain": [
              "array([133.32146132])"
            ]
          },
          "metadata": {},
          "execution_count": 73
        }
      ]
    },
    {
      "cell_type": "markdown",
      "source": [
        "# **IV. SAVING MODEL**"
      ],
      "metadata": {
        "id": "byyjJxxlpP8-"
      }
    },
    {
      "cell_type": "code",
      "source": [
        "import pickle as pkl"
      ],
      "metadata": {
        "id": "1PczbHONpTkY"
      },
      "execution_count": null,
      "outputs": []
    },
    {
      "cell_type": "code",
      "source": [
        "pickle.dump(all_process, open(\"preprocess.pkl\", \"wb\"))"
      ],
      "metadata": {
        "id": "WxFZbd_rpTiC"
      },
      "execution_count": null,
      "outputs": []
    },
    {
      "cell_type": "code",
      "source": [
        "model = pickle.load(open(\"preprocess.pkl\", \"rb\"))"
      ],
      "metadata": {
        "id": "Dwc-qJ6MpTfb"
      },
      "execution_count": null,
      "outputs": []
    },
    {
      "cell_type": "markdown",
      "source": [
        "#**V. CONCLUSION**\n",
        "\n",
        "- We use all four models to find which machine learning model is the best, namely Linear Regression, Decision Tree, Random Forest, Support Vector Machine. Out of the four models the best is linear regression, and after we have tuned the MAE and RMSE values ​​of the tuned linear regression are better than those before tuning although the changes in values ​​are not too significant."
      ],
      "metadata": {
        "id": "przYycFwywCR"
      }
    }
  ],
  "metadata": {
    "colab": {
      "provenance": []
    },
    "kernelspec": {
      "display_name": "Python 3",
      "name": "python3"
    },
    "language_info": {
      "name": "python"
    },
    "accelerator": "GPU",
    "gpuClass": "standard"
  },
  "nbformat": 4,
  "nbformat_minor": 0
}